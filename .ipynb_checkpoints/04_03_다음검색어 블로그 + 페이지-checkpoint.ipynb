{
 "cells": [
  {
   "cell_type": "markdown",
   "metadata": {},
   "source": [
    "# 페이징 url 분석"
   ]
  },
  {
   "cell_type": "code",
   "execution_count": null,
   "metadata": {},
   "outputs": [],
   "source": [
    "\"\"\"\n",
    "https://search.daum.net/search\n",
    "?\n",
    "w=blog&\n",
    "DA=PGD&\n",
    "enc=utf8&\n",
    "q=%EC%BD%94%EB%A1%9C%EB%82%98&\n",
    "page=3\n",
    "\"\"\"\n",
    "None\n",
    "\n",
    "# page= <- 동작하는지 확인"
   ]
  },
  {
   "cell_type": "code",
   "execution_count": 6,
   "metadata": {},
   "outputs": [],
   "source": [
    "import requests\n",
    "from bs4 import BeautifulSoup\n",
    "import urllib.parse as urlparser"
   ]
  },
  {
   "cell_type": "code",
   "execution_count": 17,
   "metadata": {},
   "outputs": [
    {
     "name": "stdout",
     "output_type": "stream",
     "text": [
      "10 페이지 크롤링중...\n",
      "https://search.daum.net/search?w=blog&DA=PGD&enc=utf8&q=%ED%8C%8C%EC%9D%B4%EC%8D%AC&page=10\n"
     ]
    }
   ],
   "source": [
    "def crawl_daum_blog(keyword, page=1):\n",
    "    print(page,'페이지 크롤링중...')\n",
    "    keyword = urlparser.quote(keyword)\n",
    "    url = 'https://search.daum.net/search?w=blog&DA=PGD&enc=utf8&q={search}&page={page}'.format(search=keyword, page=page)\n",
    "    \n",
    "    print(url)\n",
    "    \n",
    "crawl_daum_blog('파이썬', 10)"
   ]
  },
  {
   "cell_type": "code",
   "execution_count": 21,
   "metadata": {},
   "outputs": [],
   "source": [
    "def crawl_daum_blog(keyword, page=1):\n",
    "    keyword = urlparser.quote(keyword)\n",
    "    url = \"https://search.daum.net/search?w=blog&DA=PGD&enc=utf8&q={search}&page={page}\".format(search=keyword, page=page)\n",
    "    \n",
    "    \n",
    "    response = requests.get(url)\n",
    "    dom = BeautifulSoup(response.text,\"html.parser\")\n",
    "    item_list = dom.select(\"div#blogColl .coll_cont ul.list_info li\")\n",
    "\n",
    "    result = [\n",
    "        {\n",
    "            \"post_title\" : item.select_one(\".f_link_b\").text.strip()\n",
    "            , \"blog_title\" : item.select_one(\".info .f_nb\").text.strip()\n",
    "        }\n",
    "        for item in item_list\n",
    "    ]\n",
    "    return result "
   ]
  },
  {
   "cell_type": "code",
   "execution_count": 22,
   "metadata": {},
   "outputs": [
    {
     "data": {
      "text/plain": [
       "[{'post_title': '[파이썬 기초 #1] Python 설치하기 (feat. Anaconda)',\n",
       "  'blog_title': '포푸리의 지식 스토리'},\n",
       " {'post_title': '10. 파이썬 리스트', 'blog_title': '명문 올림피아드 컴퓨...'},\n",
       " {'post_title': '파이썬 함수 코드 스타일 PEP20 - 1', 'blog_title': 'SIKALEO'},\n",
       " {'post_title': '파이썬 주식 수익 알고리즘 #15', 'blog_title': 'The DataBase that i ...'},\n",
       " {'post_title': 'Python_B001_파이썬 설치', 'blog_title': \"Yoon's\"},\n",
       " {'post_title': 'Python (파이썬) Matplotlib, Seaborn 시각화',\n",
       "  'blog_title': '좋은 개발자가 되자'},\n",
       " {'post_title': '파이썬 ( Python) 이란? 장단점도 알아보아요', 'blog_title': '윈썸지니의 별책부록'},\n",
       " {'post_title': '아나콘다를 설치해보자! - 파이썬 데이터분석', 'blog_title': '일을 즐기는 자'},\n",
       " {'post_title': '[파이썬강좌] 파이썬이란??', 'blog_title': '주원이의 일상'},\n",
       " {'post_title': '파이썬 에디터는 어떤걸로?', 'blog_title': 'ESS R&D (Embedded se...'}]"
      ]
     },
     "execution_count": 22,
     "metadata": {},
     "output_type": "execute_result"
    }
   ],
   "source": [
    "crawl_daum_blog('파이썬',5)"
   ]
  },
  {
   "cell_type": "code",
   "execution_count": 29,
   "metadata": {},
   "outputs": [
    {
     "name": "stdout",
     "output_type": "stream",
     "text": [
      "[{'post_title': '[밑바닥] 1. 헬로 파이썬', 'blog_title': \"Rookie's Programming\"}, {'post_title': '이클립스 파이썬 개발환경 설정하기!', 'blog_title': '마이자몽'}, {'post_title': '파이썬프로그래밍 파이썬 입문', 'blog_title': 'ITPLE과 함께하는 신...'}, {'post_title': '[파이썬] 아나콘다 설치 하기!', 'blog_title': '세상에 발자취를 남기...'}, {'post_title': '파이썬 프로그래밍 인강으로 시작하자', 'blog_title': '영쌤의 티스토리'}, {'post_title': '[Python] 파이썬의 변수, 상수', 'blog_title': '화장품 이야기'}, {'post_title': '파이썬 설치 방법', 'blog_title': '배워서 남주자'}, {'post_title': '[Python] 파이썬 기본 문법', 'blog_title': '컴퓨터공학,  통계학,...'}, {'post_title': '파이썬 무작정 독학하기 : 기본설치', 'blog_title': '이슈포인트'}, {'post_title': '[파이썬] Jupyter notebook 사용방법', 'blog_title': 'python_analysis'}, {'post_title': 'XGBoost 실습 - 파이썬 래퍼 -', 'blog_title': '공부합시다요!'}, {'post_title': 'Python : 파이썬 Bookmark 만들기', 'blog_title': 'EMDI는 지금도 개발중'}, {'post_title': '파이썬 - Numpy', 'blog_title': 'Truman Show'}, {'post_title': 'python #1 - IDE 툴 + 파이썬', 'blog_title': \"jun's programming\"}, {'post_title': '파이썬 기초 개념 정리', 'blog_title': 'Easy Develop'}, {'post_title': '파이썬 Sequence 자료형 이해하기 1', 'blog_title': 'ITPLE과 함께하는 신...'}, {'post_title': '이클립스(Eclipse)에서 파이썬(Python) 설치', 'blog_title': '지식을 나누자'}, {'post_title': 'MacBook 파이썬 설치하기', 'blog_title': '데이터코딩반 1기'}, {'post_title': '노량진파이썬학원, 프로그래밍 공부 기초부터 배워요!', 'blog_title': 'IT미니쌤'}, {'post_title': 'KoNLPy (파이썬 한글 형태소 분석기 ) 윈도우 설치 방법', 'blog_title': 'Live Your IT'}, {'post_title': '파이썬장단점, 파이썬 언어가 주목받는 이유', 'blog_title': '혁신하는 기술 IT정보...'}, {'post_title': 'Python학원, 파이썬(Python) 프로그래밍 집중 교육', 'blog_title': '혁신하는 기술 IT정보...'}, {'post_title': '13. 파이썬 함수', 'blog_title': '명문 올림피아드 컴퓨...'}, {'post_title': '00. 터치디자이너 파이썬 시작하기', 'blog_title': 'caLAB'}, {'post_title': '파이썬 설치', 'blog_title': '지금 이 순간을 살아...'}, {'post_title': '프로그래밍, 파이썬으로 시작해보자!! 「인천파이썬학원」', 'blog_title': 'ARTES'}, {'post_title': '파이썬 변수', 'blog_title': 'Python World'}, {'post_title': '[PYTHON :: 파이썬 기초] 조건문과 반복문', 'blog_title': '소피의데이터'}, {'post_title': '아톰 에디터에서 파이썬 컴파일 실행하기', 'blog_title': '세상에 발자취를 남기...'}, {'post_title': '파이썬 무료독학 방법', 'blog_title': '\"Hello_World!\"'}, {'post_title': '파이썬 다운로드', 'blog_title': '미소네'}, {'post_title': '마이크로비트로 배우는 파이썬', 'blog_title': 'Bright'}, {'post_title': '파이썬을 들어가기 앞서', 'blog_title': '지식을 나누자'}, {'post_title': '파이썬 설치하기', 'blog_title': '주원이의 일상'}, {'post_title': '파이썬으로 디스코드 봇 제작하기(0) - 시작', 'blog_title': 'UNKNOWN'}, {'post_title': '파이썬 모듈', 'blog_title': 'Bubble Guppies'}, {'post_title': '[IT정보] 파이썬 독학 가능할까?', 'blog_title': '인문학과 IT 그리고 ...'}, {'post_title': '파이썬 아나콘다 - 크롤링, 딥러닝 첫걸음', 'blog_title': '잠밥탱이의 토킹 어바...'}, {'post_title': '1.파이썬 설치 및 특징', 'blog_title': '안녕, 세상!'}, {'post_title': '[Python]파이참 설치 / PyCharm 설치 / 파이썬 IDE / 파이썬 에디터', 'blog_title': \"Manniz's LIFE\"}, {'post_title': '[파이썬 기초 #1] Python 설치하기 (feat. Anaconda)', 'blog_title': '포푸리의 지식 스토리'}, {'post_title': '10. 파이썬 리스트', 'blog_title': '명문 올림피아드 컴퓨...'}, {'post_title': '파이썬 함수 코드 스타일 PEP20 - 1', 'blog_title': 'SIKALEO'}, {'post_title': '파이썬 주식 수익 알고리즘 #15', 'blog_title': 'The DataBase that i ...'}, {'post_title': 'Python_B001_파이썬 설치', 'blog_title': \"Yoon's\"}, {'post_title': 'Python (파이썬) Matplotlib, Seaborn 시각화', 'blog_title': '좋은 개발자가 되자'}, {'post_title': '파이썬 ( Python) 이란? 장단점도 알아보아요', 'blog_title': '윈썸지니의 별책부록'}, {'post_title': '아나콘다를 설치해보자! - 파이썬 데이터분석', 'blog_title': '일을 즐기는 자'}, {'post_title': '[파이썬강좌] 파이썬이란??', 'blog_title': '주원이의 일상'}, {'post_title': '파이썬 에디터는 어떤걸로?', 'blog_title': 'ESS R&D (Embedded se...'}, {'post_title': '파이썬 장고 (Django)', 'blog_title': '유용한 정보 공유소'}, {'post_title': '파이썬 아나콘다(Anaconda) 설치하기', 'blog_title': '봉식이와 캔따개'}, {'post_title': '파이썬 아나콘다 설치 및 주피터 노트북', 'blog_title': 'gapsoo life blog'}, {'post_title': '파이썬, 아톰 다운로드 - 설치하기 (시작이 반이다)', 'blog_title': '놀고싶은 영혼의 기록...'}, {'post_title': '파이썬 (Python) 형태소 분석기 KoNLPy 설치방법', 'blog_title': '문과생주디의 데이터 ...'}, {'post_title': '파이썬 - 소개, 설치, 시작', 'blog_title': 'Hokey'}, {'post_title': '[파이썬] K-MOOC 강좌로 기초 다지기', 'blog_title': '척척 석사가 되고 싶...'}, {'post_title': '파이썬 초급5 (문자열2 - 자료형)', 'blog_title': 'No Operation'}, {'post_title': '[앤써북] - 마이크로비트로 배우는 파이썬', 'blog_title': '해인코딩 티스토리'}, {'post_title': '파이썬 데이터 분석 범죄 데이터 실습', 'blog_title': 'The DataBase that i ...'}, {'post_title': '데이터사이언스 - 아나콘다 설치 - 파이썬 설치는 덤!', 'blog_title': '오늘을 살자'}, {'post_title': '[python] 파이썬 크롤링 (네이버 실시간 검색어)', 'blog_title': '개발자 지망생'}, {'post_title': '파이썬이란?', 'blog_title': \"BK's 파이썬 공부하기\"}, {'post_title': '파이썬 String', 'blog_title': 'Python World'}, {'post_title': '파이썬과 C++ 차이점 정리', 'blog_title': '에움길'}, {'post_title': '5. 파이썬 알아보기 (Feat. Life is short)', 'blog_title': '자꿈두'}, {'post_title': '파이썬 독학 입문 - 변수, 타입 ,조건문, 함수\\u200b', 'blog_title': '리얼커플 행복찾기'}, {'post_title': '프로그래밍 언어, 파이썬의 역사', 'blog_title': '국제 뉴스와 리뷰!'}, {'post_title': '[Python] Python Tutorial(파이썬 입문)', 'blog_title': 'swk의 지식저장소'}, {'post_title': '[Python] 파이썬 설치하기', 'blog_title': '컴퓨터공학,  통계학,...'}, {'post_title': '파이썬으로 쿠팡 로그인', 'blog_title': '박범준'}, {'post_title': '파이썬 다운로드', 'blog_title': 'pica'}, {'post_title': '[Python] 파이썬 설치 방법', 'blog_title': '보통사람'}, {'post_title': '파이썬 PIP 사용법 및 패키지 설치 방법', 'blog_title': '윈썸지니의 별책부록'}, {'post_title': '파이썬 시작, 백준 16561 파이썬 풀이', 'blog_title': 'Wonny'}, {'post_title': '파이썬을 통한 업무 자동화 관련 자료', 'blog_title': 'Data Analysis'}, {'post_title': 'Python (파이썬) inplace (.rename)', 'blog_title': '좋은 개발자가 되자'}, {'post_title': '코딩기초부터 잡아나가는 첫 파이썬! 코딩교육은 걱정노노~', 'blog_title': '사월愛핀꽃'}, {'post_title': '01. 파이썬 출력함수', 'blog_title': '그래도 히릿'}, {'post_title': '파이썬 & 파이참 Download & 설치', 'blog_title': 'Dream To Be A Langua...'}, {'post_title': '파이썬 설치 완벽 가이드', 'blog_title': '아니 왜 우리집만 고...'}, {'post_title': '빅데이터시대 세상을 바꾼 파이썬 라이브러리들', 'blog_title': '루나'}, {'post_title': 'Python(파이썬)이란?', 'blog_title': '행복한 상상'}, {'post_title': '파이썬 라이브러리 사용법', 'blog_title': '경험을 기록하는 사람'}, {'post_title': '[Python]파이썬 3 설치방법', 'blog_title': '시간날 때 하는 블로...'}, {'post_title': '파이썬(Python) 간편 설치 방법 다운로드', 'blog_title': '알록달록무지개 이것...'}, {'post_title': '파이썬 리스트 관련 메소드', 'blog_title': '박범준'}, {'post_title': '[점프 투 파이썬]01. 파이썬이란?', 'blog_title': '삥수의 설계'}, {'post_title': '파이썬 데이터사이언스 핸드북 2장 - Numpy 소개', 'blog_title': 'IT 공부중'}, {'post_title': '파이썬(Python) - 한글 형태소 분석', 'blog_title': 'Truman Show'}, {'post_title': '파이썬으로 배우는 딥러닝 교과서', 'blog_title': 'http://jh4hj.tistory...'}, {'post_title': '요새 뜨는 프로그램 언어 파이썬(Python) 왜 요새 뜰까요?', 'blog_title': '햄쭈와 얌찌의 난장판'}, {'post_title': '파이썬으로 이항분포 옵션 평가(CRR) 모델 만들기', 'blog_title': '파이썬을 활용한 재무...'}, {'post_title': '강남파이썬학원, 기초과정 1달만에 끝내기', 'blog_title': 'IT미니쌤'}, {'post_title': '파이썬 결측치 처리', 'blog_title': '독학 매니아'}, {'post_title': '파이썬 배우기 - 처음', 'blog_title': '나바의 IOT 라이프'}, {'post_title': '파이썬 판다스(pandas)를 만들다', 'blog_title': '홍창수'}, {'post_title': '누구나 파이썬 -3 (연산자, if, for)', 'blog_title': 'DEV KOBOSO'}, {'post_title': '실전! 초보를 위한 디스코드 봇 개발 with 파이썬 (1) - 소개와 준비', 'blog_title': \"ArpaAP's Blog\"}, {'post_title': '[파이썬 IDE] PyCharm(파이참) 설치 하기!', 'blog_title': '황시나의 개발새발개...'}]\n"
     ]
    }
   ],
   "source": [
    "# 1~10 페이지만 크롤링 하기\n",
    "result = []\n",
    "page = 1 \n",
    "while True:\n",
    "    if page > 10: break\n",
    "    result += crawl_daum_blog('파이썬',page)\n",
    "    page +=1\n",
    "        \n",
    "print(result)"
   ]
  },
  {
   "cell_type": "markdown",
   "metadata": {},
   "source": [
    "# 완성본"
   ]
  },
  {
   "cell_type": "code",
   "execution_count": 28,
   "metadata": {},
   "outputs": [
    {
     "name": "stdout",
     "output_type": "stream",
     "text": [
      "검색어 입력:트럼프\n",
      "[{'post_title': '[구글 애널리틱스] Organic Keyword의 not set 증가 원인', 'blog_title': 'P O R T F O L I O'}, {'post_title': '다트(Dart) 키워드(Keyword) - 플러터를 위한 다트 프로그래밍', 'blog_title': '서준수'}, {'post_title': '유입 키워드 이해하기 Inflow Keyword', 'blog_title': 'This & That Australi...'}, {'post_title': 'Two Keyword search sites', 'blog_title': 'IntoTheU'}, {'post_title': '검색 도우미 : Windows OpenKeyword', 'blog_title': '울지않는벌새'}, {'post_title': '[Keyword]: #3. 코퍼러티즘(Coiporatism) [개념정리]', 'blog_title': '데이터샤우츠'}, {'post_title': 'Text and Keyword 타입', 'blog_title': 'IT 정글'}, {'post_title': '2020 TREND KEYWORD – 편리미엄', 'blog_title': '부산국제광고제 공식 ...'}, {'post_title': '(JAVA) The final keyword in Java', 'blog_title': 'JW- 개발일지'}, {'post_title': \"'19 WINTER TREND KEYWORD\", 'blog_title': '롯데백화점'}, {'post_title': '크롤러 keyword를 통해서 응용하기.', 'blog_title': 'Just Write'}, {'post_title': 'Keyword Highlighting', 'blog_title': '제인모터스는 전기차 ...'}, {'post_title': '2020 Trend Keyword – Fansumer', 'blog_title': '부산국제광고제 공식 ...'}, {'post_title': '분철무료! 한국사교재 <전한길 Keyword 사료 분석집>', 'blog_title': '커넥츠 공부서점'}, {'post_title': 'Elasticsearch 대소문자 색인과 검색 keyword tokenizer VS normalizer', 'blog_title': 'Hello, Hannah!'}, {'post_title': '(JAVA) static keyword in java', 'blog_title': 'JW- 개발일지'}, {'post_title': '[Keyword]: #6. 효과 [모음집]-<List>', 'blog_title': '데이터샤우츠'}, {'post_title': '[SQL] SQL 의 modifier: Keyword', 'blog_title': 'IT 공부중'}, {'post_title': '엘라스틱서치에서 field 와 field.keyword 의 차이(text와 keyword)', 'blog_title': \"원영's\"}, {'post_title': '[CB Filtering] 2. Keyword-based Vector Space Model', 'blog_title': '데이터 맛집'}, {'post_title': \"2020년 주목할 광고시장 Keyword 'ACTIVE'\", 'blog_title': 'SM C&C 광고사업부문'}, {'post_title': '3. 파이썬(Python) 예약어(keyword)를 알아보자!!', 'blog_title': '호호만두의 IT 블로그'}, {'post_title': '[Keyword] 더벅머리, 콧날', 'blog_title': '글자들'}, {'post_title': '[월야환담/서현] keyword; 도서관', 'blog_title': '계속 길 위.'}, {'post_title': '검색 도우미 : 오픈키워드(OpenKeyword)', 'blog_title': '울지않는벌새'}, {'post_title': '[AD KEYWORD] 광고의 시작_인쇄광고 스페셜', 'blog_title': '대홍기획 블로그입니...'}, {'post_title': 'KeyWord', 'blog_title': 'Gift Beta: Turned Ga...'}, {'post_title': '[ spring ] @RequestMapping, redirect:keyword', 'blog_title': '< zero />'}, {'post_title': '자바 Final Keyword 1편!', 'blog_title': '에르의 생각발전소♫'}, {'post_title': 'ABAQUS KEYWORD 기초 02', 'blog_title': \"TwB's Blog\"}, {'post_title': '[SQL] - ORDER BY Keyword(ORDER BY 키워드)', 'blog_title': '인생 자습서'}, {'post_title': 'scala implicit keyword 관련 - 파라미터', 'blog_title': '캡틴☆토마스'}, {'post_title': 'Python function keyword arguments, parameter default value 정리', 'blog_title': '일류도 삼류에서 부터'}, {'post_title': 'virtual keyword in C++', 'blog_title': '백문이 불여일Run - ...'}, {'post_title': 'Keyword Arguments', 'blog_title': 'Dive deep into the s...'}, {'post_title': '자바 Final Keyword 2편!', 'blog_title': '에르의 생각발전소♫'}, {'post_title': \"Keyword 'this'\", 'blog_title': '코드위의 승부사'}, {'post_title': 'C++11] auto keyword 기본 및 활용', 'blog_title': '코드 여행자'}, {'post_title': 'Keyword : 동거', 'blog_title': 'ssul'}, {'post_title': '[Ansible] Playbook Keyword (v 2.9)', 'blog_title': '작은 거인의 블로그'}, {'post_title': '오픈키워드(OpenKeyword) & Windows OpenKeyword 삭제 및 제거 정보', 'blog_title': \"Ec0nomist's Lab.\"}, {'post_title': '부자되는방법 Ubiner Keyword', 'blog_title': '옴팡이 에어드랍'}, {'post_title': '[PYTHON 3] Tutorials 15. Keyword Arguments', 'blog_title': 'Creative Works for J...'}, {'post_title': 'MITSUBISHI FX3U KEYWORD 해제', 'blog_title': 'PLC 비밀번호 패스워...'}, {'post_title': '[첫글] 2020년을 이해하는 Keyword 2가지', 'blog_title': \"시사와 경제, '詩經'...\"}, {'post_title': 'Abaqus Keyword 기초 01', 'blog_title': \"TwB's Blog\"}, {'post_title': '2010 Samsung SENS Hot Keyword', 'blog_title': '설련의 Digital Life'}, {'post_title': '2019년 한국 사회 Keyword. 제로금리의 공습.', 'blog_title': '매곰이의 금융상담'}, {'post_title': 'Daum RSS News 형태소 분석 후 Keyword 확인', 'blog_title': '안종태 블로그'}, {'post_title': '2020 Yogibo Color Keyword [스위트 오렌지]', 'blog_title': 'Yogibo Korea / 요기...'}, {'post_title': '<BI> Keyword Brand Identity', 'blog_title': 'rohji'}, {'post_title': '이슈로 살펴보는 Monthly IT Keyword (11월)', 'blog_title': 'Creative and Smart! ...'}, {'post_title': '[AD KEYWORD] 오래된 것들은 다 아름답다', 'blog_title': '대홍기획 블로그입니...'}, {'post_title': '이슈로 살펴보는 Monthly IT Keyword (9월)', 'blog_title': 'Creative and Smart! ...'}, {'post_title': '블로그 방문자수 증가를 위한 키워드 찾는 법 Keyword Shitter', 'blog_title': '물리학과 직장인'}, {'post_title': '구글 키워드 플래너(Keyword Planner)로 블로그 검색 상위 노출 키워드...', 'blog_title': '청경우독'}, {'post_title': 'Keyword Discovery Tips', 'blog_title': 'Tax-business'}, {'post_title': '<2020 Fashion Keyword> 서스테이너블 패션 브랜드 TOP6', 'blog_title': '패션 디자이너를 위한...'}, {'post_title': 'Windows OpenKeyword 광고창 삭제 방법', 'blog_title': '이지클린 EzClean'}, {'post_title': '영어학습 이야기(1) 단어학습법 - 해마학습법 (Mnemonic Keyword Method)', 'blog_title': 'Madforge'}, {'post_title': 'C# Property Vs Field and ref keyword', 'blog_title': 'Hyolog'}, {'post_title': '[파이썬 영어강좌] 16. Keyword Arguments', 'blog_title': '파이썬  강좌로 영어 ...'}, {'post_title': '[Keyword] 키워드 광고 분석 전략 02', 'blog_title': '들여다보기'}, {'post_title': '[기본공지] 속상함의 블로그 RSS Tag(Keyword) 링크안내', 'blog_title': '속상함의 블로그'}, {'post_title': '[2017 SS Color Trend] Top 5 Keyword', 'blog_title': '큐포라 얼라이언스 컬...'}, {'post_title': '2020 Yogibo Color Keyword [발렌타인 레드]', 'blog_title': 'Yogibo Korea / 요기...'}, {'post_title': '[Keyword 03. 외래종(도입종)]', 'blog_title': '異眼의 세상보기'}, {'post_title': '[Oracle - Error] ORA-00905: 누락된 키워드 - \"missing keyword\"', 'blog_title': '신입개발자의 일기'}, {'post_title': 'Keyword : 결혼', 'blog_title': '나의 계절'}, {'post_title': '\\u200b[C언어] 데이터형 종류, 식별자, 키워드(Keyword)', 'blog_title': 'i!kohong 블로그'}, {'post_title': '[A3!/가사 번역] Keyword', 'blog_title': 'ᴘᴏʟᴀʀɪs'}, {'post_title': 'PEP 3102 -- Keyword-Only Arguments', 'blog_title': '2017부터 2026까지'}, {'post_title': 'W Concept Korea 2020 Trend Keyword', 'blog_title': 'Maiden Noir Archive'}, {'post_title': '1110. Keyword', 'blog_title': 'archive'}, {'post_title': '2020 디자인 트렌드 키워드 \"MICE\"(Design Trend Keyword)', 'blog_title': '아키렌더(Design Grou...'}, {'post_title': 'C/C++ const 키워드 사용법[how to use const keyword]', 'blog_title': 'Life is Fruity.'}, {'post_title': 'Luxury Keyword - 럭셔리 대형 세단의 지존은 누구~??', 'blog_title': '미친차 CrazyCar'}, {'post_title': 'SQL에서 컬럼검색과 별칭(Keyword)', 'blog_title': 'Dev log'}, {'post_title': '리빙센스 5월호 # Home Styling KEYWORD', 'blog_title': 'humors of life'}, {'post_title': '[PPT Template] 무료PPT템플릿 공유 keyword 03 키워드 PPT 템플릿 03', 'blog_title': 'Template box  by Stu...'}, {'post_title': '170517 / Keyword', 'blog_title': '배고프면 물어요'}, {'post_title': '의상설명 keyword :니키', 'blog_title': 'Romaci Dasi'}, {'post_title': '[월드컵]체력, 이청용 : 아르헨 전 KEYWORD', 'blog_title': '축구블로그 - 최고를 ...'}, {'post_title': '#2 C++ const keyword와 오버로딩에 관하여', 'blog_title': 'Diligent Developer'}, {'post_title': 'Semantic Keyword Search', 'blog_title': 'Oranga cielo emocias...'}, {'post_title': 'keyword 잘못쓰면 오히려 좋지않네요~', 'blog_title': 'eve 건강/일상'}, {'post_title': 'Keyword Protocol 2000 #Part 2 - Data link Layer', 'blog_title': \"Keigoon's garage\"}, {'post_title': 'Tistory Hack: Keyword-Widgets', 'blog_title': '관동대학교 영어영문...'}, {'post_title': 'volatile Keyword.', 'blog_title': '흔적남기기.'}, {'post_title': '[SOAP 경제] 역대급 코스피, 코스닥, 환율.. Keyword: 내수', 'blog_title': 'SOAP의 먹고 노는 Log...'}, {'post_title': '자바 예약어(Keyword) , 식별자, 변수 , 자료형, 상수 Java step2', 'blog_title': 'Cago형'}, {'post_title': 'KITCHEN KEYWORD', 'blog_title': '참공간디자인 Archite...'}, {'post_title': '[2017 SS fashion Trend] Top 3 Keyword', 'blog_title': '큐포라 얼라이언스 컬...'}, {'post_title': '[iOS] Keyword 간단 요약', 'blog_title': 'IT Study'}, {'post_title': 'KEYWORD 모세오경', 'blog_title': '성경속으로 Blog'}, {'post_title': '다낭 KEYWORD 여행 \"각종 베스트를 찾아서\"', 'blog_title': '여행매거진 GoOn'}, {'post_title': '[PPT Template] 무료PPT템플릿 공유 keyword 02 키워드 PPT 템플릿 02', 'blog_title': 'Template box  by Stu...'}, {'post_title': '5개의 KEYWORD로 만나는 영화 <진범>_고정욱 감독과의 대화', 'blog_title': '시간의마법사'}, {'post_title': 'Keyword note, THE TWIST', 'blog_title': '취미공간'}, {'post_title': \"[Issue] John Tenniel, Today's Hottest Google Keyword\", 'blog_title': 'Le_Penseur'}]\n"
     ]
    }
   ],
   "source": [
    "import requests\n",
    "from bs4 import BeautifulSoup\n",
    "import urllib.parse as urlparser\n",
    "\n",
    "def crawl_daum_blog(keyword, page=1):\n",
    "    keyword = urlparser.quote(keyword)\n",
    "    url = 'https://search.daum.net/search?w=blog&DA=PGD&enc=utf8&q={search}&page={page}'.format(search=keyword, page=page)\n",
    "    \n",
    "    \n",
    "    response = requests.get(url)\n",
    "    dom = BeautifulSoup(response.text,\"html.parser\")\n",
    "    item_list = dom.select(\"div#blogColl .coll_cont ul.list_info li\")\n",
    "\n",
    "    result = [\n",
    "        {\n",
    "            \"post_title\" : item.select_one(\".f_link_b\").text.strip()\n",
    "            , \"blog_title\" : item.select_one(\".info .f_nb\").text.strip()\n",
    "        }\n",
    "        for item in item_list\n",
    "    ]\n",
    "    return result \n",
    "\n",
    "keyword = input('검색어 입력:')\n",
    "\n",
    "result = []\n",
    "page = 1 \n",
    "while True:\n",
    "    if page > 10: break\n",
    "    result += crawl_daum_blog('keyword',page)\n",
    "    page+=1\n",
    "        \n",
    "print(result)"
   ]
  },
  {
   "cell_type": "code",
   "execution_count": null,
   "metadata": {},
   "outputs": [],
   "source": []
  },
  {
   "cell_type": "code",
   "execution_count": null,
   "metadata": {},
   "outputs": [],
   "source": []
  },
  {
   "cell_type": "code",
   "execution_count": null,
   "metadata": {},
   "outputs": [],
   "source": []
  },
  {
   "cell_type": "code",
   "execution_count": null,
   "metadata": {},
   "outputs": [],
   "source": []
  },
  {
   "cell_type": "code",
   "execution_count": null,
   "metadata": {},
   "outputs": [],
   "source": []
  },
  {
   "cell_type": "code",
   "execution_count": null,
   "metadata": {},
   "outputs": [],
   "source": []
  },
  {
   "cell_type": "code",
   "execution_count": null,
   "metadata": {},
   "outputs": [],
   "source": []
  },
  {
   "cell_type": "code",
   "execution_count": null,
   "metadata": {},
   "outputs": [],
   "source": []
  },
  {
   "cell_type": "code",
   "execution_count": null,
   "metadata": {},
   "outputs": [],
   "source": []
  },
  {
   "cell_type": "code",
   "execution_count": null,
   "metadata": {},
   "outputs": [],
   "source": []
  }
 ],
 "metadata": {
  "kernelspec": {
   "display_name": "Python 3",
   "language": "python",
   "name": "python3"
  },
  "language_info": {
   "codemirror_mode": {
    "name": "ipython",
    "version": 3
   },
   "file_extension": ".py",
   "mimetype": "text/x-python",
   "name": "python",
   "nbconvert_exporter": "python",
   "pygments_lexer": "ipython3",
   "version": "3.7.6"
  }
 },
 "nbformat": 4,
 "nbformat_minor": 4
}
