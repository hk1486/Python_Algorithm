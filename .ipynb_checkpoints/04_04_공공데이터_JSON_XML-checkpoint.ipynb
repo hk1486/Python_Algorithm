{
 "cells": [
  {
   "cell_type": "code",
   "execution_count": null,
   "metadata": {},
   "outputs": [],
   "source": [
    "\"\"\"\n",
    "■서울시 지하철호선별 역별 승하차 인원 정보 \n",
    "http://data.seoul.go.kr/dataList/datasetView.do?infId=OA-12914&srvType=A&serviceKind=1&currentPageNo=1\n",
    "\n",
    "샘플url\n",
    "\n",
    "XML 버젼 (eXtensible Markup Language)\n",
    "http://openapi.seoul.go.kr:8088/키값을넣으세요/xml/CardSubwayStatsNew/1/5/20181001\n",
    "예) http://openapi.seoul.go.kr:8088/4d46796d7366726f3833774a774955/xml/CardSubwayStatsNew/1/5/20181001  \n",
    "\n",
    "JSON 버젼 (JavaScript Object Notation)\n",
    "http://openapi.seoul.go.kr:8088/키값을넣으세요/json/CardSubwayStatsNew/1/5/20181001\n",
    "예) http://openapi.seoul.go.kr:8088/4d46796d7366726f3833774a774955/json/CardSubwayStatsNew/1/5/20181001 \n",
    "\n",
    "-호선 번호\n",
    "-역이름\n",
    "-승차인원\n",
    "-하차인원\n",
    "\n",
    "\"\"\"\n",
    "None\n",
    "\n",
    "\n"
   ]
  },
  {
   "cell_type": "code",
   "execution_count": 5,
   "metadata": {},
   "outputs": [],
   "source": [
    "import requests\n",
    "from bs4 import BeautifulSoup\n",
    "import time"
   ]
  },
  {
   "cell_type": "markdown",
   "metadata": {},
   "source": [
    "# xml"
   ]
  },
  {
   "cell_type": "code",
   "execution_count": 6,
   "metadata": {},
   "outputs": [
    {
     "data": {
      "text/plain": [
       "'http://openapi.seoul.go.kr:8088/4d46796d7366726f3833774a774955/xml/CardSubwayStatsNew/1/5/20200510'"
      ]
     },
     "execution_count": 6,
     "metadata": {},
     "output_type": "execute_result"
    }
   ],
   "source": [
    "api_key = '4d46796d7366726f3833774a774955'\n",
    "req_type = 'xml'\n",
    "end_index = 5\n",
    "date = 20200510\n",
    "url = f'http://openapi.seoul.go.kr:8088/{api_key}/{req_type}/CardSubwayStatsNew/1/{end_index}/{date}'\n",
    "url"
   ]
  },
  {
   "cell_type": "code",
   "execution_count": 7,
   "metadata": {},
   "outputs": [
    {
     "data": {
      "text/plain": [
       "<Response [200]>"
      ]
     },
     "execution_count": 7,
     "metadata": {},
     "output_type": "execute_result"
    }
   ],
   "source": [
    "response = requests.get(url)\n",
    "response"
   ]
  },
  {
   "cell_type": "code",
   "execution_count": 13,
   "metadata": {},
   "outputs": [],
   "source": [
    "# response.text # xml 문서인지 확인"
   ]
  },
  {
   "cell_type": "code",
   "execution_count": 14,
   "metadata": {},
   "outputs": [],
   "source": [
    "dom = BeautifulSoup(response.text, 'lxml-xml') # xml 파싱!\n",
    "# dom"
   ]
  },
  {
   "cell_type": "code",
   "execution_count": 30,
   "metadata": {},
   "outputs": [
    {
     "data": {
      "text/plain": [
       "5"
      ]
     },
     "execution_count": 30,
     "metadata": {},
     "output_type": "execute_result"
    }
   ],
   "source": [
    "items = dom.select(\"row\")\n",
    "len(items)"
   ]
  },
  {
   "cell_type": "code",
   "execution_count": 31,
   "metadata": {},
   "outputs": [
    {
     "name": "stdout",
     "output_type": "stream",
     "text": [
      "[['1호선', '서울역', '22350', '19383'], ['1호선', '시청', '5581', '5294'], ['1호선', '종각', '11252', '10025'], ['1호선', '종로3가', '12897', '11965'], ['1호선', '종로5가', '7421', '7758']]\n"
     ]
    }
   ],
   "source": [
    "result = [\n",
    "    [\n",
    "        item.select_one(\"LINE_NUM\").text.strip(),\n",
    "        item.select_one(\"SUB_STA_NM\").text.strip(),\n",
    "        item.select_one(\"RIDE_PASGR_NUM\").text.strip(),\n",
    "        item.select_one(\"ALIGHT_PASGR_NUM\").text.strip(),\n",
    "    ]\n",
    "    \n",
    "    for item in items\n",
    "]\n",
    "print(result)"
   ]
  },
  {
   "cell_type": "markdown",
   "metadata": {},
   "source": [
    "# Json"
   ]
  },
  {
   "cell_type": "code",
   "execution_count": 32,
   "metadata": {},
   "outputs": [
    {
     "data": {
      "text/plain": [
       "'http://openapi.seoul.go.kr:8088/4d46796d7366726f3833774a774955/json/CardSubwayStatsNew/1/5/20200510'"
      ]
     },
     "execution_count": 32,
     "metadata": {},
     "output_type": "execute_result"
    }
   ],
   "source": [
    "api_key = '4d46796d7366726f3833774a774955'\n",
    "req_type = 'json'\n",
    "end_index = 5\n",
    "date = 20200510\n",
    "url = f'http://openapi.seoul.go.kr:8088/{api_key}/{req_type}/CardSubwayStatsNew/1/{end_index}/{date}'\n",
    "url"
   ]
  },
  {
   "cell_type": "code",
   "execution_count": 33,
   "metadata": {},
   "outputs": [
    {
     "data": {
      "text/plain": [
       "<Response [200]>"
      ]
     },
     "execution_count": 33,
     "metadata": {},
     "output_type": "execute_result"
    }
   ],
   "source": [
    "response = requests.get(url)\n",
    "response"
   ]
  },
  {
   "cell_type": "code",
   "execution_count": 34,
   "metadata": {},
   "outputs": [],
   "source": [
    "# response.text # 확인용"
   ]
  },
  {
   "cell_type": "code",
   "execution_count": 35,
   "metadata": {},
   "outputs": [
    {
     "data": {
      "text/plain": [
       "dict"
      ]
     },
     "execution_count": 35,
     "metadata": {},
     "output_type": "execute_result"
    }
   ],
   "source": [
    "data = response.json() #JSON 텍스트 -> 파이썬 데이터(딕셔너리, 리스트)로 변환 \n",
    "data\n",
    "type(data)"
   ]
  },
  {
   "cell_type": "code",
   "execution_count": 36,
   "metadata": {},
   "outputs": [
    {
     "data": {
      "text/plain": [
       "5"
      ]
     },
     "execution_count": 36,
     "metadata": {},
     "output_type": "execute_result"
    }
   ],
   "source": [
    "items = data['CardSubwayStatsNew']['row']\n",
    "len(items)"
   ]
  },
  {
   "cell_type": "code",
   "execution_count": 37,
   "metadata": {},
   "outputs": [
    {
     "data": {
      "text/plain": [
       "[['1호선', '서울역', 22350.0, 19383.0],\n",
       " ['1호선', '시청', 5581.0, 5294.0],\n",
       " ['1호선', '종각', 11252.0, 10025.0],\n",
       " ['1호선', '종로3가', 12897.0, 11965.0],\n",
       " ['1호선', '종로5가', 7421.0, 7758.0]]"
      ]
     },
     "execution_count": 37,
     "metadata": {},
     "output_type": "execute_result"
    }
   ],
   "source": [
    "result = [\n",
    "    [\n",
    "        item['LINE_NUM'],\n",
    "        item['SUB_STA_NM'],\n",
    "        item['RIDE_PASGR_NUM'],\n",
    "        item['ALIGHT_PASGR_NUM']\n",
    "    ]\n",
    "    for item in items\n",
    "]\n",
    "result"
   ]
  },
  {
   "cell_type": "markdown",
   "metadata": {},
   "source": [
    "# 완성본"
   ]
  },
  {
   "cell_type": "code",
   "execution_count": 40,
   "metadata": {},
   "outputs": [
    {
     "name": "stdout",
     "output_type": "stream",
     "text": [
      "[['1호선', '서울역', '22350', '19383'], ['1호선', '시청', '5581', '5294'], ['1호선', '종각', '11252', '10025'], ['1호선', '종로3가', '12897', '11965'], ['1호선', '종로5가', '7421', '7758']]\n",
      "------------------------------\n",
      "[['1호선', '서울역', 22350.0, 19383.0], ['1호선', '시청', 5581.0, 5294.0], ['1호선', '종각', 11252.0, 10025.0], ['1호선', '종로3가', 12897.0, 11965.0], ['1호선', '종로5가', 7421.0, 7758.0]]\n"
     ]
    }
   ],
   "source": [
    "import requests\n",
    "from bs4 import BeautifulSoup\n",
    "\n",
    "api_key = '4d46796d7366726f3833774a774955'\n",
    "end_index = 5\n",
    "date = 20200510\n",
    "\n",
    "req_type = 'xml' # xml 버전\n",
    "url = f'http://openapi.seoul.go.kr:8088/{api_key}/{req_type}/CardSubwayStatsNew/1/{end_index}/{date}'\n",
    "response = requests.get(url)\n",
    "dom = BeautifulSoup(response.text, 'lxml-xml') # xml 파싱!\n",
    "items = dom.select(\"row\")\n",
    "result = [\n",
    "    [\n",
    "        item.select_one(\"LINE_NUM\").text.strip(),\n",
    "        item.select_one(\"SUB_STA_NM\").text.strip(),\n",
    "        item.select_one(\"RIDE_PASGR_NUM\").text.strip(),\n",
    "        item.select_one(\"ALIGHT_PASGR_NUM\").text.strip(),\n",
    "    ]\n",
    "    \n",
    "    for item in items\n",
    "]\n",
    "print(result)\n",
    "\n",
    "print('-'*30)\n",
    "\n",
    "\n",
    "req_type = 'json' # json 버전\n",
    "url = f'http://openapi.seoul.go.kr:8088/{api_key}/{req_type}/CardSubwayStatsNew/1/{end_index}/{date}'\n",
    "response = requests.get(url)\n",
    "data = response.json() #JSON 텍스트 -> 파이썬 데이터(딕셔너리, 리스트)로 변환 \n",
    "items = data['CardSubwayStatsNew']['row']\n",
    "result = [\n",
    "    [\n",
    "        item['LINE_NUM'],\n",
    "        item['SUB_STA_NM'],\n",
    "        item['RIDE_PASGR_NUM'],\n",
    "        item['ALIGHT_PASGR_NUM']\n",
    "    ]\n",
    "    for item in items\n",
    "]\n",
    "print(result)"
   ]
  },
  {
   "cell_type": "code",
   "execution_count": null,
   "metadata": {},
   "outputs": [],
   "source": []
  },
  {
   "cell_type": "code",
   "execution_count": null,
   "metadata": {},
   "outputs": [],
   "source": []
  },
  {
   "cell_type": "code",
   "execution_count": null,
   "metadata": {},
   "outputs": [],
   "source": []
  }
 ],
 "metadata": {
  "kernelspec": {
   "display_name": "Python 3",
   "language": "python",
   "name": "python3"
  },
  "language_info": {
   "codemirror_mode": {
    "name": "ipython",
    "version": 3
   },
   "file_extension": ".py",
   "mimetype": "text/x-python",
   "name": "python",
   "nbconvert_exporter": "python",
   "pygments_lexer": "ipython3",
   "version": "3.7.6"
  }
 },
 "nbformat": 4,
 "nbformat_minor": 4
}
