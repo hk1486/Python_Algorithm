{
 "cells": [
  {
   "cell_type": "markdown",
   "metadata": {},
   "source": [
    "# 파일다운로드\n",
    "이미지, 동영상, 파일...\n"
   ]
  },
  {
   "cell_type": "markdown",
   "metadata": {},
   "source": [
    "### download 폴더를 만들어서 진행"
   ]
  },
  {
   "cell_type": "code",
   "execution_count": 2,
   "metadata": {},
   "outputs": [
    {
     "name": "stdout",
     "output_type": "stream",
     "text": [
      "Directory download Created\n"
     ]
    }
   ],
   "source": [
    "import os\n",
    "dirName = 'download'\n",
    "\n",
    "if not os.path.exists(dirName):\n",
    "    os.mkdir(dirName)\n",
    "    print('Directory',dirName,\"Created\")\n",
    "else:     \n",
    "    print('Directory',dirName,\"already exists\")"
   ]
  },
  {
   "cell_type": "markdown",
   "metadata": {},
   "source": [
    "### 다운로드 해볼 예제 소스"
   ]
  },
  {
   "cell_type": "code",
   "execution_count": 4,
   "metadata": {},
   "outputs": [],
   "source": [
    " # 예제에 사용한 미디어 출처\n",
    " #  https://www.w3schools.com/html/html5_video.asp\n",
    " #  https://www.w3schools.com/html/html5_audio.asp\n",
    " #  https://www.w3schools.com/howto/howto_css_fullscreen_video.asp\n",
    " \n",
    " # 예제에 사용한 이미지 출처\n",
    " # \thttps://www.w3schools.com/css/css_image_gallery.asp\n",
    "\n",
    "\n"
   ]
  },
  {
   "cell_type": "code",
   "execution_count": 5,
   "metadata": {},
   "outputs": [],
   "source": [
    "# URL 에 파일명이 있는 형태\n",
    "imgUrls = [\n",
    "    \"https://www.w3schools.com/css/img_5terre.jpg\",\n",
    "    \"https://www.w3schools.com/css/img_forest.jpg\", \n",
    "    \"https://www.w3schools.com/css/img_lights.jpg\",\n",
    "    \"https://www.w3schools.com/css/img_mountains.jpg\"\n",
    "]\n",
    "\n",
    "movUrls = [\n",
    "    \"https://www.w3schools.com/html/movie.mp4\",   # 영상\n",
    "    \"https://www.w3schools.com/howto/rain.mp4\",\n",
    "    \"https://www.w3schools.com/html/mov_bbb.mp4\",\n",
    "    \"https://www.w3schools.com/html/horse.ogg\"    # 음성   \n",
    "]\n"
   ]
  },
  {
   "cell_type": "code",
   "execution_count": 6,
   "metadata": {},
   "outputs": [],
   "source": [
    "import requests"
   ]
  },
  {
   "cell_type": "code",
   "execution_count": 10,
   "metadata": {},
   "outputs": [
    {
     "data": {
      "text/plain": [
       "<Response [200]>"
      ]
     },
     "execution_count": 10,
     "metadata": {},
     "output_type": "execute_result"
    }
   ],
   "source": [
    "# 이미지와 같은 이진데이터를 request 할 시 stream = True 옵션 추가\n",
    "response = requests.get(imgUrls[0],stream = True)\n",
    "response"
   ]
  },
  {
   "cell_type": "code",
   "execution_count": null,
   "metadata": {},
   "outputs": [],
   "source": [
    "#response.text  # 이진데이터는 텍스트로 볼 수 없다."
   ]
  },
  {
   "cell_type": "code",
   "execution_count": 14,
   "metadata": {},
   "outputs": [
    {
     "data": {
      "text/plain": [
       "149372"
      ]
     },
     "execution_count": 14,
     "metadata": {},
     "output_type": "execute_result"
    }
   ],
   "source": [
    "response.content\n",
    "len(response.content) # 용량, 단위는 바이트"
   ]
  },
  {
   "cell_type": "code",
   "execution_count": 34,
   "metadata": {},
   "outputs": [],
   "source": [
    "if response.status_code == 200:\n",
    "    with open(f'./{dirName}/test.jpg', 'wb') as f:\n",
    "        f.write(response.content)"
   ]
  },
  {
   "cell_type": "markdown",
   "metadata": {},
   "source": [
    "# URL에 파일이름이 있다면 그 이름으로 다운로드 받기"
   ]
  },
  {
   "cell_type": "code",
   "execution_count": 21,
   "metadata": {},
   "outputs": [],
   "source": [
    "import urllib.parse as urlparser"
   ]
  },
  {
   "cell_type": "code",
   "execution_count": 22,
   "metadata": {},
   "outputs": [
    {
     "data": {
      "text/plain": [
       "ParseResult(scheme='https', netloc='www.w3schools.com', path='/css/img_5terre.jpg', params='', query='', fragment='')"
      ]
     },
     "execution_count": 22,
     "metadata": {},
     "output_type": "execute_result"
    }
   ],
   "source": [
    "url = imgUrls[0]\n",
    "disassembled = urlparser.urlparse(url)\n",
    "disassembled"
   ]
  },
  {
   "cell_type": "code",
   "execution_count": 23,
   "metadata": {},
   "outputs": [
    {
     "data": {
      "text/plain": [
       "'/css/img_5terre.jpg'"
      ]
     },
     "execution_count": 23,
     "metadata": {},
     "output_type": "execute_result"
    }
   ],
   "source": [
    "disassembled.path"
   ]
  },
  {
   "cell_type": "markdown",
   "metadata": {},
   "source": [
    "#### os.path 를 사용하여 경로에서 파일명 분리"
   ]
  },
  {
   "cell_type": "code",
   "execution_count": 25,
   "metadata": {},
   "outputs": [],
   "source": [
    "from os.path import basename, splitext, split "
   ]
  },
  {
   "cell_type": "code",
   "execution_count": 30,
   "metadata": {},
   "outputs": [
    {
     "data": {
      "text/plain": [
       "'img_5terre.jpg'"
      ]
     },
     "execution_count": 30,
     "metadata": {},
     "output_type": "execute_result"
    }
   ],
   "source": [
    "filename = basename(disassembled.path)\n",
    "filename"
   ]
  },
  {
   "cell_type": "code",
   "execution_count": 31,
   "metadata": {},
   "outputs": [
    {
     "data": {
      "text/plain": [
       "('img_5terre', '.jpg')"
      ]
     },
     "execution_count": 31,
     "metadata": {},
     "output_type": "execute_result"
    }
   ],
   "source": [
    "splitext(filename) # 파일명과 확장자 분리"
   ]
  },
  {
   "cell_type": "code",
   "execution_count": 33,
   "metadata": {},
   "outputs": [
    {
     "data": {
      "text/plain": [
       "('/css', 'img_5terre.jpg')"
      ]
     },
     "execution_count": 33,
     "metadata": {},
     "output_type": "execute_result"
    }
   ],
   "source": [
    "split(disassembled.path) # path와 파일이 분리"
   ]
  },
  {
   "cell_type": "code",
   "execution_count": 35,
   "metadata": {},
   "outputs": [],
   "source": [
    "with open(f'./download/{filename}','wb') as f:\n",
    "    f.write(response.content)"
   ]
  },
  {
   "cell_type": "markdown",
   "metadata": {},
   "source": [
    "### jupyter notebook 에서 이미지 확인 가능"
   ]
  },
  {
   "cell_type": "code",
   "execution_count": 50,
   "metadata": {},
   "outputs": [],
   "source": [
    "from IPython.display import Image"
   ]
  },
  {
   "cell_type": "code",
   "execution_count": 53,
   "metadata": {},
   "outputs": [
    {
     "data": {
      "image/jpeg": "[encoded data removed]",
      "text/plain": [
       "<IPython.core.display.Image object>"
      ]
     },
     "execution_count": 53,
     "metadata": {},
     "output_type": "execute_result"
    }
   ],
   "source": [
    "Image(f'./download/{filename}')"
   ]
  },
  {
   "cell_type": "markdown",
   "metadata": {},
   "source": [
    "# ImgUrl. movUrl 다운로드 하기(완성)"
   ]
  },
  {
   "cell_type": "code",
   "execution_count": 47,
   "metadata": {},
   "outputs": [
    {
     "name": "stdout",
     "output_type": "stream",
     "text": [
      "다운로드: https://www.w3schools.com/html/movie.mp4 -> movie.mp4\n",
      "다운로드: https://www.w3schools.com/howto/rain.mp4 -> rain.mp4\n",
      "다운로드: https://www.w3schools.com/html/mov_bbb.mp4 -> mov_bbb.mp4\n",
      "다운로드: https://www.w3schools.com/html/horse.ogg -> horse.ogg\n",
      "다운로드: https://www.w3schools.com/css/img_5terre.jpg -> img_5terre.jpg\n",
      "다운로드: https://www.w3schools.com/css/img_forest.jpg -> img_forest.jpg\n",
      "다운로드: https://www.w3schools.com/css/img_lights.jpg -> img_lights.jpg\n",
      "다운로드: https://www.w3schools.com/css/img_mountains.jpg -> img_mountains.jpg\n"
     ]
    }
   ],
   "source": [
    "for url in movUrls + imgUrls:\n",
    "    disassembled = urlparser.urlparse(url)\n",
    "    filename = basename(disassembled.path)\n",
    "    print('다운로드:',url,'->',filename)\n",
    "    response = requests.get(url, stream=True)\n",
    "    if response.status_code == 200:\n",
    "        with open(f'./download/{filename}','wb') as f:\n",
    "             f.write(response.content)"
   ]
  },
  {
   "cell_type": "code",
   "execution_count": null,
   "metadata": {},
   "outputs": [],
   "source": []
  },
  {
   "cell_type": "code",
   "execution_count": null,
   "metadata": {},
   "outputs": [],
   "source": []
  },
  {
   "cell_type": "code",
   "execution_count": null,
   "metadata": {},
   "outputs": [],
   "source": []
  },
  {
   "cell_type": "code",
   "execution_count": null,
   "metadata": {},
   "outputs": [],
   "source": []
  },
  {
   "cell_type": "code",
   "execution_count": null,
   "metadata": {},
   "outputs": [],
   "source": []
  },
  {
   "cell_type": "code",
   "execution_count": null,
   "metadata": {},
   "outputs": [],
   "source": []
  },
  {
   "cell_type": "code",
   "execution_count": null,
   "metadata": {},
   "outputs": [],
   "source": []
  }
 ],
 "metadata": {
  "kernelspec": {
   "display_name": "Python 3",
   "language": "python",
   "name": "python3"
  },
  "language_info": {
   "codemirror_mode": {
    "name": "ipython",
    "version": 3
   },
   "file_extension": ".py",
   "mimetype": "text/x-python",
   "name": "python",
   "nbconvert_exporter": "python",
   "pygments_lexer": "ipython3",
   "version": "3.7.6"
  }
 },
 "nbformat": 4,
 "nbformat_minor": 4
}
