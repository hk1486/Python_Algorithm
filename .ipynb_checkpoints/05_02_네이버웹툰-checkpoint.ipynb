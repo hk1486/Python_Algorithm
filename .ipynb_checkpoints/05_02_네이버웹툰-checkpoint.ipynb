{
 "cells": [
  {
   "cell_type": "markdown",
   "metadata": {},
   "source": [
    "# 네이버 웹툰\n",
    "이미지들 다운로드 + header"
   ]
  },
  {
   "cell_type": "code",
   "execution_count": null,
   "metadata": {},
   "outputs": [],
   "source": []
  },
  {
   "cell_type": "code",
   "execution_count": 3,
   "metadata": {},
   "outputs": [],
   "source": [
    "url = 'https://comic.naver.com/webtoon/detail.nhn?titleId=183559&no=483&'"
   ]
  },
  {
   "cell_type": "code",
   "execution_count": 5,
   "metadata": {},
   "outputs": [],
   "source": [
    "import requests\n",
    "from bs4 import BeautifulSoup\n",
    "\n",
    "import urllib.parse as urlparser\n",
    "from os.path import basename, splitext, split\n",
    "from IPython.display import Image\n"
   ]
  },
  {
   "cell_type": "code",
   "execution_count": 6,
   "metadata": {},
   "outputs": [
    {
     "data": {
      "text/plain": [
       "<Response [200]>"
      ]
     },
     "execution_count": 6,
     "metadata": {},
     "output_type": "execute_result"
    }
   ],
   "source": [
    "response = requests.get(url)\n",
    "response"
   ]
  },
  {
   "cell_type": "code",
   "execution_count": 7,
   "metadata": {},
   "outputs": [],
   "source": [
    "dom = BeautifulSoup(response.text,'html.parser')"
   ]
  },
  {
   "cell_type": "code",
   "execution_count": 11,
   "metadata": {},
   "outputs": [
    {
     "data": {
      "text/plain": [
       "72"
      ]
     },
     "execution_count": 11,
     "metadata": {},
     "output_type": "execute_result"
    }
   ],
   "source": [
    "img_elements = dom.select('#comic_view_area .wt_viewer img')\n",
    "len(img_elements)"
   ]
  },
  {
   "cell_type": "code",
   "execution_count": 12,
   "metadata": {},
   "outputs": [
    {
     "data": {
      "text/plain": [
       "['https://image-comic.pstatic.net/webtoon/183559/483/20200502003847_ef28b4ed40d0b8a660f5d759454519ec_IMAG01_1.jpg',\n",
       " 'https://image-comic.pstatic.net/webtoon/183559/483/20200502003847_ef28b4ed40d0b8a660f5d759454519ec_IMAG01_2.jpg',\n",
       " 'https://image-comic.pstatic.net/webtoon/183559/483/20200502003847_ef28b4ed40d0b8a660f5d759454519ec_IMAG01_3.jpg',\n",
       " 'https://image-comic.pstatic.net/webtoon/183559/483/20200502003847_ef28b4ed40d0b8a660f5d759454519ec_IMAG01_4.jpg',\n",
       " 'https://image-comic.pstatic.net/webtoon/183559/483/20200502003847_ef28b4ed40d0b8a660f5d759454519ec_IMAG01_5.jpg',\n",
       " 'https://image-comic.pstatic.net/webtoon/183559/483/20200502003847_ef28b4ed40d0b8a660f5d759454519ec_IMAG01_6.jpg',\n",
       " 'https://image-comic.pstatic.net/webtoon/183559/483/20200502003847_ef28b4ed40d0b8a660f5d759454519ec_IMAG01_7.jpg',\n",
       " 'https://image-comic.pstatic.net/webtoon/183559/483/20200502003847_ef28b4ed40d0b8a660f5d759454519ec_IMAG01_8.jpg',\n",
       " 'https://image-comic.pstatic.net/webtoon/183559/483/20200502003847_ef28b4ed40d0b8a660f5d759454519ec_IMAG01_9.jpg',\n",
       " 'https://image-comic.pstatic.net/webtoon/183559/483/20200502003847_ef28b4ed40d0b8a660f5d759454519ec_IMAG01_10.jpg',\n",
       " 'https://image-comic.pstatic.net/webtoon/183559/483/20200502003847_ef28b4ed40d0b8a660f5d759454519ec_IMAG01_11.jpg',\n",
       " 'https://image-comic.pstatic.net/webtoon/183559/483/20200502003847_ef28b4ed40d0b8a660f5d759454519ec_IMAG01_12.jpg',\n",
       " 'https://image-comic.pstatic.net/webtoon/183559/483/20200502003847_ef28b4ed40d0b8a660f5d759454519ec_IMAG01_13.jpg',\n",
       " 'https://image-comic.pstatic.net/webtoon/183559/483/20200502003847_ef28b4ed40d0b8a660f5d759454519ec_IMAG01_14.jpg',\n",
       " 'https://image-comic.pstatic.net/webtoon/183559/483/20200502003847_ef28b4ed40d0b8a660f5d759454519ec_IMAG01_15.jpg',\n",
       " 'https://image-comic.pstatic.net/webtoon/183559/483/20200502003847_ef28b4ed40d0b8a660f5d759454519ec_IMAG01_16.jpg',\n",
       " 'https://image-comic.pstatic.net/webtoon/183559/483/20200502003847_ef28b4ed40d0b8a660f5d759454519ec_IMAG01_17.jpg',\n",
       " 'https://image-comic.pstatic.net/webtoon/183559/483/20200502003847_ef28b4ed40d0b8a660f5d759454519ec_IMAG01_18.jpg',\n",
       " 'https://image-comic.pstatic.net/webtoon/183559/483/20200502003847_ef28b4ed40d0b8a660f5d759454519ec_IMAG01_19.jpg',\n",
       " 'https://image-comic.pstatic.net/webtoon/183559/483/20200502003847_ef28b4ed40d0b8a660f5d759454519ec_IMAG01_20.jpg',\n",
       " 'https://image-comic.pstatic.net/webtoon/183559/483/20200502003847_ef28b4ed40d0b8a660f5d759454519ec_IMAG01_21.jpg',\n",
       " 'https://image-comic.pstatic.net/webtoon/183559/483/20200502003847_ef28b4ed40d0b8a660f5d759454519ec_IMAG01_22.jpg',\n",
       " 'https://image-comic.pstatic.net/webtoon/183559/483/20200502003847_ef28b4ed40d0b8a660f5d759454519ec_IMAG01_23.jpg',\n",
       " 'https://image-comic.pstatic.net/webtoon/183559/483/20200502003847_ef28b4ed40d0b8a660f5d759454519ec_IMAG01_24.jpg',\n",
       " 'https://image-comic.pstatic.net/webtoon/183559/483/20200502003847_ef28b4ed40d0b8a660f5d759454519ec_IMAG01_25.jpg',\n",
       " 'https://image-comic.pstatic.net/webtoon/183559/483/20200502003847_ef28b4ed40d0b8a660f5d759454519ec_IMAG01_26.jpg',\n",
       " 'https://image-comic.pstatic.net/webtoon/183559/483/20200502003847_ef28b4ed40d0b8a660f5d759454519ec_IMAG01_27.jpg',\n",
       " 'https://image-comic.pstatic.net/webtoon/183559/483/20200502003847_ef28b4ed40d0b8a660f5d759454519ec_IMAG01_28.jpg',\n",
       " 'https://image-comic.pstatic.net/webtoon/183559/483/20200502003847_ef28b4ed40d0b8a660f5d759454519ec_IMAG01_29.jpg',\n",
       " 'https://image-comic.pstatic.net/webtoon/183559/483/20200502003847_ef28b4ed40d0b8a660f5d759454519ec_IMAG01_30.jpg',\n",
       " 'https://image-comic.pstatic.net/webtoon/183559/483/20200502003847_ef28b4ed40d0b8a660f5d759454519ec_IMAG01_31.jpg',\n",
       " 'https://image-comic.pstatic.net/webtoon/183559/483/20200502003847_ef28b4ed40d0b8a660f5d759454519ec_IMAG01_32.jpg',\n",
       " 'https://image-comic.pstatic.net/webtoon/183559/483/20200502003847_ef28b4ed40d0b8a660f5d759454519ec_IMAG01_33.jpg',\n",
       " 'https://image-comic.pstatic.net/webtoon/183559/483/20200502003847_ef28b4ed40d0b8a660f5d759454519ec_IMAG01_34.jpg',\n",
       " 'https://image-comic.pstatic.net/webtoon/183559/483/20200502003847_ef28b4ed40d0b8a660f5d759454519ec_IMAG01_35.jpg',\n",
       " 'https://image-comic.pstatic.net/webtoon/183559/483/20200502003847_ef28b4ed40d0b8a660f5d759454519ec_IMAG01_36.jpg',\n",
       " 'https://image-comic.pstatic.net/webtoon/183559/483/20200502003847_ef28b4ed40d0b8a660f5d759454519ec_IMAG01_37.jpg',\n",
       " 'https://image-comic.pstatic.net/webtoon/183559/483/20200502003847_ef28b4ed40d0b8a660f5d759454519ec_IMAG01_38.jpg',\n",
       " 'https://image-comic.pstatic.net/webtoon/183559/483/20200502003847_ef28b4ed40d0b8a660f5d759454519ec_IMAG01_39.jpg',\n",
       " 'https://image-comic.pstatic.net/webtoon/183559/483/20200502003847_ef28b4ed40d0b8a660f5d759454519ec_IMAG01_40.jpg',\n",
       " 'https://image-comic.pstatic.net/webtoon/183559/483/20200502003847_ef28b4ed40d0b8a660f5d759454519ec_IMAG01_41.jpg',\n",
       " 'https://image-comic.pstatic.net/webtoon/183559/483/20200502003847_ef28b4ed40d0b8a660f5d759454519ec_IMAG01_42.jpg',\n",
       " 'https://image-comic.pstatic.net/webtoon/183559/483/20200502003847_ef28b4ed40d0b8a660f5d759454519ec_IMAG01_43.jpg',\n",
       " 'https://image-comic.pstatic.net/webtoon/183559/483/20200502003847_ef28b4ed40d0b8a660f5d759454519ec_IMAG01_44.jpg',\n",
       " 'https://image-comic.pstatic.net/webtoon/183559/483/20200502003847_ef28b4ed40d0b8a660f5d759454519ec_IMAG01_45.jpg',\n",
       " 'https://image-comic.pstatic.net/webtoon/183559/483/20200502003847_ef28b4ed40d0b8a660f5d759454519ec_IMAG01_46.jpg',\n",
       " 'https://image-comic.pstatic.net/webtoon/183559/483/20200502003847_ef28b4ed40d0b8a660f5d759454519ec_IMAG01_47.jpg',\n",
       " 'https://image-comic.pstatic.net/webtoon/183559/483/20200502003847_ef28b4ed40d0b8a660f5d759454519ec_IMAG01_48.jpg',\n",
       " 'https://image-comic.pstatic.net/webtoon/183559/483/20200502003847_ef28b4ed40d0b8a660f5d759454519ec_IMAG01_49.jpg',\n",
       " 'https://image-comic.pstatic.net/webtoon/183559/483/20200502003847_ef28b4ed40d0b8a660f5d759454519ec_IMAG01_50.jpg',\n",
       " 'https://image-comic.pstatic.net/webtoon/183559/483/20200502003847_ef28b4ed40d0b8a660f5d759454519ec_IMAG01_51.jpg',\n",
       " 'https://image-comic.pstatic.net/webtoon/183559/483/20200502003847_ef28b4ed40d0b8a660f5d759454519ec_IMAG01_52.jpg',\n",
       " 'https://image-comic.pstatic.net/webtoon/183559/483/20200502003847_ef28b4ed40d0b8a660f5d759454519ec_IMAG01_53.jpg',\n",
       " 'https://image-comic.pstatic.net/webtoon/183559/483/20200502003847_ef28b4ed40d0b8a660f5d759454519ec_IMAG01_54.jpg',\n",
       " 'https://image-comic.pstatic.net/webtoon/183559/483/20200502003847_ef28b4ed40d0b8a660f5d759454519ec_IMAG01_55.jpg',\n",
       " 'https://image-comic.pstatic.net/webtoon/183559/483/20200502003847_ef28b4ed40d0b8a660f5d759454519ec_IMAG01_56.jpg',\n",
       " 'https://image-comic.pstatic.net/webtoon/183559/483/20200502003847_ef28b4ed40d0b8a660f5d759454519ec_IMAG01_57.jpg',\n",
       " 'https://image-comic.pstatic.net/webtoon/183559/483/20200502003847_ef28b4ed40d0b8a660f5d759454519ec_IMAG01_58.jpg',\n",
       " 'https://image-comic.pstatic.net/webtoon/183559/483/20200502003847_ef28b4ed40d0b8a660f5d759454519ec_IMAG01_59.jpg',\n",
       " 'https://image-comic.pstatic.net/webtoon/183559/483/20200502003847_ef28b4ed40d0b8a660f5d759454519ec_IMAG01_60.jpg',\n",
       " 'https://image-comic.pstatic.net/webtoon/183559/483/20200502003847_ef28b4ed40d0b8a660f5d759454519ec_IMAG01_61.jpg',\n",
       " 'https://image-comic.pstatic.net/webtoon/183559/483/20200502003847_ef28b4ed40d0b8a660f5d759454519ec_IMAG01_62.jpg',\n",
       " 'https://image-comic.pstatic.net/webtoon/183559/483/20200502003847_ef28b4ed40d0b8a660f5d759454519ec_IMAG01_63.jpg',\n",
       " 'https://image-comic.pstatic.net/webtoon/183559/483/20200502003847_ef28b4ed40d0b8a660f5d759454519ec_IMAG01_64.jpg',\n",
       " 'https://image-comic.pstatic.net/webtoon/183559/483/20200502003847_ef28b4ed40d0b8a660f5d759454519ec_IMAG01_65.jpg',\n",
       " 'https://image-comic.pstatic.net/webtoon/183559/483/20200502003847_ef28b4ed40d0b8a660f5d759454519ec_IMAG01_66.jpg',\n",
       " 'https://image-comic.pstatic.net/webtoon/183559/483/20200502003847_ef28b4ed40d0b8a660f5d759454519ec_IMAG01_67.jpg',\n",
       " 'https://image-comic.pstatic.net/webtoon/183559/483/20200502003847_ef28b4ed40d0b8a660f5d759454519ec_IMAG01_68.jpg',\n",
       " 'https://image-comic.pstatic.net/webtoon/183559/483/20200502003847_ef28b4ed40d0b8a660f5d759454519ec_IMAG01_69.jpg',\n",
       " 'https://image-comic.pstatic.net/webtoon/183559/483/20200502003847_ef28b4ed40d0b8a660f5d759454519ec_IMAG01_70.jpg',\n",
       " 'https://image-comic.pstatic.net/webtoon/183559/483/20200502003847_ef28b4ed40d0b8a660f5d759454519ec_IMAG01_71.jpg',\n",
       " 'https://image-comic.pstatic.net/webtoon/183559/483/20200502003847_ef28b4ed40d0b8a660f5d759454519ec_IMAG01_72.jpg']"
      ]
     },
     "execution_count": 12,
     "metadata": {},
     "output_type": "execute_result"
    }
   ],
   "source": [
    "[\n",
    "    element.attrs['src']\n",
    "    for element in img_elements\n",
    "]"
   ]
  },
  {
   "cell_type": "markdown",
   "metadata": {},
   "source": [
    "## 이미지 한장 다운로드"
   ]
  },
  {
   "cell_type": "code",
   "execution_count": 13,
   "metadata": {},
   "outputs": [],
   "source": [
    "img_url = 'https://image-comic.pstatic.net/webtoon/183559/483/20200502003847_ef28b4ed40d0b8a660f5d759454519ec_IMAG01_2.jpg'"
   ]
  },
  {
   "cell_type": "code",
   "execution_count": 14,
   "metadata": {},
   "outputs": [
    {
     "data": {
      "text/plain": [
       "<Response [403]>"
      ]
     },
     "execution_count": 14,
     "metadata": {},
     "output_type": "execute_result"
    }
   ],
   "source": [
    "response = requests.get(img_url, stream=True)\n",
    "response\n",
    "\n",
    "# 403에러 발생"
   ]
  },
  {
   "cell_type": "code",
   "execution_count": 16,
   "metadata": {},
   "outputs": [],
   "source": [
    "headers = {\n",
    "    'user-agent' : \"Mozilla/5.0 (Windows NT 10.0; Win64; x64) AppleWebKit/537.36 (KHTML, like Gecko) Chrome/81.0.4044.138 Safari/537.36\"\n",
    "}"
   ]
  },
  {
   "cell_type": "code",
   "execution_count": 36,
   "metadata": {},
   "outputs": [
    {
     "data": {
      "text/plain": [
       "<Response [200]>"
      ]
     },
     "execution_count": 36,
     "metadata": {},
     "output_type": "execute_result"
    }
   ],
   "source": [
    "response = requests.get(img_url, headers=headers, stream=True)\n",
    "response"
   ]
  },
  {
   "cell_type": "code",
   "execution_count": 37,
   "metadata": {},
   "outputs": [],
   "source": [
    "if response.status_code == 200:\n",
    "    with open('./download/naverwebtoon.jpg','wb') as f:        \n",
    "        f.write(response.content)"
   ]
  },
  {
   "cell_type": "markdown",
   "metadata": {},
   "source": [
    "## 특정 작품(titled)의 특정 회(no) 크롤링 하기"
   ]
  },
  {
   "cell_type": "code",
   "execution_count": 5,
   "metadata": {},
   "outputs": [],
   "source": [
    "def download_naver_webtoon(titleId, no):\n",
    "    # 1. 페이지 로딩 -> img url 저장\n",
    "    url = f'https://comic.naver.com/webtoon/detail.nhn?titleId={titleId}&no={no}&'\n",
    "    response = requests.get(url)\n",
    "    \n",
    "    if response.status_code != 200:\n",
    "        print('페이지 로딩 실패')\n",
    "        return\n",
    "    \n",
    "    dom = BeautifulSoup(response.text,'html.parser')\n",
    "    img_elements = dom.select('#comic_view_area .wt_viewer img')\n",
    "    print(len(img_elements),'장의 이미지')\n",
    "    \n",
    "    img_url = [\n",
    "        element.attr['src']\n",
    "        for element in img_elements\n",
    "        \n",
    "    ]\n",
    "        \n",
    "    # 2. 이미지들 다운로드\n",
    "    for img_url in img_urls:\n",
    "        # 파일명 추출\n",
    "        disassembled = urlparser.urlparse(img_url)\n",
    "        filename = basename(disassembled.path)\n",
    "        \n",
    "        print('다운로드:',img_url,'->',filename)\n",
    "    \n",
    "        headers = {\n",
    "            \"user-agent\" : \"Mozilla/5.0 (Windows NT 10.0; Win64; x64) AppleWebKit/537.36 (KHTML, like Gecko) Chrome/81.0.4044.138 Safari/537.36\"\n",
    "        }\n",
    "        response = requests.get(img_url, headers=headers, stream=True)\n",
    "        if response.status_code != 200:\n",
    "            print('실패')\n",
    "            continue\n",
    "        with open(f'./download/{filename}','wb') as f:\n",
    "            f.write(response.content)\n",
    "            print('성공')\n",
    "    \n",
    "    "
   ]
  },
  {
   "cell_type": "code",
   "execution_count": 6,
   "metadata": {},
   "outputs": [
    {
     "ename": "NameError",
     "evalue": "name 'requests' is not defined",
     "output_type": "error",
     "traceback": [
      "\u001b[1;31m---------------------------------------------------------------------------\u001b[0m",
      "\u001b[1;31mNameError\u001b[0m                                 Traceback (most recent call last)",
      "\u001b[1;32m<ipython-input-6-20f6f25e713d>\u001b[0m in \u001b[0;36m<module>\u001b[1;34m\u001b[0m\n\u001b[0;32m      1\u001b[0m \u001b[0mtitleId\u001b[0m \u001b[1;33m=\u001b[0m \u001b[1;36m183559\u001b[0m\u001b[1;33m\u001b[0m\u001b[1;33m\u001b[0m\u001b[0m\n\u001b[0;32m      2\u001b[0m \u001b[0mno\u001b[0m \u001b[1;33m=\u001b[0m \u001b[1;36m483\u001b[0m\u001b[1;33m\u001b[0m\u001b[1;33m\u001b[0m\u001b[0m\n\u001b[1;32m----> 3\u001b[1;33m \u001b[0mdownload_naver_webtoon\u001b[0m\u001b[1;33m(\u001b[0m\u001b[0mtitleId\u001b[0m\u001b[1;33m,\u001b[0m \u001b[0mno\u001b[0m\u001b[1;33m)\u001b[0m\u001b[1;33m\u001b[0m\u001b[1;33m\u001b[0m\u001b[0m\n\u001b[0m",
      "\u001b[1;32m<ipython-input-5-ea5ec0117276>\u001b[0m in \u001b[0;36mdownload_naver_webtoon\u001b[1;34m(titleId, no)\u001b[0m\n\u001b[0;32m      2\u001b[0m     \u001b[1;31m# 1. 페이지 로딩 -> img url 저장\u001b[0m\u001b[1;33m\u001b[0m\u001b[1;33m\u001b[0m\u001b[1;33m\u001b[0m\u001b[0m\n\u001b[0;32m      3\u001b[0m     \u001b[0murl\u001b[0m \u001b[1;33m=\u001b[0m \u001b[1;34mf'https://comic.naver.com/webtoon/detail.nhn?titleId={titleId}&no={no}&'\u001b[0m\u001b[1;33m\u001b[0m\u001b[1;33m\u001b[0m\u001b[0m\n\u001b[1;32m----> 4\u001b[1;33m     \u001b[0mresponse\u001b[0m \u001b[1;33m=\u001b[0m \u001b[0mrequests\u001b[0m\u001b[1;33m.\u001b[0m\u001b[0mget\u001b[0m\u001b[1;33m(\u001b[0m\u001b[0murl\u001b[0m\u001b[1;33m)\u001b[0m\u001b[1;33m\u001b[0m\u001b[1;33m\u001b[0m\u001b[0m\n\u001b[0m\u001b[0;32m      5\u001b[0m \u001b[1;33m\u001b[0m\u001b[0m\n\u001b[0;32m      6\u001b[0m     \u001b[1;32mif\u001b[0m \u001b[0mresponse\u001b[0m\u001b[1;33m.\u001b[0m\u001b[0mstatus_code\u001b[0m \u001b[1;33m!=\u001b[0m \u001b[1;36m200\u001b[0m\u001b[1;33m:\u001b[0m\u001b[1;33m\u001b[0m\u001b[1;33m\u001b[0m\u001b[0m\n",
      "\u001b[1;31mNameError\u001b[0m: name 'requests' is not defined"
     ]
    }
   ],
   "source": [
    "titleId = 183559\n",
    "no = 483\n",
    "download_naver_webtoon(titleId, no)"
   ]
  },
  {
   "cell_type": "code",
   "execution_count": null,
   "metadata": {},
   "outputs": [],
   "source": []
  },
  {
   "cell_type": "markdown",
   "metadata": {},
   "source": [
    "## 특정회차(들) 다운로드 하려면"
   ]
  },
  {
   "cell_type": "code",
   "execution_count": 51,
   "metadata": {},
   "outputs": [],
   "source": [
    "startNo = 480\n",
    "endNo = 483\n",
    "titleid = 183559"
   ]
  },
  {
   "cell_type": "code",
   "execution_count": 52,
   "metadata": {},
   "outputs": [
    {
     "name": "stdout",
     "output_type": "stream",
     "text": [
      "107 장의 이미지\n"
     ]
    },
    {
     "ename": "TypeError",
     "evalue": "'NoneType' object is not subscriptable",
     "output_type": "error",
     "traceback": [
      "\u001b[1;31m---------------------------------------------------------------------------\u001b[0m",
      "\u001b[1;31mTypeError\u001b[0m                                 Traceback (most recent call last)",
      "\u001b[1;32m<ipython-input-52-c3256fd4e0d4>\u001b[0m in \u001b[0;36m<module>\u001b[1;34m\u001b[0m\n\u001b[0;32m      1\u001b[0m \u001b[1;32mfor\u001b[0m \u001b[0mno\u001b[0m \u001b[1;32min\u001b[0m \u001b[0mrange\u001b[0m\u001b[1;33m(\u001b[0m\u001b[0mstartNo\u001b[0m\u001b[1;33m,\u001b[0m \u001b[0mendNo\u001b[0m \u001b[1;33m+\u001b[0m \u001b[1;36m1\u001b[0m\u001b[1;33m)\u001b[0m\u001b[1;33m:\u001b[0m\u001b[1;33m\u001b[0m\u001b[1;33m\u001b[0m\u001b[0m\n\u001b[1;32m----> 2\u001b[1;33m     \u001b[0mdownload_naver_webtoon\u001b[0m\u001b[1;33m(\u001b[0m\u001b[0mtitleid\u001b[0m\u001b[1;33m,\u001b[0m\u001b[0mno\u001b[0m\u001b[1;33m)\u001b[0m\u001b[1;33m\u001b[0m\u001b[1;33m\u001b[0m\u001b[0m\n\u001b[0m",
      "\u001b[1;32m<ipython-input-49-cb90bf5b852d>\u001b[0m in \u001b[0;36mdownload_naver_webtoon\u001b[1;34m(titleid, no)\u001b[0m\n\u001b[0;32m     14\u001b[0m     img_url = [\n\u001b[0;32m     15\u001b[0m         \u001b[0melement\u001b[0m\u001b[1;33m.\u001b[0m\u001b[0mattr\u001b[0m\u001b[1;33m[\u001b[0m\u001b[1;34m'src'\u001b[0m\u001b[1;33m]\u001b[0m\u001b[1;33m\u001b[0m\u001b[1;33m\u001b[0m\u001b[0m\n\u001b[1;32m---> 16\u001b[1;33m         \u001b[1;32mfor\u001b[0m \u001b[0melement\u001b[0m \u001b[1;32min\u001b[0m \u001b[0mimg_elements\u001b[0m\u001b[1;33m\u001b[0m\u001b[1;33m\u001b[0m\u001b[0m\n\u001b[0m\u001b[0;32m     17\u001b[0m \u001b[1;33m\u001b[0m\u001b[0m\n\u001b[0;32m     18\u001b[0m     ]\n",
      "\u001b[1;32m<ipython-input-49-cb90bf5b852d>\u001b[0m in \u001b[0;36m<listcomp>\u001b[1;34m(.0)\u001b[0m\n\u001b[0;32m     14\u001b[0m     img_url = [\n\u001b[0;32m     15\u001b[0m         \u001b[0melement\u001b[0m\u001b[1;33m.\u001b[0m\u001b[0mattr\u001b[0m\u001b[1;33m[\u001b[0m\u001b[1;34m'src'\u001b[0m\u001b[1;33m]\u001b[0m\u001b[1;33m\u001b[0m\u001b[1;33m\u001b[0m\u001b[0m\n\u001b[1;32m---> 16\u001b[1;33m         \u001b[1;32mfor\u001b[0m \u001b[0melement\u001b[0m \u001b[1;32min\u001b[0m \u001b[0mimg_elements\u001b[0m\u001b[1;33m\u001b[0m\u001b[1;33m\u001b[0m\u001b[0m\n\u001b[0m\u001b[0;32m     17\u001b[0m \u001b[1;33m\u001b[0m\u001b[0m\n\u001b[0;32m     18\u001b[0m     ]\n",
      "\u001b[1;31mTypeError\u001b[0m: 'NoneType' object is not subscriptable"
     ]
    }
   ],
   "source": [
    "for no in range(startNo, endNo + 1):\n",
    "    download_naver_webtoon(titleid,no)"
   ]
  },
  {
   "cell_type": "code",
   "execution_count": null,
   "metadata": {},
   "outputs": [],
   "source": []
  },
  {
   "cell_type": "code",
   "execution_count": null,
   "metadata": {},
   "outputs": [],
   "source": []
  },
  {
   "cell_type": "code",
   "execution_count": null,
   "metadata": {},
   "outputs": [],
   "source": []
  },
  {
   "cell_type": "code",
   "execution_count": null,
   "metadata": {},
   "outputs": [],
   "source": []
  },
  {
   "cell_type": "code",
   "execution_count": null,
   "metadata": {},
   "outputs": [],
   "source": []
  },
  {
   "cell_type": "code",
   "execution_count": null,
   "metadata": {},
   "outputs": [],
   "source": []
  },
  {
   "cell_type": "code",
   "execution_count": null,
   "metadata": {},
   "outputs": [],
   "source": []
  },
  {
   "cell_type": "code",
   "execution_count": null,
   "metadata": {},
   "outputs": [],
   "source": []
  }
 ],
 "metadata": {
  "kernelspec": {
   "display_name": "Python 3",
   "language": "python",
   "name": "python3"
  },
  "language_info": {
   "codemirror_mode": {
    "name": "ipython",
    "version": 3
   },
   "file_extension": ".py",
   "mimetype": "text/x-python",
   "name": "python",
   "nbconvert_exporter": "python",
   "pygments_lexer": "ipython3",
   "version": "3.7.6"
  }
 },
 "nbformat": 4,
 "nbformat_minor": 4
}
