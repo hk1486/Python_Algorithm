{
 "cells": [
  {
   "cell_type": "markdown",
   "metadata": {},
   "source": [
    "### 연습: 네이트 인기 검색어"
   ]
  },
  {
   "cell_type": "code",
   "execution_count": null,
   "metadata": {},
   "outputs": [],
   "source": [
    "\"\"\"\n",
    "[결과예]\n",
    "[\n",
    "    {'검색어': '민주당 압승', \n",
    "    'URL': 'https://search.daum.net/nate?w=tot&q=%EB%AF%BC%EC%A3%BC%EB%8B%B9+%EC%95%95%EC%8A%B9'\n",
    "    }, \n",
    "    {'검색어': '기부 동참', \n",
    "    'URL': 'https://search.daum.net/nate?w=tot&DA=NBZ&q=%ED%9B%84%EC%9B%90'\n",
    "    }, \n",
    "    {'검색어': '스마일라식', \n",
    "    'URL': 'https://search.daum.net/nate?w=tot&DA=NBZ&q=%EC%8A%A4%EB%A7%88%EC%9D%BC%EB%9D%BC%EC%8B%9D'\n",
    "    }, \n",
    "    {'검색어': '솔비 추모 그림', \n",
    "    'URL': 'https://search.daum.net/nate?w=tot&q=%EC%86%94%EB%B9%84+%EC%B6%94%EB%AA%A8+%EA%B7%B8%EB%A6%BC'\n",
    "    }, \n",
    "    {'검색어': '세월호 6주기', \n",
    "    'URL': 'https://search.daum.net/nate?w=tot&q=%EC%84%B8%EC%9B%94%ED%98%B8+6%EC%A3%BC%EA%B8%B0'\n",
    "    }\n",
    "]\n",
    "\"\"\"\n",
    "None\n",
    "\n",
    "\n"
   ]
  },
  {
   "cell_type": "code",
   "execution_count": 20,
   "metadata": {},
   "outputs": [
    {
     "name": "stdout",
     "output_type": "stream",
     "text": [
      "네이트 인기 검색어\n",
      "5\n",
      "[{'검색어': '이민정 해명', 'URL': 'https://search.daum.net/nate?w=tot&q=%EC%9D%B4%EB%AF%BC%EC%A0%95+%EC%9D%B4%ED%83%9C%EC%9B%90+%ED%8C%8C%ED%8B%B0'}, {'검색어': '어깨통증 원인', 'URL': 'https://search.daum.net/nate?w=tot&DA=NAD&q=%EC%96%B4%EA%B9%A8%ED%86%B5%EC%A6%9D'}, {'검색어': '공무원 인강', 'URL': 'https://search.daum.net/nate?w=tot&DA=NAD&q=%EA%B3%B5%EB%AC%B4%EC%9B%90%EC%9D%B8%EA%B0%95'}, {'검색어': '베어스 매각설', 'URL': 'https://search.daum.net/nate?w=tot&q=%EB%B2%A0%EC%96%B4%EC%8A%A4+%EB%A7%A4%EA%B0%81'}, {'검색어': '구하라법 무산', 'URL': 'https://search.daum.net/nate?w=tot&q=%EA%B5%AC%ED%95%98%EB%9D%BC%EB%B2%95'}]\n"
     ]
    }
   ],
   "source": [
    "import requests\n",
    "import pprint\n",
    "from bs4 import BeautifulSoup\n",
    "\n",
    "print('네이트 인기 검색어')\n",
    "url = \"https://www.nate.com/?f=autorefresh\"\n",
    "response = requests.get(url)\n",
    "if response.status_code == 200:\n",
    "    dom = BeautifulSoup(response.text, \"html.parser\")\n",
    "    elements = dom.select('.search_keyword a')\n",
    "    print(len(elements))\n",
    "    \n",
    "    result = [\n",
    "        {\n",
    "            '검색어' : element.text.strip(),\n",
    "            'URL' : element.attrs.get('href').strip()\n",
    "        }\n",
    "        for element in elements\n",
    "     ]\n",
    "    print(result)\n"
   ]
  },
  {
   "cell_type": "code",
   "execution_count": null,
   "metadata": {},
   "outputs": [],
   "source": []
  },
  {
   "cell_type": "code",
   "execution_count": null,
   "metadata": {},
   "outputs": [],
   "source": []
  },
  {
   "cell_type": "code",
   "execution_count": null,
   "metadata": {},
   "outputs": [],
   "source": []
  },
  {
   "cell_type": "code",
   "execution_count": null,
   "metadata": {},
   "outputs": [],
   "source": []
  },
  {
   "cell_type": "code",
   "execution_count": null,
   "metadata": {},
   "outputs": [],
   "source": []
  },
  {
   "cell_type": "code",
   "execution_count": null,
   "metadata": {},
   "outputs": [],
   "source": []
  }
 ],
 "metadata": {
  "kernelspec": {
   "display_name": "Python 3",
   "language": "python",
   "name": "python3"
  },
  "language_info": {
   "codemirror_mode": {
    "name": "ipython",
    "version": 3
   },
   "file_extension": ".py",
   "mimetype": "text/x-python",
   "name": "python",
   "nbconvert_exporter": "python",
   "pygments_lexer": "ipython3",
   "version": "3.7.6"
  }
 },
 "nbformat": 4,
 "nbformat_minor": 4
}
