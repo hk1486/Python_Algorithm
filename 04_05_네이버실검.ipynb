{
 "cells": [
  {
   "cell_type": "markdown",
   "metadata": {},
   "source": [
    "# 네이버 실검"
   ]
  },
  {
   "cell_type": "code",
   "execution_count": 2,
   "metadata": {},
   "outputs": [],
   "source": [
    "\"\"\"\n",
    "\n",
    "2020.5 현재 \n",
    "검색어 필터 설정을 해주어야 한다\n",
    "\n",
    "개발자 도구-Network - XHR 필터링 한후 확인해보자.\n",
    "\n",
    "https://apis.naver.com/mobile_main/srchrank/srchrank?frm=main&ag=40s&gr=4&ma=2&si=2&en=2&sp=2\n",
    "\n",
    "https://apis.naver.com/mobile_main/srchrank/srchrank?frm=main\n",
    "&ag=40s\n",
    "&gr=4     묶어보기?\n",
    "&ma=2    이벤트할인?\n",
    "&si=2    시사?\n",
    "&en=2    엔터테인먼트?\n",
    "&sp=2    스포츠?\n",
    "\"\"\"\n",
    "\n",
    "None"
   ]
  },
  {
   "cell_type": "code",
   "execution_count": 4,
   "metadata": {},
   "outputs": [
    {
     "data": {
      "text/plain": [
       "['유현주',\n",
       " '진중권',\n",
       " '잠실 날씨',\n",
       " '이연희',\n",
       " '박지훈',\n",
       " '농협몰',\n",
       " '배선우',\n",
       " '밥블레스유 대창꼬치',\n",
       " '럭키 식당',\n",
       " '호랑이 선생님',\n",
       " '고성희',\n",
       " '굿걸',\n",
       " '스승의날 편지',\n",
       " '아내의 자격',\n",
       " '퀸 와사비',\n",
       " '뺑반',\n",
       " '버스터즈',\n",
       " '한명숙',\n",
       " '성분에디터',\n",
       " '한만호']"
      ]
     },
     "execution_count": 4,
     "metadata": {},
     "output_type": "execute_result"
    }
   ],
   "source": [
    "['유현주',\n",
    " '진중권',\n",
    " '잠실 날씨',\n",
    " '이연희',\n",
    " '박지훈',\n",
    " '농협몰',\n",
    " '배선우',\n",
    " '밥블레스유 대창꼬치',\n",
    " '럭키 식당',\n",
    " '호랑이 선생님',\n",
    " '고성희',\n",
    " '굿걸',\n",
    " '스승의날 편지',\n",
    " '아내의 자격',\n",
    " '퀸 와사비',\n",
    " '뺑반',\n",
    " '버스터즈',\n",
    " '한명숙',\n",
    " '성분에디터',\n",
    " '한만호']\n",
    "\n",
    "# 이런식으로 크롤링 나오게 해보기!\n"
   ]
  },
  {
   "cell_type": "code",
   "execution_count": 1,
   "metadata": {},
   "outputs": [],
   "source": [
    "import requests\n",
    "from bs4 import BeautifulSoup\n"
   ]
  },
  {
   "cell_type": "code",
   "execution_count": 2,
   "metadata": {},
   "outputs": [
    {
     "data": {
      "text/plain": [
       "<Response [200]>"
      ]
     },
     "execution_count": 2,
     "metadata": {},
     "output_type": "execute_result"
    }
   ],
   "source": [
    "url = 'https://apis.naver.com/mobile_main/srchrank/srchrank?frm=main&ag=40s&gr=4&ma=2&si=2&en=2&sp=2'\n",
    "response = requests.get(url)\n",
    "response"
   ]
  },
  {
   "cell_type": "code",
   "execution_count": 7,
   "metadata": {},
   "outputs": [
    {
     "data": {
      "text/plain": [
       "dict"
      ]
     },
     "execution_count": 7,
     "metadata": {},
     "output_type": "execute_result"
    }
   ],
   "source": [
    "jsondata = response.json() #JSON 텍스트 -> 파이썬 데이터(딕셔너리, 리스트)로 변환 \n",
    "data\n",
    "type(data)"
   ]
  },
  {
   "cell_type": "code",
   "execution_count": 8,
   "metadata": {},
   "outputs": [
    {
     "data": {
      "text/plain": [
       "20"
      ]
     },
     "execution_count": 8,
     "metadata": {},
     "output_type": "execute_result"
    }
   ],
   "source": [
    "itemList = jsondata['data']\n",
    "len(itemList)"
   ]
  },
  {
   "cell_type": "code",
   "execution_count": 9,
   "metadata": {},
   "outputs": [
    {
     "data": {
      "text/plain": [
       "['이용수 할머니 기자회견',\n",
       " '속초붉은대게',\n",
       " '동일루',\n",
       " '동대문엽기떡볶이',\n",
       " '약쿠르트',\n",
       " '최송현',\n",
       " '곽상도',\n",
       " '서울시 자영업자 생존자금신청',\n",
       " '강정호',\n",
       " '붉은대게살',\n",
       " '강서구 확진자',\n",
       " '야식남녀',\n",
       " '아산 이마트',\n",
       " '김우석',\n",
       " '박성광',\n",
       " '생방송 오늘저녁',\n",
       " '토르',\n",
       " '플레디스',\n",
       " '6시내고향',\n",
       " '내 마음이 들리니']"
      ]
     },
     "execution_count": 9,
     "metadata": {},
     "output_type": "execute_result"
    }
   ],
   "source": [
    "result = [\n",
    "    item['keyword']\n",
    "    for item in itemList\n",
    "]\n",
    "result"
   ]
  },
  {
   "cell_type": "markdown",
   "metadata": {},
   "source": [
    "# 완성본"
   ]
  },
  {
   "cell_type": "code",
   "execution_count": 11,
   "metadata": {},
   "outputs": [
    {
     "data": {
      "text/plain": [
       "['이용수',\n",
       " '생생정보통 맛집오늘',\n",
       " '속초붉은대게',\n",
       " '이천 한식 보리밥 뷔페',\n",
       " '동일루',\n",
       " '동대문엽기떡볶이',\n",
       " '약쿠르트',\n",
       " '곽상도',\n",
       " '최송현',\n",
       " '강정호',\n",
       " '서울시 자영업자 생존자금신청',\n",
       " '붉은대게살',\n",
       " '강서구 확진자',\n",
       " '야식남녀',\n",
       " '김우석',\n",
       " '박성광',\n",
       " '토르',\n",
       " '문정인',\n",
       " '국세환급금',\n",
       " '내 마음이 들리니']"
      ]
     },
     "execution_count": 11,
     "metadata": {},
     "output_type": "execute_result"
    }
   ],
   "source": [
    "import requests\n",
    "from bs4 import BeautifulSoup\n",
    "url = 'https://apis.naver.com/mobile_main/srchrank/srchrank?frm=main&ag=40s&gr=4&ma=2&si=2&en=2&sp=2'\n",
    "response = requests.get(url)\n",
    "jsondata = response.json()\n",
    "itemList = jsondata['data']\n",
    "result = [\n",
    "    item['keyword']\n",
    "    for item in itemList\n",
    "]\n",
    "result"
   ]
  },
  {
   "cell_type": "code",
   "execution_count": null,
   "metadata": {},
   "outputs": [],
   "source": []
  },
  {
   "cell_type": "code",
   "execution_count": null,
   "metadata": {},
   "outputs": [],
   "source": []
  },
  {
   "cell_type": "code",
   "execution_count": null,
   "metadata": {},
   "outputs": [],
   "source": []
  },
  {
   "cell_type": "code",
   "execution_count": null,
   "metadata": {},
   "outputs": [],
   "source": []
  },
  {
   "cell_type": "code",
   "execution_count": null,
   "metadata": {},
   "outputs": [],
   "source": []
  }
 ],
 "metadata": {
  "kernelspec": {
   "display_name": "Python 3",
   "language": "python",
   "name": "python3"
  },
  "language_info": {
   "codemirror_mode": {
    "name": "ipython",
    "version": 3
   },
   "file_extension": ".py",
   "mimetype": "text/x-python",
   "name": "python",
   "nbconvert_exporter": "python",
   "pygments_lexer": "ipython3",
   "version": "3.7.6"
  }
 },
 "nbformat": 4,
 "nbformat_minor": 4
}
