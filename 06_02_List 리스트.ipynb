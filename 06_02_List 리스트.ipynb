{
 "cells": [
  {
   "cell_type": "markdown",
   "metadata": {},
   "source": [
    "# 리스트(list)"
   ]
  },
  {
   "cell_type": "markdown",
   "metadata": {},
   "source": [
    "1. 데이터(들)이 순서가 유지된 형태의 선형 자료구조\n",
    "1. 데이터의 중복 저장 허용"
   ]
  },
  {
   "cell_type": "markdown",
   "metadata": {},
   "source": [
    "## 연결리스트(Linked List) vs 배열리스트(Array List)"
   ]
  },
  {
   "cell_type": "markdown",
   "metadata": {},
   "source": [
    "![배열 vs 연결리스트](https://qph.fs.quoracdn.net/main-qimg-41cdfa9a815220598f2c03f1bccaeff8)\n",
    "\n"
   ]
  },
  {
   "cell_type": "markdown",
   "metadata": {},
   "source": [
    "- ArryList\n",
    "    - 장점 : n번째 데이터 조회 유리\n",
    "    - 단점 : 데이터 삽입, 삭제, 추가 불리\n",
    "    \n",
    "- LinkedList\n",
    "    - 장점 : 데이터 삽입, 삭제, 추가 유리\n",
    "    - 단점 : n번째 데이터 조회 불리"
   ]
  },
  {
   "cell_type": "markdown",
   "metadata": {},
   "source": [
    "## Node\n",
    "값(데이터) + 다음 node에 대한 포인터로 이루어진 객체"
   ]
  },
  {
   "cell_type": "markdown",
   "metadata": {},
   "source": [
    "![노드](https://img1.daumcdn.net/thumb/R800x0/?scode=mtistory2&fname=https%3A%2F%2Ft1.daumcdn.net%2Fcfile%2Ftistory%2F23490844589151461C)\n",
    "\n"
   ]
  },
  {
   "cell_type": "code",
   "execution_count": 11,
   "metadata": {},
   "outputs": [],
   "source": [
    "class Node(object):\n",
    "    def __init__(self,value=None,pointer=None):\n",
    "        self.value = value # 값 (데이터)\n",
    "        self.pointer = pointer # 다음 노드를 가리키는 포인터"
   ]
  },
  {
   "cell_type": "code",
   "execution_count": 12,
   "metadata": {},
   "outputs": [
    {
     "data": {
      "text/plain": [
       "<__main__.Node at 0x1c4425609c8>"
      ]
     },
     "execution_count": 12,
     "metadata": {},
     "output_type": "execute_result"
    }
   ],
   "source": [
    "n1 = Node(\"N1\")\n",
    "n1"
   ]
  },
  {
   "cell_type": "code",
   "execution_count": 13,
   "metadata": {},
   "outputs": [
    {
     "data": {
      "text/plain": [
       "<__main__.Node at 0x1c44259c508>"
      ]
     },
     "execution_count": 13,
     "metadata": {},
     "output_type": "execute_result"
    }
   ],
   "source": [
    "n2 = Node(\"N2\")\n",
    "n2"
   ]
  },
  {
   "cell_type": "code",
   "execution_count": 14,
   "metadata": {},
   "outputs": [],
   "source": [
    "n1.pointer = n2"
   ]
  },
  {
   "cell_type": "code",
   "execution_count": 15,
   "metadata": {},
   "outputs": [
    {
     "data": {
      "text/plain": [
       "'N1'"
      ]
     },
     "execution_count": 15,
     "metadata": {},
     "output_type": "execute_result"
    }
   ],
   "source": [
    "n1.value"
   ]
  },
  {
   "cell_type": "code",
   "execution_count": 16,
   "metadata": {},
   "outputs": [
    {
     "data": {
      "text/plain": [
       "<__main__.Node at 0x1c44259c508>"
      ]
     },
     "execution_count": 16,
     "metadata": {},
     "output_type": "execute_result"
    }
   ],
   "source": [
    "n1.pointer # n2"
   ]
  },
  {
   "cell_type": "code",
   "execution_count": 17,
   "metadata": {},
   "outputs": [
    {
     "data": {
      "text/plain": [
       "'N2'"
      ]
     },
     "execution_count": 17,
     "metadata": {},
     "output_type": "execute_result"
    }
   ],
   "source": [
    "n1.pointer.value #n2 의 값"
   ]
  },
  {
   "cell_type": "code",
   "execution_count": 18,
   "metadata": {},
   "outputs": [
    {
     "name": "stdout",
     "output_type": "stream",
     "text": [
      "None\n"
     ]
    }
   ],
   "source": [
    "print(n1.pointer.pointer) # n2 포인터의 값"
   ]
  },
  {
   "cell_type": "code",
   "execution_count": 19,
   "metadata": {},
   "outputs": [],
   "source": [
    "class Node(object):\n",
    "    def __init__(self,value=None,pointer=None):\n",
    "        self.value = value # 값 (데이터)\n",
    "        self.pointer = pointer # 다음 노드를 가리키는 포인터\n",
    "        \n",
    "    def getData(self):\n",
    "        return self.value\n",
    "    \n",
    "    def getNext(self):\n",
    "        return self.pointer\n",
    "    \n",
    "    def setData(self, newdata):\n",
    "        self.value = newdata\n",
    "        \n",
    "    def setNext(self, newpointer):\n",
    "        self.pointer = newpointer\n",
    "        \n",
    "    def __repr__(self):\n",
    "        return \"[%s -> %s]\" % (str(self.value), str(self.pointer))"
   ]
  },
  {
   "cell_type": "code",
   "execution_count": 20,
   "metadata": {},
   "outputs": [
    {
     "data": {
      "text/plain": [
       "[N1 -> None]"
      ]
     },
     "execution_count": 20,
     "metadata": {},
     "output_type": "execute_result"
    }
   ],
   "source": [
    "n1 = Node('N1')\n",
    "n1"
   ]
  },
  {
   "cell_type": "code",
   "execution_count": 21,
   "metadata": {},
   "outputs": [
    {
     "data": {
      "text/plain": [
       "[N2 -> None]"
      ]
     },
     "execution_count": 21,
     "metadata": {},
     "output_type": "execute_result"
    }
   ],
   "source": [
    "n2 = Node('N2')\n",
    "n2"
   ]
  },
  {
   "cell_type": "code",
   "execution_count": 22,
   "metadata": {},
   "outputs": [
    {
     "data": {
      "text/plain": [
       "[N1 -> [N2 -> None]]"
      ]
     },
     "execution_count": 22,
     "metadata": {},
     "output_type": "execute_result"
    }
   ],
   "source": [
    "n1.pointer = n2\n",
    "n1"
   ]
  },
  {
   "cell_type": "code",
   "execution_count": 23,
   "metadata": {},
   "outputs": [
    {
     "data": {
      "text/plain": [
       "[N3 -> [N1 -> [N2 -> None]]]"
      ]
     },
     "execution_count": 23,
     "metadata": {},
     "output_type": "execute_result"
    }
   ],
   "source": [
    "n3 = Node('N3',n1)\n",
    "n3"
   ]
  },
  {
   "cell_type": "markdown",
   "metadata": {},
   "source": [
    "### assert(조건식)\n",
    "조건식이 거짓이면 AssertionError 발생"
   ]
  },
  {
   "cell_type": "code",
   "execution_count": 24,
   "metadata": {},
   "outputs": [],
   "source": [
    "assert(10==10) # 참 일때는 걍 넘어감"
   ]
  },
  {
   "cell_type": "code",
   "execution_count": 25,
   "metadata": {},
   "outputs": [
    {
     "ename": "AssertionError",
     "evalue": "",
     "output_type": "error",
     "traceback": [
      "\u001b[1;31m---------------------------------------------------------------------------\u001b[0m",
      "\u001b[1;31mAssertionError\u001b[0m                            Traceback (most recent call last)",
      "\u001b[1;32m<ipython-input-25-7950aabae8f2>\u001b[0m in \u001b[0;36m<module>\u001b[1;34m\u001b[0m\n\u001b[1;32m----> 1\u001b[1;33m \u001b[1;32massert\u001b[0m\u001b[1;33m(\u001b[0m\u001b[1;36m10\u001b[0m \u001b[1;33m!=\u001b[0m \u001b[1;36m10\u001b[0m\u001b[1;33m)\u001b[0m \u001b[1;31m# 거짓이니까 에러\u001b[0m\u001b[1;33m\u001b[0m\u001b[1;33m\u001b[0m\u001b[0m\n\u001b[0m",
      "\u001b[1;31mAssertionError\u001b[0m: "
     ]
    }
   ],
   "source": [
    "assert(10 != 10) # 거짓이니까 에러"
   ]
  },
  {
   "cell_type": "code",
   "execution_count": 26,
   "metadata": {},
   "outputs": [],
   "source": [
    "L = Node('a',Node('b',Node('c',Node('d'))))"
   ]
  },
  {
   "cell_type": "code",
   "execution_count": 27,
   "metadata": {},
   "outputs": [
    {
     "data": {
      "text/plain": [
       "'d'"
      ]
     },
     "execution_count": 27,
     "metadata": {},
     "output_type": "execute_result"
    }
   ],
   "source": [
    "L.pointer.pointer.pointer.value # 'd'"
   ]
  },
  {
   "cell_type": "code",
   "execution_count": 28,
   "metadata": {},
   "outputs": [
    {
     "ename": "AssertionError",
     "evalue": "",
     "output_type": "error",
     "traceback": [
      "\u001b[1;31m---------------------------------------------------------------------------\u001b[0m",
      "\u001b[1;31mAssertionError\u001b[0m                            Traceback (most recent call last)",
      "\u001b[1;32m<ipython-input-28-5a8662dd4a6d>\u001b[0m in \u001b[0;36m<module>\u001b[1;34m\u001b[0m\n\u001b[1;32m----> 1\u001b[1;33m \u001b[1;32massert\u001b[0m\u001b[1;33m(\u001b[0m\u001b[0mL\u001b[0m\u001b[1;33m.\u001b[0m\u001b[0mpointer\u001b[0m\u001b[1;33m.\u001b[0m\u001b[0mpointer\u001b[0m\u001b[1;33m.\u001b[0m\u001b[0mpointer\u001b[0m\u001b[1;33m.\u001b[0m\u001b[0mvalue\u001b[0m \u001b[1;33m==\u001b[0m \u001b[1;34m'c'\u001b[0m\u001b[1;33m)\u001b[0m \u001b[1;31m# d가 아니면 에러\u001b[0m\u001b[1;33m\u001b[0m\u001b[1;33m\u001b[0m\u001b[0m\n\u001b[0m",
      "\u001b[1;31mAssertionError\u001b[0m: "
     ]
    }
   ],
   "source": [
    "assert(L.pointer.pointer.pointer.value == 'c') # d가 아니면 에러"
   ]
  },
  {
   "cell_type": "code",
   "execution_count": 29,
   "metadata": {},
   "outputs": [
    {
     "data": {
      "text/plain": [
       "[a -> [b -> [c -> [d -> None]]]]"
      ]
     },
     "execution_count": 29,
     "metadata": {},
     "output_type": "execute_result"
    }
   ],
   "source": [
    "L"
   ]
  },
  {
   "cell_type": "code",
   "execution_count": 30,
   "metadata": {},
   "outputs": [
    {
     "data": {
      "text/plain": [
       "[a -> [e -> None]]"
      ]
     },
     "execution_count": 30,
     "metadata": {},
     "output_type": "execute_result"
    }
   ],
   "source": [
    "L.setNext(Node('e'))\n",
    "L"
   ]
  },
  {
   "cell_type": "code",
   "execution_count": 31,
   "metadata": {},
   "outputs": [
    {
     "data": {
      "text/plain": [
       "[e -> None]"
      ]
     },
     "execution_count": 31,
     "metadata": {},
     "output_type": "execute_result"
    }
   ],
   "source": [
    "L.getNext()"
   ]
  },
  {
   "cell_type": "code",
   "execution_count": 32,
   "metadata": {},
   "outputs": [
    {
     "data": {
      "text/plain": [
       "'e'"
      ]
     },
     "execution_count": 32,
     "metadata": {},
     "output_type": "execute_result"
    }
   ],
   "source": [
    "L.getNext().getData()"
   ]
  },
  {
   "cell_type": "code",
   "execution_count": 33,
   "metadata": {},
   "outputs": [
    {
     "data": {
      "text/plain": [
       "[a -> [eee -> None]]"
      ]
     },
     "execution_count": 33,
     "metadata": {},
     "output_type": "execute_result"
    }
   ],
   "source": [
    "L.getNext().setData('eee')\n",
    "L"
   ]
  },
  {
   "cell_type": "code",
   "execution_count": null,
   "metadata": {},
   "outputs": [],
   "source": []
  },
  {
   "cell_type": "markdown",
   "metadata": {},
   "source": [
    "# LinkedList 구현\n",
    "FIFO (First-In First-Out) 으로 구현"
   ]
  },
  {
   "cell_type": "markdown",
   "metadata": {},
   "source": [
    "- List의 동작들\n",
    "    - 각 노드의 값을 출력\n",
    "    - 이전 노드(prev) 기준으로 다음 노드(next) '삭제'하기\n",
    "    - 새 노드 '추가'\n",
    "    - n번째 노드 찾기 (index)\n",
    "    - '값'으로 노드 찾기\n",
    "    - n번째 노드 '삭제'하기\n",
    "    - 특정 '값'의 노드 '삭제'하기"
   ]
  },
  {
   "cell_type": "code",
   "execution_count": 82,
   "metadata": {},
   "outputs": [],
   "source": [
    "class LinkedListFIFO(object):\n",
    "    def __init__(self):\n",
    "        self.head = None # 리스트의 첫번째 노드를 가리키는 포인터\n",
    "        self.length = 0   # 리스트의 노드(데이터) 개수 \n",
    "        self.tail = None # 리스트의 마지막 노드를 가리키는 포인터\n",
    "        \n",
    "    # 새 노드를 추가하기 : tail이 있다면 tail의 다음 노드는 새 노드를 가리키고 tail은 새 노드를 가리킨다.  \n",
    "    def _add(self, value):\n",
    "        self.length += 1 # 노드 개수 1 증가\n",
    "        node = Node(value) # 새로이 추가될 노드 생성\n",
    "        if self.tail:\n",
    "            self.tail.pointer = node  # 새 노드가 기존 tail 뒤에 연결\n",
    "        self.tail = node  # tail은 뒤에 추가된 새 노드를 가리키게 이동.\n",
    "        \n",
    "    # 새 노드 추가\n",
    "    def addNode(self, value):\n",
    "        if not self.head:  # 첫번째 추가되는 노드라 head가 None이었다면\n",
    "            self.length = 1\n",
    "            node = Node(value)\n",
    "            self.head = node  # 첫번째 노드이기에 head, tail 똑같이 새 노드를 가리킴\n",
    "            self.tail = node\n",
    "        else:\n",
    "            self._add(value)\n",
    "            \n",
    "    # head 부터 시작해서 각 node의 값을 출력하기\n",
    "    def _printList(self):\n",
    "        node = self.head\n",
    "        while node: # 맨 끝의 노드에 다다를때 까지\n",
    "            print(node.value, end = ' ')\n",
    "            node = node.pointer  # 노드를 다음 노드로 이동\n",
    "        print()\n",
    "        \n",
    "    # 리스트안의 노드 전부 삭제\n",
    "    def _deleteAll(self):\n",
    "        self.length = 0\n",
    "        self.head = None\n",
    "        self.tail = None\n",
    "        print('연결리스트가 비어있습니다.')\n",
    "        \n",
    "    # 인덱스로 노드 찾기\n",
    "    def _find(self, index):\n",
    "        node = self.head # head부터 찾기 시작\n",
    "        prev = None # 발견한 노드의 이전 노드\n",
    "        i = 0\n",
    "        while node and i < index :\n",
    "            prev = node\n",
    "            node = node.pointer\n",
    "            i += 1\n",
    "            \n",
    "        return node, prev, i \n",
    "    \n",
    "    #값으로 노드 찾기\n",
    "    def find_by_value(self,value):\n",
    "        prev = None\n",
    "        node = self.head \n",
    "        found = False   # 찾았는지 여부\n",
    "        while node and not found:\n",
    "            if node.value == value:  #노드값비교\n",
    "                found = True\n",
    "            else:\n",
    "                prev = node\n",
    "                node = node.pointer # 못찾았으면 다음 노드로..\n",
    "        return node, prev, found\n",
    "    \n",
    "    #index에 해당하는 노드 삭제하기\n",
    "    def deleteNode(self,index):\n",
    "        if not self.head or not self.head.pointer:\n",
    "            # 노드가 없거나 하나밖에 없는 상황\n",
    "            self.length = 0\n",
    "            self.head = None\n",
    "            self.tail= None\n",
    "            print(\"LinkedList가 비어졌습니다.\")\n",
    "        else:\n",
    "            # 노드가 2개 이상인 경우\n",
    "            node, prev, i = self._find(index)\n",
    "            if i == index and node: # index번째 노드가 존재했다면\n",
    "                self.length -= 1\n",
    "                if i == 0 or not prev: # 첫번째 노드였다면\n",
    "                    self.head = node.pointer\n",
    "                    self.tail = node.pointer\n",
    "                else:\n",
    "                    prev.pointer = node.pointer # 노드 삭제\n",
    "            else:\n",
    "                print(\"인덱스{0}에 해당하는 노드가 없습니다.\".format(index))\n",
    "                    \n",
    "    # 특정 value의 노드를 삭제하기\n",
    "    def deleteNodeByValue(self,value):\n",
    "        if not self.head or not self.head.pointer:\n",
    "            self.length = 0\n",
    "            self.head = None\n",
    "            self.tail = None\n",
    "            print(\"LinkedList가 비어있습니다.\")\n",
    "        else:\n",
    "            node, prev, i = self._find_by_value(value)\n",
    "            if node and node.value == value: # value를 가진 노드가 있다면!\n",
    "                self.length -= 1\n",
    "                if i == 0 or not prev:\n",
    "                    self.head = node.pointer\n",
    "                    self.tail = node.pointer\n",
    "            else:\n",
    "                print(\"값 {0}에 해당하는 노드가 없습니다.\".format(value))\n",
    "                \n",
    "    # index번째 노드 삽입\n",
    "    def insert(self, index, value):\n",
    "        node, prev, found = self._find(index)\n",
    "        \n",
    "        self.length += 1\n",
    "        newNode = Node(value, node)\n",
    "        \n",
    "        if not self.tail or self.tail == node: # 맨뒤에 인서트 되는 경우\n",
    "            self.tail = newNode\n",
    "            \n",
    "        if not prev: # 맨앞에 인서트 되는 경우 \n",
    "            self.head = newNode\n",
    "        else:\n",
    "            prev.pointer = newNode\n",
    "                    "
   ]
  },
  {
   "cell_type": "code",
   "execution_count": 83,
   "metadata": {},
   "outputs": [],
   "source": [
    "ll = LinkedListFIFO()"
   ]
  },
  {
   "cell_type": "code",
   "execution_count": 84,
   "metadata": {},
   "outputs": [],
   "source": [
    "for i in range(1,10):\n",
    "    ll.addNode(i)"
   ]
  },
  {
   "cell_type": "code",
   "execution_count": 85,
   "metadata": {},
   "outputs": [
    {
     "name": "stdout",
     "output_type": "stream",
     "text": [
      "연결 리스트 출력\n",
      "1 2 3 4 5 6 7 8 9 \n"
     ]
    }
   ],
   "source": [
    "print('연결 리스트 출력')\n",
    "ll._printList()"
   ]
  },
  {
   "cell_type": "code",
   "execution_count": 74,
   "metadata": {},
   "outputs": [
    {
     "data": {
      "text/plain": [
       "([1 -> [2 -> [3 -> [4 -> [5 -> [6 -> [7 -> [8 -> [9 -> None]]]]]]]]], None, 0)"
      ]
     },
     "execution_count": 74,
     "metadata": {},
     "output_type": "execute_result"
    }
   ],
   "source": [
    "ll._find(0)"
   ]
  },
  {
   "cell_type": "code",
   "execution_count": 75,
   "metadata": {},
   "outputs": [
    {
     "data": {
      "text/plain": [
       "([5 -> [6 -> [7 -> [8 -> [9 -> None]]]]],\n",
       " [4 -> [5 -> [6 -> [7 -> [8 -> [9 -> None]]]]]],\n",
       " True)"
      ]
     },
     "execution_count": 75,
     "metadata": {},
     "output_type": "execute_result"
    }
   ],
   "source": [
    "ll.find_by_value(5)"
   ]
  },
  {
   "cell_type": "code",
   "execution_count": 76,
   "metadata": {},
   "outputs": [
    {
     "data": {
      "text/plain": [
       "9"
      ]
     },
     "execution_count": 76,
     "metadata": {},
     "output_type": "execute_result"
    }
   ],
   "source": [
    "ll.length"
   ]
  },
  {
   "cell_type": "code",
   "execution_count": 77,
   "metadata": {},
   "outputs": [
    {
     "name": "stdout",
     "output_type": "stream",
     "text": [
      "연결리스트가 비어있습니다.\n"
     ]
    }
   ],
   "source": [
    "ll._deleteAll()"
   ]
  },
  {
   "cell_type": "code",
   "execution_count": 78,
   "metadata": {},
   "outputs": [
    {
     "name": "stdout",
     "output_type": "stream",
     "text": [
      "LinkedList가 비어졌습니다.\n"
     ]
    }
   ],
   "source": [
    "ll.deleteNode(6)"
   ]
  },
  {
   "cell_type": "code",
   "execution_count": 79,
   "metadata": {},
   "outputs": [
    {
     "name": "stdout",
     "output_type": "stream",
     "text": [
      "\n"
     ]
    }
   ],
   "source": [
    "ll._printList()"
   ]
  },
  {
   "cell_type": "code",
   "execution_count": 81,
   "metadata": {},
   "outputs": [
    {
     "name": "stdout",
     "output_type": "stream",
     "text": [
      "LinkedList가 비어있습니다.\n"
     ]
    }
   ],
   "source": [
    "ll.deleteNodeByValue(100)"
   ]
  },
  {
   "cell_type": "code",
   "execution_count": 86,
   "metadata": {},
   "outputs": [
    {
     "name": "stdout",
     "output_type": "stream",
     "text": [
      "1 2 100 3 4 5 6 7 8 9 \n"
     ]
    }
   ],
   "source": [
    "ll.insert(2, 100)\n",
    "ll._printList()"
   ]
  },
  {
   "cell_type": "code",
   "execution_count": 87,
   "metadata": {},
   "outputs": [
    {
     "name": "stdout",
     "output_type": "stream",
     "text": [
      "200 1 2 100 3 4 5 6 7 8 9 \n"
     ]
    }
   ],
   "source": [
    "ll.insert(0, 200)\n",
    "ll._printList()"
   ]
  },
  {
   "cell_type": "code",
   "execution_count": null,
   "metadata": {},
   "outputs": [],
   "source": []
  },
  {
   "cell_type": "markdown",
   "metadata": {},
   "source": [
    "# list.insert() vs LinkedList.insert()"
   ]
  },
  {
   "cell_type": "code",
   "execution_count": 89,
   "metadata": {},
   "outputs": [],
   "source": [
    "import time \n",
    "from datetime import timedelta"
   ]
  },
  {
   "cell_type": "code",
   "execution_count": 96,
   "metadata": {},
   "outputs": [],
   "source": [
    "num = 40000"
   ]
  },
  {
   "cell_type": "code",
   "execution_count": 97,
   "metadata": {},
   "outputs": [
    {
     "name": "stdout",
     "output_type": "stream",
     "text": [
      "insert() x 40000 경과시간 0:00:00.442876\n"
     ]
    }
   ],
   "source": [
    "start_time = time.time()\n",
    "\n",
    "data = []\n",
    "for i in range(num, 0, -1):\n",
    "    data.insert(0,i)\n",
    "    \n",
    "end_time = time.time()\n",
    "elapsed_time = end_time - start_time    \n",
    "print('insert() x %d 경과시간 %s' % (num,str(timedelta(seconds = elapsed_time))))"
   ]
  },
  {
   "cell_type": "code",
   "execution_count": 98,
   "metadata": {},
   "outputs": [
    {
     "name": "stdout",
     "output_type": "stream",
     "text": [
      "LinkedList x 40000 경과시간 0:00:00.150951\n"
     ]
    }
   ],
   "source": [
    "start_time = time.time()\n",
    "\n",
    "ll = LinkedListFIFO()\n",
    "for i in range(num,0,-1):\n",
    "    ll.insert(0,i)\n",
    "    \n",
    "end_time = time.time()\n",
    "elapsed_time = end_time - start_time    \n",
    "print('LinkedList x %d 경과시간 %s' % (num,str(timedelta(seconds = elapsed_time))))"
   ]
  },
  {
   "cell_type": "code",
   "execution_count": null,
   "metadata": {},
   "outputs": [],
   "source": []
  },
  {
   "cell_type": "code",
   "execution_count": null,
   "metadata": {},
   "outputs": [],
   "source": []
  }
 ],
 "metadata": {
  "kernelspec": {
   "display_name": "Python 3",
   "language": "python",
   "name": "python3"
  },
  "language_info": {
   "codemirror_mode": {
    "name": "ipython",
    "version": 3
   },
   "file_extension": ".py",
   "mimetype": "text/x-python",
   "name": "python",
   "nbconvert_exporter": "python",
   "pygments_lexer": "ipython3",
   "version": "3.7.6"
  }
 },
 "nbformat": 4,
 "nbformat_minor": 4
}
