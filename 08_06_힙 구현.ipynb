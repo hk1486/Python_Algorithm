{
 "cells": [
  {
   "cell_type": "markdown",
   "metadata": {},
   "source": [
    "## Heap 구현"
   ]
  },
  {
   "cell_type": "code",
   "execution_count": 9,
   "metadata": {},
   "outputs": [],
   "source": [
    "class Heap(object):\n",
    "    def __init__(self, comp):\n",
    "        self.arr = [None] # [0]번째는 None으로 채워좋고 시작\n",
    "        self.size = 0  # 노드의 개수\n",
    "        # 우선순위 비교 함수\n",
    "        self.comp = comp  # comp(d1, d2) 함수: d1이 크면 양수, d2가 크면 음수 리턴\n",
    "        \n",
    "    # 부모노드의 인덱스\n",
    "    def get_parent_idx(self, idx):\n",
    "        return idx // 2\n",
    "    \n",
    "    # left 자식 노드의 인덱스\n",
    "    def get_left_idx(self, idx):\n",
    "        return idx * 2\n",
    "    \n",
    "    # right 자식 노드의 인덱스\n",
    "    def get_right_idx(self, idx):\n",
    "        return idx * 2 + 1\n",
    "    \n",
    "    # 두 자식 중에서 우선순위가 높은 자식의 인덱스 리턴 -> delete 동작에 사용\n",
    "    def getHighPriority(self, idx):\n",
    "        left_idx = self.get_left_idx(idx)\n",
    "        right_idx = self.get_right_idx(idx)\n",
    "        \n",
    "        # 자식 노드 없다면 0 리턴\n",
    "        if left_idx > self.size: return 0\n",
    "        \n",
    "        # 자식 노드가 하나 밖에 없다면\n",
    "        if left_idx == self.size: return left_idx\n",
    "        \n",
    "        # 자식 노드가 두개 라면? 우선순위 비교\n",
    "        if self.comp(self.arr[left_idx], self.arr[right_idx]) < 0:\n",
    "            return right_idx  # 오른쪽 자식의 우선순위가 높다\n",
    "        else:\n",
    "            return left_idx  # 왼쪽 자식의 우선순위가 높거나 같다\n",
    "    \n",
    "    # 힙에 데이터 추가하는 함수 (insert)\n",
    "    def insert(self, data):\n",
    "        # 데이터 추가, 가장 마지막 데이터 다음에 위치\n",
    "        self.arr.append(data)\n",
    "        # 추가된 데이터의 리스트상의 인덱스\n",
    "        idx = len(self.arr) - 1 \n",
    "        \n",
    "        # 결국 새로 추가된 데이터의 idx를 결정하면 된다.\n",
    "        while idx != 1: # 계속 부모와 비교하다가 루트(index = 1)까지 도달하면 종료\n",
    "            parentData = self.arr[self.get_parent_idx(idx)]\n",
    "            if self.comp(data, parentData) > 0: # 부모보다 우선순위가 높다면\n",
    "                self.arr[idx] = parentData  # 부모를 자신의 위치로 끌어 내리고\n",
    "                idx = self.get_parent_idx(idx) # 자신의 idx 값을 부모의 idx 값으로 이동\n",
    "            else:\n",
    "                # 부모보다 우선순위가 낮거나 같으면, 거기서 멈춤\n",
    "                break\n",
    "                \n",
    "        self.arr[idx] = data # idx가 결정된 그 위치에 새로운 data 자리잡기.\n",
    "        self.size += 1\n",
    "                \n",
    "    # 힙에 데이터 삭제하는 함수 (delete)\n",
    "    def delete(self):\n",
    "        if self.size <= 0: return None\n",
    "        \n",
    "        retData = self.arr[1] # 인덱스 1번, 루트 노드가 리턴된다. (delete)\n",
    "        \n",
    "        lastData = self.arr[self.size] # 마지막 노드\n",
    "        \n",
    "        parentidx = 1 # 인덱스 1부터 시작해서 비교하며 내려올 것이다.\n",
    "                        # 비교 다 끝나면 parentidx <-- lastData\n",
    "  \n",
    "        # parentidx 의 자식노드 중 우선순위가 높은걸 선택\n",
    "        # 만약에 자식이 없으면? 종료\n",
    "        while True:\n",
    "            childidx = self.getHighPriority(parentidx) # parentidx 의 자식노드 중 우선순위가 높은걸 선택\n",
    "            if not childidx: break # 만약에 자식이 없으면? 종료\n",
    "        \n",
    "            # 선택된 자식(childidx)과, lastData 우선순위 비교\n",
    "            # 만약 자식의 우선순위가 같거나 낮다면 종료\n",
    "            if self.comp(lastData, self.arr[childidx]) >= 0: break\n",
    "                \n",
    "            # 자식의 우선순위가 더 높다면, 자식(childidx)이 parentidx로 이동하고 \n",
    "            # parentidx는 그 자식의 인덱스(childidx)로 내려와야 한다.\n",
    "            self.arr[parentidx] = self.arr[childidx]\n",
    "            parentidx = childidx\n",
    "            \n",
    "        # while이 끝난 그 자리(parentidx)가 맨 밑에서 올라왔던 lastData가 위치할 자리\n",
    "        self.arr[parentidx] = lastData\n",
    "        self.arr.pop() # 마지막 데이터 삭제\n",
    "        self.size -= 1\n",
    "        \n",
    "        return retData # 최초에 뽑아낸 루트 데이터 리턴\n",
    "    \n",
    "    \n",
    "        pass\n",
    "    \n",
    "    \n",
    "    \n",
    "    \n",
    "    \n",
    "    "
   ]
  },
  {
   "cell_type": "code",
   "execution_count": 33,
   "metadata": {},
   "outputs": [],
   "source": [
    "# 비교함수 준비\n",
    "# comp(d1,d2) : d1이 크면 양수, d2가 크면 음수 리턴\n",
    "\n",
    "def myCompare(d1,d2):\n",
    "    #return d1 - d2 # max-heap\n",
    "    return d2 - d1  # min-heap "
   ]
  },
  {
   "cell_type": "code",
   "execution_count": 11,
   "metadata": {},
   "outputs": [],
   "source": [
    "heap = Heap(myCompare)"
   ]
  },
  {
   "cell_type": "code",
   "execution_count": 12,
   "metadata": {},
   "outputs": [
    {
     "data": {
      "text/plain": [
       "([None], 1)"
      ]
     },
     "execution_count": 12,
     "metadata": {},
     "output_type": "execute_result"
    }
   ],
   "source": [
    "heap.arr, len(heap.arr)"
   ]
  },
  {
   "cell_type": "code",
   "execution_count": 13,
   "metadata": {},
   "outputs": [
    {
     "data": {
      "text/plain": [
       "([None, 5], 2)"
      ]
     },
     "execution_count": 13,
     "metadata": {},
     "output_type": "execute_result"
    }
   ],
   "source": [
    "heap.insert(5)\n",
    "heap.arr, len(heap.arr)"
   ]
  },
  {
   "cell_type": "code",
   "execution_count": 14,
   "metadata": {},
   "outputs": [
    {
     "data": {
      "text/plain": [
       "([None, 7, 5], 3)"
      ]
     },
     "execution_count": 14,
     "metadata": {},
     "output_type": "execute_result"
    }
   ],
   "source": [
    "heap.insert(7)\n",
    "heap.arr, len(heap.arr)"
   ]
  },
  {
   "cell_type": "code",
   "execution_count": 15,
   "metadata": {},
   "outputs": [
    {
     "data": {
      "text/plain": [
       "([None, 7, 5, 3], 4)"
      ]
     },
     "execution_count": 15,
     "metadata": {},
     "output_type": "execute_result"
    }
   ],
   "source": [
    "heap.insert(3)\n",
    "heap.arr, len(heap.arr)"
   ]
  },
  {
   "cell_type": "code",
   "execution_count": 16,
   "metadata": {},
   "outputs": [
    {
     "data": {
      "text/plain": [
       "([None, 10, 7, 3, 5], 5)"
      ]
     },
     "execution_count": 16,
     "metadata": {},
     "output_type": "execute_result"
    }
   ],
   "source": [
    "heap.insert(10)\n",
    "heap.arr, len(heap.arr)"
   ]
  },
  {
   "cell_type": "code",
   "execution_count": 34,
   "metadata": {},
   "outputs": [],
   "source": [
    "heap = Heap(myCompare)"
   ]
  },
  {
   "cell_type": "code",
   "execution_count": 35,
   "metadata": {},
   "outputs": [
    {
     "data": {
      "text/plain": [
       "[None, 1, 3, 2, 5, 4, 13, 6, 234]"
      ]
     },
     "execution_count": 35,
     "metadata": {},
     "output_type": "execute_result"
    }
   ],
   "source": [
    "for i in [5,1,2,3,4,13,6,234,]:\n",
    "    heap.insert(i)\n",
    "    \n",
    "heap.arr"
   ]
  },
  {
   "cell_type": "code",
   "execution_count": 36,
   "metadata": {},
   "outputs": [
    {
     "data": {
      "text/plain": [
       "(8, 9)"
      ]
     },
     "execution_count": 36,
     "metadata": {},
     "output_type": "execute_result"
    }
   ],
   "source": [
    "heap.size, len(heap.arr)"
   ]
  },
  {
   "cell_type": "code",
   "execution_count": 37,
   "metadata": {},
   "outputs": [
    {
     "name": "stdout",
     "output_type": "stream",
     "text": [
      "1\n",
      "2\n",
      "3\n",
      "4\n",
      "5\n",
      "6\n",
      "13\n",
      "234\n"
     ]
    }
   ],
   "source": [
    "while True:\n",
    "    i = heap.delete()\n",
    "    if not i: break\n",
    "    print(i)"
   ]
  },
  {
   "cell_type": "code",
   "execution_count": null,
   "metadata": {},
   "outputs": [],
   "source": []
  },
  {
   "cell_type": "code",
   "execution_count": null,
   "metadata": {},
   "outputs": [],
   "source": []
  }
 ],
 "metadata": {
  "kernelspec": {
   "display_name": "Python 3",
   "language": "python",
   "name": "python3"
  },
  "language_info": {
   "codemirror_mode": {
    "name": "ipython",
    "version": 3
   },
   "file_extension": ".py",
   "mimetype": "text/x-python",
   "name": "python",
   "nbconvert_exporter": "python",
   "pygments_lexer": "ipython3",
   "version": "3.7.6"
  }
 },
 "nbformat": 4,
 "nbformat_minor": 4
}
