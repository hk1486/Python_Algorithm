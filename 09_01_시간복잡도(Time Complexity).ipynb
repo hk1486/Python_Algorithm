{
 "cells": [
  {
   "cell_type": "code",
   "execution_count": 1,
   "metadata": {},
   "outputs": [],
   "source": [
    "# 성능 ---> '시간(Time Complexity)', '메모리 차치 용량(Space Complexity)'\n",
    "# 자료구조 + 알고리즘"
   ]
  },
  {
   "cell_type": "markdown",
   "metadata": {},
   "source": [
    "# 입력하는 데이터의 개수(n)가 무한에 접근하면 무슨 일이 벌어질까?"
   ]
  },
  {
   "cell_type": "code",
   "execution_count": 2,
   "metadata": {},
   "outputs": [],
   "source": [
    "import time\n",
    "from datetime import timedelta"
   ]
  },
  {
   "cell_type": "code",
   "execution_count": 3,
   "metadata": {},
   "outputs": [],
   "source": [
    "def func1(n):\n",
    "    total = 0\n",
    "    for i in range(n):\n",
    "        total += 1\n",
    "    return total"
   ]
  },
  {
   "cell_type": "code",
   "execution_count": 13,
   "metadata": {},
   "outputs": [],
   "source": [
    "# func 의 수행시간 체크하는 함수\n",
    "def check_time(func,num,title=''):\n",
    "    start_time = time.time()\n",
    "    func(num)\n",
    "    end_time = time.time()\n",
    "    elapsed_time = end_time - start_time # 경과시간\n",
    "    print('%s: n= %d 경과시간 %s' % (title, num, str(timedelta(seconds = elapsed_time))))"
   ]
  },
  {
   "cell_type": "code",
   "execution_count": 20,
   "metadata": {},
   "outputs": [
    {
     "name": "stdout",
     "output_type": "stream",
     "text": [
      "func1: n= 1000000 경과시간 0:00:00.153951\n"
     ]
    }
   ],
   "source": [
    "check_time(func1, 1000000, 'func1')"
   ]
  },
  {
   "cell_type": "code",
   "execution_count": 22,
   "metadata": {},
   "outputs": [
    {
     "name": "stdout",
     "output_type": "stream",
     "text": [
      "func1: n= 10000000 경과시간 0:00:00.937716\n",
      "func1: n= 20000000 경과시간 0:00:01.567495\n",
      "func1: n= 40000000 경과시간 0:00:02.858100\n",
      "func1: n= 80000000 경과시간 0:00:05.505226\n"
     ]
    }
   ],
   "source": [
    "size = 10000000\n",
    "for i in range(4):\n",
    "    check_time(func1,size,'func1')\n",
    "    size *= 2"
   ]
  },
  {
   "cell_type": "markdown",
   "metadata": {},
   "source": [
    "# Big-O 표기법"
   ]
  },
  {
   "cell_type": "markdown",
   "metadata": {},
   "source": [
    "입력되는 데이터 n에 비례해서 시간복잡도가 증가\n",
    "- O(n)"
   ]
  },
  {
   "cell_type": "code",
   "execution_count": 23,
   "metadata": {},
   "outputs": [],
   "source": [
    "def func2(n):\n",
    "    total = 0\n",
    "    for i in range(n):\n",
    "        for j in range(n):\n",
    "            total += 1\n",
    "    return total"
   ]
  },
  {
   "cell_type": "code",
   "execution_count": 25,
   "metadata": {},
   "outputs": [
    {
     "name": "stdout",
     "output_type": "stream",
     "text": [
      "func2: n= 1000 경과시간 0:00:00.146952\n",
      "func2: n= 2000 경과시간 0:00:00.338911\n",
      "func2: n= 4000 경과시간 0:00:01.173601\n",
      "func2: n= 8000 경과시간 0:00:04.421596\n"
     ]
    }
   ],
   "source": [
    "size = 1000\n",
    "for i in range(4):\n",
    "    check_time(func2,size,'func2')\n",
    "    size *= 2"
   ]
  },
  {
   "cell_type": "markdown",
   "metadata": {},
   "source": [
    "입력되는 데이터 n의 제곱 (n<sup>2</sup>) 에 비례해서 시간복잡도 증가\n",
    "- O(n<sup>2</sup>)\n",
    "\n"
   ]
  },
  {
   "cell_type": "code",
   "execution_count": 26,
   "metadata": {},
   "outputs": [],
   "source": [
    "def func3(n):\n",
    "    total = 0\n",
    "    for i in range(n):        \n",
    "        for i in range(n):\n",
    "            for j in range(n):\n",
    "                total += 1\n",
    "    return total"
   ]
  },
  {
   "cell_type": "code",
   "execution_count": 27,
   "metadata": {},
   "outputs": [
    {
     "name": "stdout",
     "output_type": "stream",
     "text": [
      "func3: n= 100 경과시간 0:00:00.153950\n",
      "func3: n= 200 경과시간 0:00:00.564841\n",
      "func3: n= 400 경과시간 0:00:04.262622\n",
      "func3: n= 800 경과시간 0:00:35.772478\n"
     ]
    }
   ],
   "source": [
    "size = 100\n",
    "for i in range(4):\n",
    "    check_time(func3,size,'func3')\n",
    "    size *= 2"
   ]
  },
  {
   "cell_type": "markdown",
   "metadata": {},
   "source": [
    "입력되는 데이터 n의 3제곱 (n<sup>3</sup>) 에 비례해서 시간복잡도 증가\n",
    "- O(n<sup>3</sup>)\n",
    "\n",
    "\n"
   ]
  },
  {
   "cell_type": "markdown",
   "metadata": {},
   "source": [
    "![big o](https://miro.medium.com/max/1400/1*jiVqYhDzvODfVq6RH0DB1g.png)\n",
    "- x 축은 '입력 데이터 량'\n",
    "- y 축은 '소요시간'\n",
    "\n",
    "\n"
   ]
  },
  {
   "cell_type": "markdown",
   "metadata": {},
   "source": [
    "---\n",
    "### 시간복잡도 비교\n",
    "![비교](https://miro.medium.com/max/1112/0*_pZdQCZ2LGo9gPy9)\n",
    "오른쪽으로 갈수록 효율이 안좋다\n",
    "\n",
    "\n"
   ]
  },
  {
   "cell_type": "code",
   "execution_count": null,
   "metadata": {},
   "outputs": [],
   "source": []
  },
  {
   "cell_type": "code",
   "execution_count": null,
   "metadata": {},
   "outputs": [],
   "source": []
  },
  {
   "cell_type": "code",
   "execution_count": null,
   "metadata": {},
   "outputs": [],
   "source": []
  },
  {
   "cell_type": "code",
   "execution_count": null,
   "metadata": {},
   "outputs": [],
   "source": []
  },
  {
   "cell_type": "code",
   "execution_count": null,
   "metadata": {},
   "outputs": [],
   "source": []
  },
  {
   "cell_type": "code",
   "execution_count": null,
   "metadata": {},
   "outputs": [],
   "source": []
  },
  {
   "cell_type": "code",
   "execution_count": null,
   "metadata": {},
   "outputs": [],
   "source": []
  },
  {
   "cell_type": "code",
   "execution_count": null,
   "metadata": {},
   "outputs": [],
   "source": []
  },
  {
   "cell_type": "code",
   "execution_count": null,
   "metadata": {},
   "outputs": [],
   "source": []
  },
  {
   "cell_type": "code",
   "execution_count": null,
   "metadata": {},
   "outputs": [],
   "source": []
  },
  {
   "cell_type": "code",
   "execution_count": null,
   "metadata": {},
   "outputs": [],
   "source": []
  },
  {
   "cell_type": "code",
   "execution_count": null,
   "metadata": {},
   "outputs": [],
   "source": []
  },
  {
   "cell_type": "code",
   "execution_count": null,
   "metadata": {},
   "outputs": [],
   "source": []
  },
  {
   "cell_type": "code",
   "execution_count": null,
   "metadata": {},
   "outputs": [],
   "source": []
  },
  {
   "cell_type": "code",
   "execution_count": null,
   "metadata": {},
   "outputs": [],
   "source": []
  },
  {
   "cell_type": "code",
   "execution_count": null,
   "metadata": {},
   "outputs": [],
   "source": []
  },
  {
   "cell_type": "code",
   "execution_count": null,
   "metadata": {},
   "outputs": [],
   "source": []
  },
  {
   "cell_type": "code",
   "execution_count": null,
   "metadata": {},
   "outputs": [],
   "source": []
  },
  {
   "cell_type": "code",
   "execution_count": null,
   "metadata": {},
   "outputs": [],
   "source": []
  },
  {
   "cell_type": "code",
   "execution_count": null,
   "metadata": {},
   "outputs": [],
   "source": []
  },
  {
   "cell_type": "code",
   "execution_count": null,
   "metadata": {},
   "outputs": [],
   "source": []
  },
  {
   "cell_type": "code",
   "execution_count": null,
   "metadata": {},
   "outputs": [],
   "source": []
  },
  {
   "cell_type": "code",
   "execution_count": null,
   "metadata": {},
   "outputs": [],
   "source": []
  },
  {
   "cell_type": "code",
   "execution_count": null,
   "metadata": {},
   "outputs": [],
   "source": []
  },
  {
   "cell_type": "code",
   "execution_count": null,
   "metadata": {},
   "outputs": [],
   "source": []
  },
  {
   "cell_type": "code",
   "execution_count": null,
   "metadata": {},
   "outputs": [],
   "source": []
  },
  {
   "cell_type": "code",
   "execution_count": null,
   "metadata": {},
   "outputs": [],
   "source": []
  },
  {
   "cell_type": "code",
   "execution_count": null,
   "metadata": {},
   "outputs": [],
   "source": []
  },
  {
   "cell_type": "code",
   "execution_count": null,
   "metadata": {},
   "outputs": [],
   "source": []
  }
 ],
 "metadata": {
  "kernelspec": {
   "display_name": "Python 3",
   "language": "python",
   "name": "python3"
  },
  "language_info": {
   "codemirror_mode": {
    "name": "ipython",
    "version": 3
   },
   "file_extension": ".py",
   "mimetype": "text/x-python",
   "name": "python",
   "nbconvert_exporter": "python",
   "pygments_lexer": "ipython3",
   "version": "3.7.6"
  }
 },
 "nbformat": 4,
 "nbformat_minor": 4
}
