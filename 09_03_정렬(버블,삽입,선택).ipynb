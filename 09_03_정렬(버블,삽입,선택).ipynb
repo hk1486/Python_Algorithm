{
 "cells": [
  {
   "cell_type": "markdown",
   "metadata": {},
   "source": [
    "# 기본적인 정렬 알고리즘\n",
    "버블 정렬, 삽입정렬, 선택정렬"
   ]
  },
  {
   "cell_type": "markdown",
   "metadata": {},
   "source": [
    "---\n",
    "# Bubble Sort (버블 정렬)\n",
    "\n",
    "주어진 N 개의 배열 에 대해에\n",
    "1. 인접한 두개의 데이터 비교 (a, b),\n",
    "1. a,b 크기가 반대이면 ‘값 교환’ (오름차순의 경우,  a > b 라면 교환),\n",
    "1. 배열끝까지 다다를때까지 1, 과 2, 반복\n",
    "1. (마지막 비교는 N-2  와 N-1 을 비교하게 됨),\n",
    "1. 위 3. 이 끝나면 맨 끝의 데이터는 가장 큰 값으로 될것이다.\n",
    "1. 이제 N 을 1감소하고  1. 부터 반복한다.  N = 1 이 될때까지\n",
    "\n",
    "![bubble](https://bournetocode.com/projects/GCSE_Computing_Fundamentals/pages/img/bubble_sort_pass.png)\n",
    "\n"
   ]
  },
  {
   "cell_type": "code",
   "execution_count": 1,
   "metadata": {},
   "outputs": [],
   "source": [
    "\"\"\"\n",
    "오름차순 - 버블정렬\n",
    "[3,2,7,5,6]  (시작)\n",
    "[2,3,5,6,7]  cycle1 종료 후 (4번 비교)\n",
    "[2,3,5,6,7]  cycle2 종료 후 (3번 비교)\n",
    "[2,3,5,6,7]  cycle3 종료 후 (2번 비교)\n",
    "[2,3,5,6,7]  cycle4 종료 후 (1번 비교)\n",
    "\n",
    "\"\"\"\n",
    "None"
   ]
  },
  {
   "cell_type": "code",
   "execution_count": 2,
   "metadata": {},
   "outputs": [],
   "source": [
    "\"\"\"\n",
    "[11,3,28,43,9,4] (시작)\n",
    "[3,11,28,9,4,43] cycle1\n",
    "[3,11,9,4,28,43] cycle2\n",
    "[3,9,4,11,28,43] cycle3\n",
    "[3,4,9,11,28,43] cycle4\n",
    "[3,4,9,11,28,43] cycle5\n",
    "\n",
    "\"\"\"\n",
    "None"
   ]
  },
  {
   "cell_type": "code",
   "execution_count": 3,
   "metadata": {},
   "outputs": [
    {
     "data": {
      "text/plain": [
       "[3, 4, 9, 11, 28, 43]"
      ]
     },
     "execution_count": 3,
     "metadata": {},
     "output_type": "execute_result"
    }
   ],
   "source": [
    "# 정렬이 안된 데이터(seq)를 받아서 정렬시킨 결과를 리턴\n",
    "def bubble_sort(seq):\n",
    "    length = len(seq) - 1\n",
    "    for num in range(length, 0, -1):  # cycle 횟수\n",
    "        for i in range(num): # 비교 횟수\n",
    "            if seq[i] > seq[i+1]: # 왼쪽이 오른쪽보다 크면, 자리바꿈\n",
    "                seq[i], seq[i+1] = seq[i+1], seq[i]\n",
    "       # print(seq) # 중간과정 출력하기\n",
    "    return seq\n",
    "# 테스트 \n",
    "seq = [11,3,28,43,9,4]\n",
    "bubble_sort(seq)"
   ]
  },
  {
   "cell_type": "markdown",
   "metadata": {},
   "source": [
    "# 성능 - 버블정렬"
   ]
  },
  {
   "cell_type": "code",
   "execution_count": 4,
   "metadata": {},
   "outputs": [],
   "source": [
    "import time\n",
    "from datetime import timedelta\n",
    "import random\n",
    "import copy # deepcopy"
   ]
  },
  {
   "cell_type": "markdown",
   "metadata": {},
   "source": [
    "# 샘플 데이터 작성 도우미 함수들"
   ]
  },
  {
   "cell_type": "code",
   "execution_count": 22,
   "metadata": {},
   "outputs": [],
   "source": [
    "# 랜덤으로 리스트 작성\n",
    "def gen_rand(num):\n",
    "    data = [i for i in range(num)]\n",
    "    random.shuffle(data)\n",
    "    return data\n",
    "\n",
    "# 오름차순 리스트 작성\n",
    "def gen_asc(num):\n",
    "    return [i for i in range(num)]\n",
    "\n",
    "# 내림차순 리스트 작성\n",
    "def gen_desc(num):\n",
    "    return [i for i in range(num,0,-1)]\n",
    "\n",
    "# sort 함수와 데이터 정렬 성능 체크\n",
    "def test_sort(sort, data, title):\n",
    "    start_time = time.time()\n",
    "    result = sort(data)\n",
    "    end_time = time.time()\n",
    "    elapsed_time = end_time - start_time\n",
    "    print('%s : size=%d 경과시간: %s' % (title, len(data), str(timedelta(seconds=elapsed_time))))\n",
    "    return result\n",
    "\n",
    "# 특정 사이즈의 배열 x times 번 sort 수행\n",
    "def test_ntimes_sort(sort, size, times, title):\n",
    "    \n",
    "    genData = gen_rand(size) # 정렬을 수행할 원본 데이터\n",
    "    for i in range(times):\n",
    "        data = copy.deepcopy(genData) # 사본을 만들어 정렬 수행\n",
    "        test_sort(sort, data, ('%d차:' % (i+1)) + title)"
   ]
  },
  {
   "cell_type": "code",
   "execution_count": 6,
   "metadata": {},
   "outputs": [
    {
     "name": "stdout",
     "output_type": "stream",
     "text": [
      "1차:버블 : size=100 경과시간: 0:00:00.001496\n",
      "2차:버블 : size=100 경과시간: 0:00:00.001996\n",
      "3차:버블 : size=100 경과시간: 0:00:00.002495\n",
      "4차:버블 : size=100 경과시간: 0:00:00.002995\n",
      "5차:버블 : size=100 경과시간: 0:00:00.002994\n"
     ]
    }
   ],
   "source": [
    "test_ntimes_sort(bubble_sort, 100, 5, '버블')"
   ]
  },
  {
   "cell_type": "code",
   "execution_count": 7,
   "metadata": {},
   "outputs": [
    {
     "name": "stdout",
     "output_type": "stream",
     "text": [
      "1차:버블1000 : size=1000 경과시간: 0:00:00.156249\n",
      "2차:버블1000 : size=1000 경과시간: 0:00:00.108345\n",
      "3차:버블1000 : size=1000 경과시간: 0:00:00.111838\n",
      "4차:버블1000 : size=1000 경과시간: 0:00:00.117830\n",
      "5차:버블1000 : size=1000 경과시간: 0:00:00.143252\n",
      "\n",
      "1차:버블2000 : size=2000 경과시간: 0:00:00.511681\n",
      "2차:버블2000 : size=2000 경과시간: 0:00:00.605019\n",
      "3차:버블2000 : size=2000 경과시간: 0:00:00.565612\n",
      "4차:버블2000 : size=2000 경과시간: 0:00:00.531148\n",
      "5차:버블2000 : size=2000 경과시간: 0:00:00.499698\n",
      "\n",
      "1차:버블4000 : size=4000 경과시간: 0:00:01.911439\n",
      "2차:버블4000 : size=4000 경과시간: 0:00:01.909937\n",
      "3차:버블4000 : size=4000 경과시간: 0:00:02.020258\n",
      "4차:버블4000 : size=4000 경과시간: 0:00:02.152049\n",
      "5차:버블4000 : size=4000 경과시간: 0:00:01.945862\n",
      "\n",
      "1차:버블8000 : size=8000 경과시간: 0:00:07.932776\n",
      "2차:버블8000 : size=8000 경과시간: 0:00:07.704140\n",
      "3차:버블8000 : size=8000 경과시간: 0:00:07.954259\n",
      "4차:버블8000 : size=8000 경과시간: 0:00:08.333615\n",
      "5차:버블8000 : size=8000 경과시간: 0:00:08.157435\n",
      "\n",
      "종료\n"
     ]
    }
   ],
   "source": [
    "num = 1000\n",
    "for i in range(4):\n",
    "    test_ntimes_sort(bubble_sort, num, 5, '버블%d'%(num))\n",
    "    print()\n",
    "    num *= 2\n",
    "print('종료')"
   ]
  },
  {
   "cell_type": "markdown",
   "metadata": {},
   "source": [
    "#  어떠한 operation 이 시간에 영향을 주나?\n",
    "## 1. 데이터 비교\n",
    "## 2. 데이터 이동\n",
    "\n",
    "위 버블 정렬에서 \n",
    "1. 언제 데이터의 비교가 발생하고?\n",
    "1. 언제 데이터의 이동이 발생하는가?\n",
    "\n"
   ]
  },
  {
   "cell_type": "code",
   "execution_count": 13,
   "metadata": {},
   "outputs": [
    {
     "name": "stdout",
     "output_type": "stream",
     "text": [
      "1차:버블 : size=2000 경과시간: 0:00:00.778751\n",
      "2차:버블 : size=2000 경과시간: 0:00:00.775754\n",
      "3차:버블 : size=2000 경과시간: 0:00:00.722343\n",
      "4차:버블 : size=2000 경과시간: 0:00:00.711360\n",
      "5차:버블 : size=2000 경과시간: 0:00:00.693887\n"
     ]
    }
   ],
   "source": [
    "# 내림차순 (worst case)\n",
    "test_ntimes_sort(bubble_sort, 2000, 5, '버블')"
   ]
  },
  {
   "cell_type": "code",
   "execution_count": 14,
   "metadata": {},
   "outputs": [
    {
     "name": "stdout",
     "output_type": "stream",
     "text": [
      "1차:버블 : size=2000 경과시간: 0:00:00.720344\n",
      "2차:버블 : size=2000 경과시간: 0:00:00.693388\n",
      "3차:버블 : size=2000 경과시간: 0:00:00.705370\n",
      "4차:버블 : size=2000 경과시간: 0:00:00.688914\n",
      "5차:버블 : size=2000 경과시간: 0:00:00.710841\n"
     ]
    }
   ],
   "source": [
    "# 오름차순 (best case)\n",
    "test_ntimes_sort(bubble_sort, 2000, 5, '버블')"
   ]
  },
  {
   "cell_type": "code",
   "execution_count": 15,
   "metadata": {},
   "outputs": [
    {
     "name": "stdout",
     "output_type": "stream",
     "text": [
      "1차:버블 : size=2000 경과시간: 0:00:00.689395\n",
      "2차:버블 : size=2000 경과시간: 0:00:00.704371\n",
      "3차:버블 : size=2000 경과시간: 0:00:00.682903\n",
      "4차:버블 : size=2000 경과시간: 0:00:00.680409\n",
      "5차:버블 : size=2000 경과시간: 0:00:00.679410\n"
     ]
    }
   ],
   "source": [
    "# 랜덤\n",
    "test_ntimes_sort(bubble_sort, 2000, 5, '버블')"
   ]
  },
  {
   "cell_type": "markdown",
   "metadata": {},
   "source": [
    "---\n",
    "# Selection Sort 선택정렬\n",
    "주어진 N 개의 배열,  그리고  i = 0 일때\n",
    "\n",
    "\n",
    "1. i...N−1 범위에서 ‘가장 작은 값의 위치 min_idx‘ 를 찾아 **선택**한다\n",
    "1. 위에서 **선택**한 min_idx 번째 와 i 번째 의 데이터 교환\n",
    "1. i 은 1 증가,   그리고 step1. 부터 반복,  (i = N-2 이 될때까지!)\n",
    "\n",
    "![선택](https://dojinkimm.github.io/assets/imgs/cs/selection_sort.jpg)\n",
    "\n",
    "\n",
    "\n"
   ]
  },
  {
   "cell_type": "code",
   "execution_count": 16,
   "metadata": {},
   "outputs": [
    {
     "data": {
      "text/plain": [
       "'[연습]\\n[11, 3, 28, 43, 9, 4]\\n[3, 11, 28, 43, 9, 4]\\n[3, 4, 28, 43, 9, 11]\\n[3, 4, 9, 43, 28, 11]\\n[3, 4, 9, 11, 28, 43]\\n[3, 4, 9, 11, 28, 43]\\n'"
      ]
     },
     "execution_count": 16,
     "metadata": {},
     "output_type": "execute_result"
    }
   ],
   "source": [
    "\"\"\"\n",
    "[29, 10, 14, 37, 13]\n",
    "[10, 29, 14, 37, 13]\n",
    "[10, 13, 14, 37, 29]\n",
    "[10, 13, 14, 37, 29]\n",
    "[10, 13, 14, 29, 37]\n",
    "\n",
    "\"\"\"\n",
    "\n",
    "\"\"\"[연습]\n",
    "[11, 3, 28, 43, 9, 4]\n",
    "[3, 11, 28, 43, 9, 4]\n",
    "[3, 4, 28, 43, 9, 11]\n",
    "[3, 4, 9, 43, 28, 11]\n",
    "[3, 4, 9, 11, 28, 43]\n",
    "[3, 4, 9, 11, 28, 43]\n",
    "\"\"\""
   ]
  },
  {
   "cell_type": "code",
   "execution_count": 21,
   "metadata": {},
   "outputs": [
    {
     "data": {
      "text/plain": [
       "[3, 28, 4, 9, 11, 43]"
      ]
     },
     "execution_count": 21,
     "metadata": {},
     "output_type": "execute_result"
    }
   ],
   "source": [
    "def selection_sort(seq):\n",
    "    N = len(seq) # 데이터 개수\n",
    "    for i in range(N-1):  # (N-1)번의 사이클\n",
    "        # i번째 우측(i + 1)부터 시작해서 우측에서 가장 최솟값을 찾는다.\n",
    "        # 최솟값의 위치 (min_idx)를 '선택'하는 것이 목표다!\n",
    "        min_idx = 1\n",
    "        for j in range(i+1,N):\n",
    "            if seq[min_idx] > seq[j]: # 더 작은 값이 등장하면 (비교)\n",
    "                min_idx = j # 최솟값 갱신\n",
    "                \n",
    "        # '선택'된 min_idx 번째 데이터와 i번째 데이터 교환 (이동)\n",
    "        seq[i], seq[min_idx] = seq[min_idx], seq[i]\n",
    "        \n",
    "        # print(seq) # 중간과정 출력\n",
    "        \n",
    "    return seq\n",
    "\n",
    "seq = [11, 3, 28, 43, 9, 4]\n",
    "selection_sort(seq)"
   ]
  },
  {
   "cell_type": "markdown",
   "metadata": {},
   "source": [
    "## 성능 고찰\n",
    "- 랜덤, 오름, 내림에서 고른 성능"
   ]
  },
  {
   "cell_type": "code",
   "execution_count": 24,
   "metadata": {},
   "outputs": [
    {
     "name": "stdout",
     "output_type": "stream",
     "text": [
      "1차:선택 : size=1000 경과시간: 0:00:00.057905\n",
      "2차:선택 : size=1000 경과시간: 0:00:00.061902\n",
      "3차:선택 : size=1000 경과시간: 0:00:00.049420\n",
      "4차:선택 : size=1000 경과시간: 0:00:00.042931\n",
      "5차:선택 : size=1000 경과시간: 0:00:00.044449\n",
      "1차:선택 : size=2000 경과시간: 0:00:00.185205\n",
      "2차:선택 : size=2000 경과시간: 0:00:00.177716\n",
      "3차:선택 : size=2000 경과시간: 0:00:00.197683\n",
      "4차:선택 : size=2000 경과시간: 0:00:00.169728\n",
      "5차:선택 : size=2000 경과시간: 0:00:00.184223\n",
      "1차:선택 : size=4000 경과시간: 0:00:00.716830\n",
      "2차:선택 : size=4000 경과시간: 0:00:00.732325\n",
      "3차:선택 : size=4000 경과시간: 0:00:00.700376\n",
      "4차:선택 : size=4000 경과시간: 0:00:00.701393\n",
      "5차:선택 : size=4000 경과시간: 0:00:00.897042\n"
     ]
    }
   ],
   "source": [
    "test_ntimes_sort(selection_sort, 1000, 5, '선택')\n",
    "test_ntimes_sort(selection_sort, 2000, 5, '선택')\n",
    "test_ntimes_sort(selection_sort, 4000, 5, '선택')"
   ]
  },
  {
   "cell_type": "code",
   "execution_count": null,
   "metadata": {},
   "outputs": [],
   "source": []
  },
  {
   "cell_type": "markdown",
   "metadata": {},
   "source": [
    "---\n",
    "# Insertion Sort (삽입정렬)\n",
    "1. i = 1,   i 번째 ‘선택’  하고  i 번째 데이터를 임시 보관 → insData\n",
    "\n",
    "1. j 를 i 왼쪽부터 왼쪽으로 검색해감  j = 0 이 될때까지\n",
    "    - insData 보다  j번째 데이터 비교\n",
    "\t- j번째 데이터가 더 크면  j번째 데이터를 우측으로 이동\n",
    "    - 그렇지 않으면 step 2. 종료 → insData 가 삽입될 위치 발견\n",
    "\n",
    "1. step 2. 가 종료된 위치에 insData 삽입\n",
    "\n",
    "![삽입](https://dojinkimm.github.io/assets/imgs/cs/insertion_sort.png)\n",
    "\n",
    "\n"
   ]
  },
  {
   "cell_type": "code",
   "execution_count": 26,
   "metadata": {},
   "outputs": [],
   "source": [
    "\"\"\"\n",
    "[43, 13, 20, 8]   (시작) [1] 13 선택 [1] 왼쪽으로 13보다 같거나 작은것을 만날때까지 데이터들 우측으로 이동\n",
    "[13, 43, 20, 8]   (cycle1 종료후) [2] 20 선택\n",
    "[13, 20, 43, 8]   (cycle2 종료후) [3] 8 선택\n",
    "[8, 13, 20, 43]   (cycle3 종료후) \n",
    "\n",
    "[3, 11, 28, 43, 9, 4]\n",
    "[3, 11, 28, 43, 9, 4]\n",
    "[3, 11, 28, 43, 9, 4]\n",
    "[3, 9, 11, 28, 43, 4]\n",
    "[3, 4, 9, 11, 28, 43]\n",
    "\"\"\"\n",
    "None"
   ]
  },
  {
   "cell_type": "code",
   "execution_count": 29,
   "metadata": {},
   "outputs": [
    {
     "data": {
      "text/plain": [
       "[3, 4, 9, 11, 28, 43]"
      ]
     },
     "execution_count": 29,
     "metadata": {},
     "output_type": "execute_result"
    }
   ],
   "source": [
    "def insertion_sort(seq):\n",
    "    for i in range(1, len(seq)): # 1부터 시작\n",
    "        \n",
    "        insData = seq[i] # 1번째 데이터선택, 나중에 위치 선정하면 그 자리에 '삽입'된다.\n",
    "        \n",
    "        j = i - 1 # j를 i 왼쪽부터 검색해 나감\n",
    "        \n",
    "        while j >= 0:\n",
    "            if seq[j] > insData: # 삽입하려는 데이터보다 더 튼 것들은\n",
    "                seq[j + 1] = seq[j] # 오른쪽으로 한칸씩 이동\n",
    "            else:\n",
    "                break\n",
    "                \n",
    "            j -= 1\n",
    "            \n",
    "        # 끝난 j 위치의 바로 오른쪽이 insData가 삽입될 위치다.\n",
    "        seq[j + 1] = insData # 삽입될 위치\n",
    "        \n",
    "        # print(seq) # 중간과정 출력\n",
    "        \n",
    "    return seq\n",
    "\n",
    "seq = [11, 3, 28, 43, 9, 4]\n",
    "insertion_sort(seq)"
   ]
  },
  {
   "cell_type": "markdown",
   "metadata": {},
   "source": [
    "## 성능고찰\n",
    "- O(n<sup>2</sup>)\n",
    "- 오름차순으로 되어있는 데이터에선 거의 시간이 걸리지 않는다. --> O(n)에 가깝다."
   ]
  },
  {
   "cell_type": "code",
   "execution_count": 30,
   "metadata": {},
   "outputs": [
    {
     "name": "stdout",
     "output_type": "stream",
     "text": [
      "1차:삽입 : size=1000 경과시간: 0:00:00.083891\n",
      "2차:삽입 : size=1000 경과시간: 0:00:00.054931\n",
      "3차:삽입 : size=1000 경과시간: 0:00:00.051417\n",
      "4차:삽입 : size=1000 경과시간: 0:00:00.051917\n",
      "5차:삽입 : size=1000 경과시간: 0:00:00.072384\n",
      "1차:삽입 : size=2000 경과시간: 0:00:00.218650\n",
      "2차:삽입 : size=2000 경과시간: 0:00:00.210663\n",
      "3차:삽입 : size=2000 경과시간: 0:00:00.214656\n",
      "4차:삽입 : size=2000 경과시간: 0:00:00.216172\n",
      "5차:삽입 : size=2000 경과시간: 0:00:00.233125\n",
      "1차:삽입 : size=4000 경과시간: 0:00:00.896081\n",
      "2차:삽입 : size=4000 경과시간: 0:00:00.877610\n",
      "3차:삽입 : size=4000 경과시간: 0:00:00.884081\n",
      "4차:삽입 : size=4000 경과시간: 0:00:00.885579\n",
      "5차:삽입 : size=4000 경과시간: 0:00:00.913035\n"
     ]
    }
   ],
   "source": [
    "test_ntimes_sort(insertion_sort, 1000, 5, '삽입')\n",
    "test_ntimes_sort(insertion_sort, 2000, 5, '삽입')\n",
    "test_ntimes_sort(insertion_sort, 4000, 5, '삽입')"
   ]
  },
  {
   "cell_type": "code",
   "execution_count": null,
   "metadata": {},
   "outputs": [],
   "source": []
  },
  {
   "cell_type": "code",
   "execution_count": null,
   "metadata": {},
   "outputs": [],
   "source": []
  },
  {
   "cell_type": "code",
   "execution_count": null,
   "metadata": {},
   "outputs": [],
   "source": []
  },
  {
   "cell_type": "code",
   "execution_count": null,
   "metadata": {},
   "outputs": [],
   "source": []
  },
  {
   "cell_type": "code",
   "execution_count": null,
   "metadata": {},
   "outputs": [],
   "source": []
  },
  {
   "cell_type": "code",
   "execution_count": null,
   "metadata": {},
   "outputs": [],
   "source": []
  },
  {
   "cell_type": "code",
   "execution_count": null,
   "metadata": {},
   "outputs": [],
   "source": []
  },
  {
   "cell_type": "code",
   "execution_count": null,
   "metadata": {},
   "outputs": [],
   "source": []
  },
  {
   "cell_type": "code",
   "execution_count": null,
   "metadata": {},
   "outputs": [],
   "source": []
  },
  {
   "cell_type": "code",
   "execution_count": null,
   "metadata": {},
   "outputs": [],
   "source": []
  },
  {
   "cell_type": "code",
   "execution_count": null,
   "metadata": {},
   "outputs": [],
   "source": []
  },
  {
   "cell_type": "code",
   "execution_count": null,
   "metadata": {},
   "outputs": [],
   "source": []
  },
  {
   "cell_type": "code",
   "execution_count": null,
   "metadata": {},
   "outputs": [],
   "source": []
  },
  {
   "cell_type": "code",
   "execution_count": null,
   "metadata": {},
   "outputs": [],
   "source": []
  },
  {
   "cell_type": "code",
   "execution_count": null,
   "metadata": {},
   "outputs": [],
   "source": []
  },
  {
   "cell_type": "code",
   "execution_count": null,
   "metadata": {},
   "outputs": [],
   "source": []
  },
  {
   "cell_type": "code",
   "execution_count": null,
   "metadata": {},
   "outputs": [],
   "source": []
  },
  {
   "cell_type": "code",
   "execution_count": null,
   "metadata": {},
   "outputs": [],
   "source": []
  },
  {
   "cell_type": "code",
   "execution_count": null,
   "metadata": {},
   "outputs": [],
   "source": []
  },
  {
   "cell_type": "code",
   "execution_count": null,
   "metadata": {},
   "outputs": [],
   "source": []
  },
  {
   "cell_type": "code",
   "execution_count": null,
   "metadata": {},
   "outputs": [],
   "source": []
  },
  {
   "cell_type": "code",
   "execution_count": null,
   "metadata": {},
   "outputs": [],
   "source": []
  },
  {
   "cell_type": "code",
   "execution_count": null,
   "metadata": {},
   "outputs": [],
   "source": []
  },
  {
   "cell_type": "code",
   "execution_count": null,
   "metadata": {},
   "outputs": [],
   "source": []
  },
  {
   "cell_type": "code",
   "execution_count": null,
   "metadata": {},
   "outputs": [],
   "source": []
  },
  {
   "cell_type": "code",
   "execution_count": null,
   "metadata": {},
   "outputs": [],
   "source": []
  },
  {
   "cell_type": "code",
   "execution_count": null,
   "metadata": {},
   "outputs": [],
   "source": []
  },
  {
   "cell_type": "code",
   "execution_count": null,
   "metadata": {},
   "outputs": [],
   "source": []
  },
  {
   "cell_type": "code",
   "execution_count": null,
   "metadata": {},
   "outputs": [],
   "source": []
  },
  {
   "cell_type": "code",
   "execution_count": null,
   "metadata": {},
   "outputs": [],
   "source": []
  },
  {
   "cell_type": "code",
   "execution_count": null,
   "metadata": {},
   "outputs": [],
   "source": []
  },
  {
   "cell_type": "code",
   "execution_count": null,
   "metadata": {},
   "outputs": [],
   "source": []
  },
  {
   "cell_type": "code",
   "execution_count": null,
   "metadata": {},
   "outputs": [],
   "source": []
  },
  {
   "cell_type": "code",
   "execution_count": null,
   "metadata": {},
   "outputs": [],
   "source": []
  },
  {
   "cell_type": "code",
   "execution_count": null,
   "metadata": {},
   "outputs": [],
   "source": []
  },
  {
   "cell_type": "code",
   "execution_count": null,
   "metadata": {},
   "outputs": [],
   "source": []
  },
  {
   "cell_type": "code",
   "execution_count": null,
   "metadata": {},
   "outputs": [],
   "source": []
  },
  {
   "cell_type": "code",
   "execution_count": null,
   "metadata": {},
   "outputs": [],
   "source": []
  },
  {
   "cell_type": "code",
   "execution_count": null,
   "metadata": {},
   "outputs": [],
   "source": []
  },
  {
   "cell_type": "code",
   "execution_count": null,
   "metadata": {},
   "outputs": [],
   "source": []
  }
 ],
 "metadata": {
  "kernelspec": {
   "display_name": "Python 3",
   "language": "python",
   "name": "python3"
  },
  "language_info": {
   "codemirror_mode": {
    "name": "ipython",
    "version": 3
   },
   "file_extension": ".py",
   "mimetype": "text/x-python",
   "name": "python",
   "nbconvert_exporter": "python",
   "pygments_lexer": "ipython3",
   "version": "3.7.6"
  }
 },
 "nbformat": 4,
 "nbformat_minor": 4
}
