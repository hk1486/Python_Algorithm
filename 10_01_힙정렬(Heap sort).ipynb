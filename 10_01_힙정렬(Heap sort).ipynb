{
 "cells": [
  {
   "cell_type": "markdown",
   "metadata": {},
   "source": [
    "# 힙 정렬"
   ]
  },
  {
   "cell_type": "code",
   "execution_count": 13,
   "metadata": {},
   "outputs": [],
   "source": [
    "class Heap(object):\n",
    "    def __init__(self, comp):\n",
    "        self.arr = [None] # [0]번째는 None으로 채워좋고 시작\n",
    "        self.size = 0  # 노드의 개수\n",
    "        # 우선순위 비교 함수\n",
    "        self.comp = comp  # comp(d1, d2) 함수: d1이 크면 양수, d2가 크면 음수 리턴\n",
    "        \n",
    "    # 부모노드의 인덱스\n",
    "    def get_parent_idx(self, idx):\n",
    "        # return idx // 2\n",
    "        return (idx >> 1)\n",
    "    \n",
    "    # left 자식 노드의 인덱스\n",
    "    def get_left_idx(self, idx):\n",
    "        # return idx * 2\n",
    "        return (idx << 1)\n",
    "        \n",
    "    # right 자식 노드의 인덱스\n",
    "    def get_right_idx(self, idx):\n",
    "        #return idx * 2 + 1\n",
    "        return ((idx << 1) + 1)\n",
    "    \n",
    "    # 두 자식 중에서 우선순위가 높은 자식의 인덱스 리턴 -> delete 동작에 사용\n",
    "    def getHighPriority(self, idx):\n",
    "        left_idx = self.get_left_idx(idx)\n",
    "        right_idx = self.get_right_idx(idx)\n",
    "        \n",
    "        # 자식 노드 없다면 0 리턴\n",
    "        if left_idx > self.size: return 0\n",
    "        \n",
    "        # 자식 노드가 하나 밖에 없다면\n",
    "        if left_idx == self.size: return left_idx\n",
    "        \n",
    "        # 자식 노드가 두개 라면? 우선순위 비교\n",
    "        if self.comp(self.arr[left_idx], self.arr[right_idx]) < 0:\n",
    "            return right_idx  # 오른쪽 자식의 우선순위가 높다\n",
    "        else:\n",
    "            return left_idx  # 왼쪽 자식의 우선순위가 높거나 같다\n",
    "    \n",
    "    # 힙에 데이터 추가하는 함수 (insert)\n",
    "    def insert(self, data):\n",
    "        # 데이터 추가, 가장 마지막 데이터 다음에 위치\n",
    "        self.arr.append(data)\n",
    "        # 추가된 데이터의 리스트상의 인덱스\n",
    "        idx = len(self.arr) - 1 \n",
    "        \n",
    "        # 결국 새로 추가된 데이터의 idx를 결정하면 된다.\n",
    "        while idx != 1: # 계속 부모와 비교하다가 루트(index = 1)까지 도달하면 종료\n",
    "            parentData = self.arr[self.get_parent_idx(idx)]\n",
    "            if self.comp(data, parentData) > 0: # 부모보다 우선순위가 높다면\n",
    "                self.arr[idx] = parentData  # 부모를 자신의 위치로 끌어 내리고\n",
    "                idx = self.get_parent_idx(idx) # 자신의 idx 값을 부모의 idx 값으로 이동\n",
    "            else:\n",
    "                # 부모보다 우선순위가 낮거나 같으면, 거기서 멈춤\n",
    "                break\n",
    "                \n",
    "        self.arr[idx] = data # idx가 결정된 그 위치에 새로운 data 자리잡기.\n",
    "        self.size += 1\n",
    "                \n",
    "    # 힙에 데이터 삭제하는 함수 (delete)\n",
    "    def delete(self):\n",
    "        if self.size <= 0: return None\n",
    "        \n",
    "        retData = self.arr[1] # 인덱스 1번, 루트 노드가 리턴된다. (delete)\n",
    "        \n",
    "        lastData = self.arr[self.size] # 마지막 노드\n",
    "        \n",
    "        parentidx = 1 # 인덱스 1부터 시작해서 비교하며 내려올 것이다.\n",
    "                        # 비교 다 끝나면 parentidx <-- lastData\n",
    "  \n",
    "        # parentidx 의 자식노드 중 우선순위가 높은걸 선택\n",
    "        # 만약에 자식이 없으면? 종료\n",
    "        while True:\n",
    "            childidx = self.getHighPriority(parentidx) # parentidx 의 자식노드 중 우선순위가 높은걸 선택\n",
    "            if not childidx: break # 만약에 자식이 없으면? 종료\n",
    "        \n",
    "            # 선택된 자식(childidx)과, lastData 우선순위 비교\n",
    "            # 만약 자식의 우선순위가 같거나 낮다면 종료\n",
    "            if self.comp(lastData, self.arr[childidx]) >= 0: break\n",
    "                \n",
    "            # 자식의 우선순위가 더 높다면, 자식(childidx)이 parentidx로 이동하고 \n",
    "            # parentidx는 그 자식의 인덱스(childidx)로 내려와야 한다.\n",
    "            self.arr[parentidx] = self.arr[childidx]\n",
    "            parentidx = childidx\n",
    "            \n",
    "        # while이 끝난 그 자리(parentidx)가 맨 밑에서 올라왔던 lastData가 위치할 자리\n",
    "        self.arr[parentidx] = lastData\n",
    "        self.arr.pop() # 마지막 데이터 삭제\n",
    "        self.size -= 1\n",
    "        \n",
    "        return retData # 최초에 뽑아낸 루트 데이터 리턴\n",
    "    \n",
    "    \n",
    "        pass\n"
   ]
  },
  {
   "cell_type": "code",
   "execution_count": 14,
   "metadata": {},
   "outputs": [],
   "source": [
    "def compPriority(d1, d2):\n",
    "    return d2 - d1  # min-heap"
   ]
  },
  {
   "cell_type": "code",
   "execution_count": 15,
   "metadata": {},
   "outputs": [
    {
     "data": {
      "text/plain": [
       "[0, 1, 2, 2, 3, 3, 5, 5, 6, 6, 8]"
      ]
     },
     "execution_count": 15,
     "metadata": {},
     "output_type": "execute_result"
    }
   ],
   "source": [
    "def heap_sort(seq):\n",
    "    heap = Heap(compPriority)\n",
    "    \n",
    "    for data in seq:\n",
    "        heap.insert(data)\n",
    "        \n",
    "    result = []\n",
    "    \n",
    "    for i in range(heap.size):\n",
    "        result.append(heap.delete())\n",
    "        \n",
    "    return result\n",
    "\n",
    "seq = [3,5,2,6,8,1,0,3,5,6,2]\n",
    "heap_sort(seq)"
   ]
  },
  {
   "cell_type": "markdown",
   "metadata": {},
   "source": [
    "# 힙 정렬 성능 고찰\n",
    "1. **O(*n* log *n*)** \n",
    "\n",
    "\n"
   ]
  },
  {
   "cell_type": "code",
   "execution_count": 16,
   "metadata": {},
   "outputs": [],
   "source": [
    "import time\n",
    "from datetime import timedelta\n",
    "import random\n",
    "import copy   # deepcopy 사용할거다\n",
    "\n",
    "\n",
    "# ※성능체크 시에는 '중간과정 출력' 을 끄고 하세요 ※\n",
    "\n",
    "# 랜덤으로 리스트 작성\n",
    "def gen_rand(num):\n",
    "    data = [i for i in range(num)]\n",
    "    random.shuffle(data)\n",
    "    return data\n",
    "    \n",
    "# 오름차순 리스트 작성\n",
    "def gen_asc(num):\n",
    "    return [i for i in range(num)]\n",
    "\n",
    "# 내림차순 리스트 작성\n",
    "def gen_desc(num):\n",
    "    return [i for i in range(num, 0, -1)]\n",
    "\n",
    "\n",
    "\n",
    "# sort : 정렬함수\n",
    "# data : 정렬할 데이터 (리스트)\n",
    "# title : 정렬 결과 타이틀(str)\n",
    "def test_sort(sort, data, title):\n",
    "    \n",
    "    start_time = time.time()\n",
    "    \n",
    "    result = sort(data)\n",
    "\n",
    "    end_time = time.time()\n",
    "    \n",
    "    assert(result == sorted(data))  # 검증\n",
    "    \n",
    "    elapsed_time = end_time - start_time  # 경과 시간\n",
    "    print('%s: 경과시간 %s' % (title, str(timedelta(seconds = elapsed_time))))\n",
    "    return result\n",
    "\n",
    "# 특정 사이즈의 생성된 데이터 x times 번 sort 수행\n",
    "def test_ntimes_sort(genFunc, sort, title, size=1000, times=5):\n",
    "    \n",
    "    genData = genFunc(size)  # 데이터 생성\n",
    "    for i in range(times):\n",
    "        data = copy.deepcopy(genData) \n",
    "        test_sort(sort, data, (\"%s %d차\" % (title, i + 1))) \n",
    "\n",
    "#----------------        \n",
    "gen_func_list = [\n",
    "    (gen_rand, \"램덤\")\n",
    "    #(gen_asc, \"오름\"),\n",
    "    #(gen_desc, \"내림\")\n",
    "]        \n",
    "        \n",
    "def test_double_up(sort, title, gen_list = gen_func_list, init_size = 1000, num_doubles = 3):\n",
    "    data_size = init_size\n",
    "    for i in range(num_doubles):\n",
    "        print(f'■데이터 SIZE : {data_size}■' )\n",
    "        for genFunc, genType in gen_list:\n",
    "            test_ntimes_sort(genFunc, sort, f'{title}-{genType}{data_size}', data_size, 4)\n",
    "            print()\n",
    "        data_size *= 2\n",
    "            \n",
    "    print('[종료]')\n",
    "    \n",
    "\n",
    "\n",
    "\n"
   ]
  },
  {
   "cell_type": "code",
   "execution_count": 17,
   "metadata": {},
   "outputs": [
    {
     "name": "stdout",
     "output_type": "stream",
     "text": [
      "■데이터 SIZE : 1000■\n",
      "힙정렬-램덤1000 1차: 경과시간 0:00:00.024941\n",
      "힙정렬-램덤1000 2차: 경과시간 0:00:00.019968\n",
      "힙정렬-램덤1000 3차: 경과시간 0:00:00.024486\n",
      "힙정렬-램덤1000 4차: 경과시간 0:00:00.015448\n",
      "\n",
      "■데이터 SIZE : 2000■\n",
      "힙정렬-램덤2000 1차: 경과시간 0:00:00.028455\n",
      "힙정렬-램덤2000 2차: 경과시간 0:00:00.027456\n",
      "힙정렬-램덤2000 3차: 경과시간 0:00:00.028454\n",
      "힙정렬-램덤2000 4차: 경과시간 0:00:00.027976\n",
      "\n",
      "■데이터 SIZE : 4000■\n",
      "힙정렬-램덤4000 1차: 경과시간 0:00:00.075879\n",
      "힙정렬-램덤4000 2차: 경과시간 0:00:00.066891\n",
      "힙정렬-램덤4000 3차: 경과시간 0:00:00.066393\n",
      "힙정렬-램덤4000 4차: 경과시간 0:00:00.062900\n",
      "\n",
      "[종료]\n"
     ]
    }
   ],
   "source": [
    "test_double_up(heap_sort,'힙정렬')"
   ]
  },
  {
   "cell_type": "markdown",
   "metadata": {},
   "source": [
    "# 연산속도도 무시 못한다.\n",
    "- 함수 호출\n",
    "- 곱셈, 나눗셈 >> 덧셈, 뺄셈, 비트연산"
   ]
  },
  {
   "cell_type": "code",
   "execution_count": 11,
   "metadata": {},
   "outputs": [
    {
     "data": {
      "text/plain": [
       "60"
      ]
     },
     "execution_count": 11,
     "metadata": {},
     "output_type": "execute_result"
    }
   ],
   "source": [
    "120 >> 1 # 비트연산자, right-shift\n"
   ]
  },
  {
   "cell_type": "code",
   "execution_count": 12,
   "metadata": {},
   "outputs": [
    {
     "data": {
      "text/plain": [
       "240"
      ]
     },
     "execution_count": 12,
     "metadata": {},
     "output_type": "execute_result"
    }
   ],
   "source": [
    "120 << 1 # 비트연산자,left-shift"
   ]
  },
  {
   "cell_type": "code",
   "execution_count": 24,
   "metadata": {},
   "outputs": [
    {
     "name": "stdout",
     "output_type": "stream",
     "text": [
      "■데이터 SIZE : 10000■\n",
      "힙정렬-랜덤10000 1차: 경과시간 0:00:00.222640\n",
      "힙정렬-랜덤10000 2차: 경과시간 0:00:00.190212\n",
      "힙정렬-랜덤10000 3차: 경과시간 0:00:00.186700\n",
      "힙정렬-랜덤10000 4차: 경과시간 0:00:00.171724\n",
      "\n",
      "■데이터 SIZE : 20000■\n",
      "힙정렬-랜덤20000 1차: 경과시간 0:00:00.403870\n",
      "힙정렬-랜덤20000 2차: 경과시간 0:00:00.389894\n",
      "힙정렬-랜덤20000 3차: 경과시간 0:00:00.391872\n",
      "힙정렬-랜덤20000 4차: 경과시간 0:00:00.408328\n",
      "\n",
      "■데이터 SIZE : 40000■\n",
      "힙정렬-랜덤40000 1차: 경과시간 0:00:00.849138\n",
      "힙정렬-랜덤40000 2차: 경과시간 0:00:00.848139\n",
      "힙정렬-랜덤40000 3차: 경과시간 0:00:00.848657\n",
      "힙정렬-랜덤40000 4차: 경과시간 0:00:00.848639\n",
      "\n",
      "■데이터 SIZE : 80000■\n",
      "힙정렬-랜덤80000 1차: 경과시간 0:00:01.887972\n",
      "힙정렬-랜덤80000 2차: 경과시간 0:00:01.791126\n",
      "힙정렬-랜덤80000 3차: 경과시간 0:00:01.812612\n",
      "힙정렬-랜덤80000 4차: 경과시간 0:00:01.852529\n",
      "\n",
      "[종료]\n"
     ]
    }
   ],
   "source": [
    "test_double_up(heap_sort,'힙정렬', [(gen_rand, '랜덤')], 10000, 4)"
   ]
  },
  {
   "cell_type": "code",
   "execution_count": null,
   "metadata": {},
   "outputs": [],
   "source": []
  },
  {
   "cell_type": "code",
   "execution_count": null,
   "metadata": {},
   "outputs": [],
   "source": []
  },
  {
   "cell_type": "code",
   "execution_count": null,
   "metadata": {},
   "outputs": [],
   "source": []
  },
  {
   "cell_type": "code",
   "execution_count": null,
   "metadata": {},
   "outputs": [],
   "source": []
  },
  {
   "cell_type": "code",
   "execution_count": null,
   "metadata": {},
   "outputs": [],
   "source": []
  },
  {
   "cell_type": "code",
   "execution_count": null,
   "metadata": {},
   "outputs": [],
   "source": []
  },
  {
   "cell_type": "code",
   "execution_count": null,
   "metadata": {},
   "outputs": [],
   "source": []
  },
  {
   "cell_type": "code",
   "execution_count": null,
   "metadata": {},
   "outputs": [],
   "source": []
  },
  {
   "cell_type": "code",
   "execution_count": null,
   "metadata": {},
   "outputs": [],
   "source": []
  },
  {
   "cell_type": "code",
   "execution_count": null,
   "metadata": {},
   "outputs": [],
   "source": []
  },
  {
   "cell_type": "code",
   "execution_count": null,
   "metadata": {},
   "outputs": [],
   "source": []
  },
  {
   "cell_type": "code",
   "execution_count": null,
   "metadata": {},
   "outputs": [],
   "source": []
  },
  {
   "cell_type": "code",
   "execution_count": null,
   "metadata": {},
   "outputs": [],
   "source": []
  },
  {
   "cell_type": "code",
   "execution_count": null,
   "metadata": {},
   "outputs": [],
   "source": []
  },
  {
   "cell_type": "code",
   "execution_count": null,
   "metadata": {},
   "outputs": [],
   "source": []
  },
  {
   "cell_type": "code",
   "execution_count": null,
   "metadata": {},
   "outputs": [],
   "source": []
  },
  {
   "cell_type": "code",
   "execution_count": null,
   "metadata": {},
   "outputs": [],
   "source": []
  },
  {
   "cell_type": "code",
   "execution_count": null,
   "metadata": {},
   "outputs": [],
   "source": []
  },
  {
   "cell_type": "code",
   "execution_count": null,
   "metadata": {},
   "outputs": [],
   "source": []
  },
  {
   "cell_type": "code",
   "execution_count": null,
   "metadata": {},
   "outputs": [],
   "source": []
  },
  {
   "cell_type": "code",
   "execution_count": null,
   "metadata": {},
   "outputs": [],
   "source": []
  },
  {
   "cell_type": "code",
   "execution_count": null,
   "metadata": {},
   "outputs": [],
   "source": []
  },
  {
   "cell_type": "code",
   "execution_count": null,
   "metadata": {},
   "outputs": [],
   "source": []
  },
  {
   "cell_type": "code",
   "execution_count": null,
   "metadata": {},
   "outputs": [],
   "source": []
  },
  {
   "cell_type": "code",
   "execution_count": null,
   "metadata": {},
   "outputs": [],
   "source": []
  },
  {
   "cell_type": "code",
   "execution_count": null,
   "metadata": {},
   "outputs": [],
   "source": []
  },
  {
   "cell_type": "code",
   "execution_count": null,
   "metadata": {},
   "outputs": [],
   "source": []
  },
  {
   "cell_type": "code",
   "execution_count": null,
   "metadata": {},
   "outputs": [],
   "source": []
  },
  {
   "cell_type": "code",
   "execution_count": null,
   "metadata": {},
   "outputs": [],
   "source": []
  },
  {
   "cell_type": "code",
   "execution_count": null,
   "metadata": {},
   "outputs": [],
   "source": []
  },
  {
   "cell_type": "code",
   "execution_count": null,
   "metadata": {},
   "outputs": [],
   "source": []
  },
  {
   "cell_type": "code",
   "execution_count": null,
   "metadata": {},
   "outputs": [],
   "source": []
  },
  {
   "cell_type": "code",
   "execution_count": null,
   "metadata": {},
   "outputs": [],
   "source": []
  },
  {
   "cell_type": "code",
   "execution_count": null,
   "metadata": {},
   "outputs": [],
   "source": []
  },
  {
   "cell_type": "code",
   "execution_count": null,
   "metadata": {},
   "outputs": [],
   "source": []
  },
  {
   "cell_type": "code",
   "execution_count": null,
   "metadata": {},
   "outputs": [],
   "source": []
  },
  {
   "cell_type": "code",
   "execution_count": null,
   "metadata": {},
   "outputs": [],
   "source": []
  },
  {
   "cell_type": "code",
   "execution_count": null,
   "metadata": {},
   "outputs": [],
   "source": []
  },
  {
   "cell_type": "code",
   "execution_count": null,
   "metadata": {},
   "outputs": [],
   "source": []
  },
  {
   "cell_type": "code",
   "execution_count": null,
   "metadata": {},
   "outputs": [],
   "source": []
  },
  {
   "cell_type": "code",
   "execution_count": null,
   "metadata": {},
   "outputs": [],
   "source": []
  },
  {
   "cell_type": "code",
   "execution_count": null,
   "metadata": {},
   "outputs": [],
   "source": []
  },
  {
   "cell_type": "code",
   "execution_count": null,
   "metadata": {},
   "outputs": [],
   "source": []
  },
  {
   "cell_type": "code",
   "execution_count": null,
   "metadata": {},
   "outputs": [],
   "source": []
  },
  {
   "cell_type": "code",
   "execution_count": null,
   "metadata": {},
   "outputs": [],
   "source": []
  },
  {
   "cell_type": "code",
   "execution_count": null,
   "metadata": {},
   "outputs": [],
   "source": []
  },
  {
   "cell_type": "code",
   "execution_count": null,
   "metadata": {},
   "outputs": [],
   "source": []
  },
  {
   "cell_type": "code",
   "execution_count": null,
   "metadata": {},
   "outputs": [],
   "source": []
  },
  {
   "cell_type": "code",
   "execution_count": null,
   "metadata": {},
   "outputs": [],
   "source": []
  },
  {
   "cell_type": "code",
   "execution_count": null,
   "metadata": {},
   "outputs": [],
   "source": []
  },
  {
   "cell_type": "code",
   "execution_count": null,
   "metadata": {},
   "outputs": [],
   "source": []
  },
  {
   "cell_type": "code",
   "execution_count": null,
   "metadata": {},
   "outputs": [],
   "source": []
  },
  {
   "cell_type": "code",
   "execution_count": null,
   "metadata": {},
   "outputs": [],
   "source": []
  },
  {
   "cell_type": "code",
   "execution_count": null,
   "metadata": {},
   "outputs": [],
   "source": []
  },
  {
   "cell_type": "code",
   "execution_count": null,
   "metadata": {},
   "outputs": [],
   "source": []
  },
  {
   "cell_type": "code",
   "execution_count": null,
   "metadata": {},
   "outputs": [],
   "source": []
  },
  {
   "cell_type": "code",
   "execution_count": null,
   "metadata": {},
   "outputs": [],
   "source": []
  },
  {
   "cell_type": "code",
   "execution_count": null,
   "metadata": {},
   "outputs": [],
   "source": []
  }
 ],
 "metadata": {
  "kernelspec": {
   "display_name": "Python 3",
   "language": "python",
   "name": "python3"
  },
  "language_info": {
   "codemirror_mode": {
    "name": "ipython",
    "version": 3
   },
   "file_extension": ".py",
   "mimetype": "text/x-python",
   "name": "python",
   "nbconvert_exporter": "python",
   "pygments_lexer": "ipython3",
   "version": "3.7.6"
  }
 },
 "nbformat": 4,
 "nbformat_minor": 4
}
