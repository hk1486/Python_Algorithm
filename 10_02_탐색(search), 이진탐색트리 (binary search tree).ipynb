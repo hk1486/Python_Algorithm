{
 "cells": [
  {
   "cell_type": "markdown",
   "metadata": {},
   "source": [
    "# 탐색 (Search)\n",
    "- 애시당초 저장할때  ‘탐색’ 에 최적화된 형태로 저장\n",
    "- 자료구조가 중요한 이유.\n",
    "    - 애시당초 ‘목적’에 맞는 설계를 해야 한다\n",
    "    - ex) 힙 → 애시당초 저장할때 ‘최댓값, 최솟값’  뽑아내기에 최적화된 형태의 이진트리로 저장됨.\n",
    "\n",
    "\n",
    "\n"
   ]
  },
  {
   "cell_type": "markdown",
   "metadata": {},
   "source": [
    "# 이진 탐색 트리 (Binary Search Tree: BST) \n",
    "탐색(검색)에 특화된 자료구조\n",
    "\n",
    "- 이진 탐색 트리의 노드에 저장된 키(key)는 유일! \n",
    "- 루트 노드의 키 > 왼쪽 서브 트리를 구성하는 키 \n",
    "- 루트 노드의 키 < 오른쪽 서브 트리를 구성하는 키 \n",
    "- 왼쪽과 오른쪽 서브 트리도 이진 탐색 트리!\n",
    "\n",
    "![bst](https://upload.wikimedia.org/wikipedia/commons/thumb/d/da/Binary_search_tree.svg/200px-Binary_search_tree.svg.png)\n",
    "\n",
    "\n",
    "\n"
   ]
  },
  {
   "cell_type": "markdown",
   "metadata": {},
   "source": [
    "# BST 에 새로운 데이터 추가 (insert)\n",
    "![insert](https://www.techiedelight.com/wp-content/uploads/Insert-into-BST.png)\n",
    "\n",
    "\n"
   ]
  },
  {
   "cell_type": "code",
   "execution_count": 8,
   "metadata": {},
   "outputs": [],
   "source": [
    "class NodeBST:\n",
    "    def __init__(self,value=None):\n",
    "        self.value = value\n",
    "        self.left = None\n",
    "        self.right = None\n",
    "        \n",
    "    def __repr__(self):\n",
    "        return f'{self.value}'\n",
    "    \n",
    "    # 주어진 값(value)을 BST에 추가(노드 추가), 재귀적으로 정의\n",
    "    def _add_next_node(self,value):\n",
    "        new_node = NodeBST(value)\n",
    "        \n",
    "        # 자기보다 값이 크면 right로..\n",
    "        if value > self.value:\n",
    "            self.right = self.right and self.right._add_next_node(value) or new_node\n",
    "            \n",
    "        # 자기보다 값이 작으면 left로..\n",
    "        elif value < self.value:\n",
    "            self.left = self.left and self.left._add_next_node(value) or new_node\n",
    "            \n",
    "        else:\n",
    "            print('중복 노드를 허용하지 않습니다.')\n",
    "            \n",
    "        return self\n",
    "    \n",
    "    # BST에서 주어진 값(value)의 노드를 찾아서 리턴, 재귀적으로 정의\n",
    "    # 못찾으면 False 리턴\n",
    "    def _search_for_node(self, value):\n",
    "        if self.value == value:\n",
    "            return self.value # 찾았다!\n",
    "        elif self.left and value < self.value: # 작으면 왼쪽에서 검색\n",
    "            return self.left._search_for_node(value)\n",
    "        elif self.right and value > self.value: # 크면 오른쪽에서 검색\n",
    "            return self.right._search_for_node(value)\n",
    "        else:\n",
    "            return False"
   ]
  },
  {
   "cell_type": "code",
   "execution_count": 9,
   "metadata": {},
   "outputs": [],
   "source": [
    "class BinarySearchTree:\n",
    "    def __init__(self):\n",
    "        self.root = None\n",
    "        \n",
    "    # BST에 새로운 노드 추가, 중복되는 값은 추가 안됨.\n",
    "    def insert(self,value):\n",
    "        if not self.root: # 루트가 없었다면 걍 추가\n",
    "            self.root = NodeBST(value)\n",
    "        else: # 루트로부터 시작하여 BST에 노드 추가\n",
    "            self.root._add_next_node(value)\n",
    "            \n",
    "    # BST에서 특정 노드 값을 찾아서 노드 리턴, 못찾으면 False\n",
    "    def search(self, value):\n",
    "        return self.root._search_for_node(value)"
   ]
  },
  {
   "cell_type": "code",
   "execution_count": 10,
   "metadata": {},
   "outputs": [],
   "source": [
    "bst = BinarySearchTree()\n",
    "for i in [6,4,8,2,5,7,9,1,3]:\n",
    "    bst.insert(i)"
   ]
  },
  {
   "cell_type": "code",
   "execution_count": 11,
   "metadata": {},
   "outputs": [
    {
     "name": "stdout",
     "output_type": "stream",
     "text": [
      "False\n",
      "1\n",
      "2\n",
      "3\n",
      "4\n",
      "5\n",
      "6\n",
      "7\n",
      "8\n",
      "9\n"
     ]
    }
   ],
   "source": [
    "for i in range(10):\n",
    "    print(bst.search(i))"
   ]
  },
  {
   "cell_type": "markdown",
   "metadata": {},
   "source": [
    "---\n",
    "# 성능고찰\n",
    "이진 탐색트리의 성능(time complexity) 는  **O(log *n*)**  \n",
    "한번 검색할때마다 검색할 대상이 (대략) 반으로 쪼개지기 때문.\n",
    "\n",
    "![bst성능](https://dthumb-phinf.pstatic.net/?src=%22http%3A%2F%2Fcfile30.uf.tistory.com%2Fimage%2F2452DE5057DEC4621E28C4%22&type=w2)\n",
    "\n",
    "\n",
    "# 선형 탐색 (linear search) vs 이진탐색 (binary search)\n",
    "![linear](https://media.geeksforgeeks.org/wp-content/uploads/Linear.png)\n",
    "![binary](https://media.geeksforgeeks.org/wp-content/uploads/binary-3.png)\n",
    "\n",
    "\n",
    "\n",
    "\n"
   ]
  },
  {
   "cell_type": "code",
   "execution_count": 12,
   "metadata": {},
   "outputs": [],
   "source": [
    "import time\n",
    "from datetime import timedelta\n",
    "import random\n",
    "import copy   # deepcopy 사용할거다\n",
    "\n",
    "# 랜덤으로 리스트 작성\n",
    "def gen_rand(num):\n",
    "    data = [i for i in range(num)]\n",
    "    random.shuffle(data)\n",
    "    return data\n",
    "    \n",
    "# 오름차순 리스트 작성\n",
    "def gen_asc(num):\n",
    "    return [i for i in range(num)]\n",
    "\n",
    "# 내림차순 리스트 작성\n",
    "def gen_desc(num):\n",
    "    return [i for i in range(num - 1, -1, -1)]\n",
    "\n",
    "def test_search(obj, search_data, title):\n",
    "    \n",
    "    start_time = time.time()\n",
    "    for data in search_data:\n",
    "        found_data = obj.search(data)\n",
    "\n",
    "    end_time = time.time()    \n",
    "    \n",
    "    elapsed_time = end_time - start_time  # 경과 시간\n",
    "    \n",
    "    \n",
    "    print('%s: 평균검색시간 %s' % (title, str(timedelta(seconds = elapsed_time / len(search_data)))))\n",
    "\n",
    "    \n",
    "# times 만큼 같은 데이터에서 같은 조건으로 반복\n",
    "def test_ntimes(title, gen = \"랜덤\", size=1000, times=5):\n",
    "    \n",
    "    ordered_data = gen_asc(size)  # 오름차순 데이터\n",
    "    \n",
    "    if gen == \"랜덤\":\n",
    "        input_data = gen_rand(size)\n",
    "    elif gen == \"오름\":\n",
    "        input_data = ordered_data\n",
    "    elif gen == \"내림\":\n",
    "        input_data = gen_desc(size)\n",
    "    else:\n",
    "        print('gen 오류')\n",
    "        return\n",
    "\n",
    "\n",
    "#     ll = LinkedListFIFO()\n",
    "    search_ds = BinarySearchTree()\n",
    "    for data in input_data:\n",
    "        search_ds.insert(data)\n",
    "        \n",
    "    for i in range(times):        \n",
    "        test_search(search_ds, ordered_data, (\"%s-%s %d %d차\" % (title, gen, size, i + 1)))\n",
    "        \n",
    "    print()\n",
    "\n",
    "        \n",
    "        #----------------        \n",
    "gen_func_list = [\n",
    "    (gen_rand, \"램덤\")\n",
    "    #(gen_asc, \"오름\"),\n",
    "    #(gen_desc, \"내림\")\n",
    "]   \n",
    "\n",
    "# # search() 함수 실행\n",
    "# def test_double_up(func, title, gen_list = gen_func_list, init_size=10000, num_doubles = 3):\n",
    "#     data_size = init_size\n",
    "#     for i in range(num_doubles):\n",
    "#         print(f'■데이터 SIZE : {data_size}■' )\n",
    "#         for genFunc, genType in gen_list:\n",
    "#             test_ntimes(genFunc, func, f'{title}-{genType}{data_size}', data_size, 3)\n",
    "#             print()\n",
    "            \n",
    "#         data_size *= 2\n",
    "        \n",
    "#     print('[종료]')\n",
    "        \n",
    "\n",
    "\n"
   ]
  },
  {
   "cell_type": "code",
   "execution_count": 14,
   "metadata": {},
   "outputs": [
    {
     "name": "stdout",
     "output_type": "stream",
     "text": [
      "BST-랜덤 20000 1차: 평균검색시간 0:00:00.000007\n",
      "BST-랜덤 20000 2차: 평균검색시간 0:00:00.000007\n",
      "BST-랜덤 20000 3차: 평균검색시간 0:00:00.000007\n",
      "\n",
      "\n",
      "BST-랜덤 40000 1차: 평균검색시간 0:00:00.000007\n",
      "BST-랜덤 40000 2차: 평균검색시간 0:00:00.000007\n",
      "BST-랜덤 40000 3차: 평균검색시간 0:00:00.000007\n",
      "\n",
      "\n",
      "BST-랜덤 80000 1차: 평균검색시간 0:00:00.000008\n",
      "BST-랜덤 80000 2차: 평균검색시간 0:00:00.000008\n",
      "BST-랜덤 80000 3차: 평균검색시간 0:00:00.000009\n",
      "\n",
      "\n",
      "BST-랜덤 160000 1차: 평균검색시간 0:00:00.000008\n",
      "BST-랜덤 160000 2차: 평균검색시간 0:00:00.000008\n",
      "BST-랜덤 160000 3차: 평균검색시간 0:00:00.000008\n",
      "\n",
      "\n"
     ]
    }
   ],
   "source": [
    "test_ntimes(\"BST\",\"랜덤\",20000,3)\n",
    "print()\n",
    "test_ntimes(\"BST\",\"랜덤\",40000,3)\n",
    "print()\n",
    "test_ntimes(\"BST\",\"랜덤\",80000,3)\n",
    "print()\n",
    "test_ntimes(\"BST\",\"랜덤\",160000,3)\n",
    "print()"
   ]
  },
  {
   "cell_type": "markdown",
   "metadata": {},
   "source": [
    "---\n",
    "## BST 의 최악의 상황 (Worst case 는 무엇일까?)\n",
    "**skewed binary search tree (치우친상태)**    vs  **balanced binary search tree (균형잡힌 상태)**\n",
    "\n",
    "치운친 상태에서는 **O(n)** 에 수렴한다\n",
    "\n",
    "<img src=\"http://bluehawk.monmouth.edu/~rclayton/web-pages/s11-503/baltreesf1.png\" style=\"float:left\"/><br>\n",
    "\n",
    "\n",
    "\n"
   ]
  },
  {
   "cell_type": "code",
   "execution_count": 17,
   "metadata": {},
   "outputs": [
    {
     "name": "stdout",
     "output_type": "stream",
     "text": [
      "BST-오름 100 1차: 평균검색시간 0:00:00.000030\n",
      "BST-오름 100 2차: 평균검색시간 0:00:00.000025\n",
      "BST-오름 100 3차: 평균검색시간 0:00:00.000020\n",
      "\n",
      "\n",
      "BST-오름 200 1차: 평균검색시간 0:00:00.000055\n",
      "BST-오름 200 2차: 평균검색시간 0:00:00.000052\n",
      "BST-오름 200 3차: 평균검색시간 0:00:00.000040\n",
      "\n",
      "\n",
      "BST-오름 400 1차: 평균검색시간 0:00:00.000069\n",
      "BST-오름 400 2차: 평균검색시간 0:00:00.000071\n",
      "BST-오름 400 3차: 평균검색시간 0:00:00.000072\n",
      "\n",
      "\n",
      "BST-오름 800 1차: 평균검색시간 0:00:00.000145\n",
      "BST-오름 800 2차: 평균검색시간 0:00:00.000146\n",
      "BST-오름 800 3차: 평균검색시간 0:00:00.000187\n",
      "\n",
      "\n"
     ]
    }
   ],
   "source": [
    "test_ntimes('BST',\"오름\",100,3)\n",
    "print()\n",
    "test_ntimes('BST',\"오름\",200,3)\n",
    "print()\n",
    "test_ntimes('BST',\"오름\",400,3)\n",
    "print()\n",
    "test_ntimes('BST',\"오름\",800,3)\n",
    "print()"
   ]
  },
  {
   "cell_type": "code",
   "execution_count": null,
   "metadata": {},
   "outputs": [],
   "source": []
  },
  {
   "cell_type": "code",
   "execution_count": null,
   "metadata": {},
   "outputs": [],
   "source": []
  },
  {
   "cell_type": "code",
   "execution_count": null,
   "metadata": {},
   "outputs": [],
   "source": []
  },
  {
   "cell_type": "code",
   "execution_count": null,
   "metadata": {},
   "outputs": [],
   "source": []
  },
  {
   "cell_type": "code",
   "execution_count": null,
   "metadata": {},
   "outputs": [],
   "source": []
  },
  {
   "cell_type": "code",
   "execution_count": null,
   "metadata": {},
   "outputs": [],
   "source": []
  },
  {
   "cell_type": "code",
   "execution_count": null,
   "metadata": {},
   "outputs": [],
   "source": []
  },
  {
   "cell_type": "code",
   "execution_count": null,
   "metadata": {},
   "outputs": [],
   "source": []
  },
  {
   "cell_type": "code",
   "execution_count": null,
   "metadata": {},
   "outputs": [],
   "source": []
  },
  {
   "cell_type": "code",
   "execution_count": null,
   "metadata": {},
   "outputs": [],
   "source": []
  },
  {
   "cell_type": "code",
   "execution_count": null,
   "metadata": {},
   "outputs": [],
   "source": []
  },
  {
   "cell_type": "code",
   "execution_count": null,
   "metadata": {},
   "outputs": [],
   "source": []
  },
  {
   "cell_type": "code",
   "execution_count": null,
   "metadata": {},
   "outputs": [],
   "source": []
  },
  {
   "cell_type": "code",
   "execution_count": null,
   "metadata": {},
   "outputs": [],
   "source": []
  },
  {
   "cell_type": "code",
   "execution_count": null,
   "metadata": {},
   "outputs": [],
   "source": []
  },
  {
   "cell_type": "code",
   "execution_count": null,
   "metadata": {},
   "outputs": [],
   "source": []
  },
  {
   "cell_type": "code",
   "execution_count": null,
   "metadata": {},
   "outputs": [],
   "source": []
  },
  {
   "cell_type": "code",
   "execution_count": null,
   "metadata": {},
   "outputs": [],
   "source": []
  },
  {
   "cell_type": "code",
   "execution_count": null,
   "metadata": {},
   "outputs": [],
   "source": []
  },
  {
   "cell_type": "code",
   "execution_count": null,
   "metadata": {},
   "outputs": [],
   "source": []
  },
  {
   "cell_type": "code",
   "execution_count": null,
   "metadata": {},
   "outputs": [],
   "source": []
  },
  {
   "cell_type": "code",
   "execution_count": null,
   "metadata": {},
   "outputs": [],
   "source": []
  },
  {
   "cell_type": "code",
   "execution_count": null,
   "metadata": {},
   "outputs": [],
   "source": []
  },
  {
   "cell_type": "code",
   "execution_count": null,
   "metadata": {},
   "outputs": [],
   "source": []
  },
  {
   "cell_type": "code",
   "execution_count": null,
   "metadata": {},
   "outputs": [],
   "source": []
  },
  {
   "cell_type": "code",
   "execution_count": null,
   "metadata": {},
   "outputs": [],
   "source": []
  },
  {
   "cell_type": "code",
   "execution_count": null,
   "metadata": {},
   "outputs": [],
   "source": []
  },
  {
   "cell_type": "code",
   "execution_count": null,
   "metadata": {},
   "outputs": [],
   "source": []
  },
  {
   "cell_type": "code",
   "execution_count": null,
   "metadata": {},
   "outputs": [],
   "source": []
  },
  {
   "cell_type": "code",
   "execution_count": null,
   "metadata": {},
   "outputs": [],
   "source": []
  },
  {
   "cell_type": "code",
   "execution_count": null,
   "metadata": {},
   "outputs": [],
   "source": []
  },
  {
   "cell_type": "code",
   "execution_count": null,
   "metadata": {},
   "outputs": [],
   "source": []
  },
  {
   "cell_type": "code",
   "execution_count": null,
   "metadata": {},
   "outputs": [],
   "source": []
  },
  {
   "cell_type": "code",
   "execution_count": null,
   "metadata": {},
   "outputs": [],
   "source": []
  },
  {
   "cell_type": "code",
   "execution_count": null,
   "metadata": {},
   "outputs": [],
   "source": []
  },
  {
   "cell_type": "code",
   "execution_count": null,
   "metadata": {},
   "outputs": [],
   "source": []
  },
  {
   "cell_type": "code",
   "execution_count": null,
   "metadata": {},
   "outputs": [],
   "source": []
  },
  {
   "cell_type": "code",
   "execution_count": null,
   "metadata": {},
   "outputs": [],
   "source": []
  },
  {
   "cell_type": "code",
   "execution_count": null,
   "metadata": {},
   "outputs": [],
   "source": []
  },
  {
   "cell_type": "code",
   "execution_count": null,
   "metadata": {},
   "outputs": [],
   "source": []
  },
  {
   "cell_type": "code",
   "execution_count": null,
   "metadata": {},
   "outputs": [],
   "source": []
  },
  {
   "cell_type": "code",
   "execution_count": null,
   "metadata": {},
   "outputs": [],
   "source": []
  },
  {
   "cell_type": "code",
   "execution_count": null,
   "metadata": {},
   "outputs": [],
   "source": []
  },
  {
   "cell_type": "code",
   "execution_count": null,
   "metadata": {},
   "outputs": [],
   "source": []
  },
  {
   "cell_type": "code",
   "execution_count": null,
   "metadata": {},
   "outputs": [],
   "source": []
  },
  {
   "cell_type": "code",
   "execution_count": null,
   "metadata": {},
   "outputs": [],
   "source": []
  },
  {
   "cell_type": "code",
   "execution_count": null,
   "metadata": {},
   "outputs": [],
   "source": []
  },
  {
   "cell_type": "code",
   "execution_count": null,
   "metadata": {},
   "outputs": [],
   "source": []
  },
  {
   "cell_type": "code",
   "execution_count": null,
   "metadata": {},
   "outputs": [],
   "source": []
  },
  {
   "cell_type": "code",
   "execution_count": null,
   "metadata": {},
   "outputs": [],
   "source": []
  },
  {
   "cell_type": "code",
   "execution_count": null,
   "metadata": {},
   "outputs": [],
   "source": []
  }
 ],
 "metadata": {
  "kernelspec": {
   "display_name": "Python 3",
   "language": "python",
   "name": "python3"
  },
  "language_info": {
   "codemirror_mode": {
    "name": "ipython",
    "version": 3
   },
   "file_extension": ".py",
   "mimetype": "text/x-python",
   "name": "python",
   "nbconvert_exporter": "python",
   "pygments_lexer": "ipython3",
   "version": "3.7.6"
  }
 },
 "nbformat": 4,
 "nbformat_minor": 4
}
